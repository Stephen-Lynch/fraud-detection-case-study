{
 "cells": [
  {
   "cell_type": "code",
   "execution_count": 1,
   "metadata": {},
   "outputs": [],
   "source": [
    "import pandas as pd\n",
    "import numpy as np\n",
    "import seaborn as sns\n",
    "import matplotlib.pyplot as plt\n",
    "\n",
    "from statsmodels.tools import add_constant\n",
    "from statsmodels.discrete.discrete_model import Logit\n",
    "\n",
    "from sklearn.datasets import make_classification\n",
    "from sklearn.linear_model import LogisticRegression\n",
    "from sklearn.model_selection import KFold, train_test_split\n",
    "from sklearn.metrics import accuracy_score, precision_score, recall_score\n",
    "from sklearn.metrics import classification_report"
   ]
  },
  {
   "cell_type": "code",
   "execution_count": 10,
   "metadata": {},
   "outputs": [],
   "source": [
    "df = pd.read_csv('data/final_features_with_Grant.csv')"
   ]
  },
  {
   "cell_type": "code",
   "execution_count": 11,
   "metadata": {},
   "outputs": [
    {
     "data": {
      "text/plain": [
       "1293"
      ]
     },
     "execution_count": 11,
     "metadata": {},
     "output_type": "execute_result"
    }
   ],
   "source": [
    "# Balanced Data\n",
    "\n",
    "Non_fraud = df[(df['Label'] == 0)]\n",
    "\n",
    "Fraud = df[(df['Label'] == 1)]\n",
    "\n",
    "len(Fraud)\n",
    "\n",
    "Non_fraud_samp = Non_fraud.sample(n=len(Fraud))\n",
    "\n",
    "len(Non_fraud_samp)"
   ]
  },
  {
   "cell_type": "code",
   "execution_count": 12,
   "metadata": {},
   "outputs": [],
   "source": [
    "feat_df = pd.concat([Fraud, Non_fraud_samp], axis=0)"
   ]
  },
  {
   "cell_type": "code",
   "execution_count": 22,
   "metadata": {},
   "outputs": [],
   "source": [
    "# Fraud = X_train[(y_train == 1)]\n",
    "# Fraud\n",
    "\n",
    "\n",
    "# len(Fraud)\n",
    "\n",
    "# Non_fraud_samp = Non_fraud.sample(n=len(Fraud))\n",
    "\n",
    "# len(Non_fraud_samp)\n",
    "\n",
    "# X_train = pd.concat([Fraud, Non_fraud_samp], axis=0)\n",
    "\n",
    "\n",
    "\n",
    "\n",
    "# # Balanced the training\n",
    "\n",
    "# Non_fraud = X_train[(y_train == 0)]\n",
    "\n",
    "# Fraud = X_train[(y_train == 1)]\n",
    "\n",
    "# len(Fraud)\n",
    "\n",
    "# Non_fraud_samp = Non_fraud.sample(n=len(Fraud))\n",
    "\n",
    "# len(Non_fraud_samp)\n",
    "\n",
    "# X_train = pd.concat([Fraud, Non_fraud_samp], axis=0)\n",
    "\n",
    "\n",
    "# X = df[['body_length', 'channels', 'fb_published', 'has_logo', 'name_length',\n",
    "#        'org_facebook', 'org_twitter', 'show_map', 'user_age', 'user_type',\n",
    "#              'previous_payout0', 'has_header_0.0', 'has_header_1.0',\n",
    "#        'has_header_nan', 'yahoo', 'is_fr', 'is_org', 'delivery_method_0.0',\n",
    "#        'delivery_method_1.0', 'delivery_method_3.0', 'delivery_method_nan',\n",
    "#        'ticket_cost', 'ticket_availability', 'ticket_quant_total']].values\n",
    "\n",
    "# y = df['Label'].values\n",
    "\n",
    "# # logit_model = Logit(y, X).fit()\n",
    "\n",
    "# # X_train, X_test, y_train, y_test = train_test_split(X, y, random_state=42, stratify=y)"
   ]
  },
  {
   "cell_type": "markdown",
   "metadata": {},
   "source": [
    "### Models with balanced data"
   ]
  },
  {
   "cell_type": "code",
   "execution_count": 21,
   "metadata": {},
   "outputs": [
    {
     "name": "stdout",
     "output_type": "stream",
     "text": [
      "              precision    recall  f1-score   support\n",
      "\n",
      "   Non-Fraud       0.98      0.81      0.89      3262\n",
      "       Fraud       0.31      0.86      0.45       323\n",
      "\n",
      "    accuracy                           0.81      3585\n",
      "   macro avg       0.65      0.84      0.67      3585\n",
      "weighted avg       0.92      0.81      0.85      3585\n",
      "\n"
     ]
    },
    {
     "name": "stderr",
     "output_type": "stream",
     "text": [
      "/opt/anaconda3/lib/python3.7/site-packages/sklearn/linear_model/_logistic.py:764: ConvergenceWarning: lbfgs failed to converge (status=1):\n",
      "STOP: TOTAL NO. of ITERATIONS REACHED LIMIT.\n",
      "\n",
      "Increase the number of iterations (max_iter) or scale the data as shown in:\n",
      "    https://scikit-learn.org/stable/modules/preprocessing.html\n",
      "Please also refer to the documentation for alternative solver options:\n",
      "    https://scikit-learn.org/stable/modules/linear_model.html#logistic-regression\n",
      "  extra_warning_msg=_LOGISTIC_SOLVER_CONVERGENCE_MSG)\n"
     ]
    }
   ],
   "source": [
    "# Full Logistic Regression\n",
    "\n",
    "df_train, df_test = train_test_split(df, random_state=42, stratify=df.Label)\n",
    "\n",
    "Non_fraud = df_train[(df_train['Label'] == 0)]\n",
    "\n",
    "Fraud = df_train[(df_train['Label'] == 1)]\n",
    "\n",
    "Non_fraud_samp = Non_fraud.sample(n=len(Fraud))\n",
    "\n",
    "df_train_ = pd.concat([Fraud, Non_fraud_samp], axis=0)\n",
    "\n",
    "X_train = df_train_[['body_length', 'channels', 'fb_published', 'has_logo', 'name_length',\n",
    "       'org_facebook', 'org_twitter', 'show_map', 'user_age', 'user_type',\n",
    "             'previous_payout0', 'has_header_0.0', 'has_header_1.0',\n",
    "       'has_header_nan', 'yahoo', 'is_fr', 'is_org', 'delivery_method_0.0',\n",
    "       'delivery_method_1.0', 'delivery_method_3.0', 'delivery_method_nan',\n",
    "       'ticket_cost', 'ticket_availability', 'ticket_quant_total']].values\n",
    "\n",
    "y_train = df_train_['Label'].values\n",
    "\n",
    "X_test = df_test[['body_length', 'channels', 'fb_published', 'has_logo', 'name_length',\n",
    "       'org_facebook', 'org_twitter', 'show_map', 'user_age', 'user_type',\n",
    "             'previous_payout0', 'has_header_0.0', 'has_header_1.0',\n",
    "       'has_header_nan', 'yahoo', 'is_fr', 'is_org', 'delivery_method_0.0',\n",
    "       'delivery_method_1.0', 'delivery_method_3.0', 'delivery_method_nan',\n",
    "       'ticket_cost', 'ticket_availability', 'ticket_quant_total']].values\n",
    "\n",
    "y_test = df_test['Label'].values\n",
    "\n",
    "\n",
    "logreg = LogisticRegression()\n",
    "logreg.fit(X_train, y_train)\n",
    "\n",
    "y_pred = logreg.predict(X_test)\n",
    "\n",
    "print(classification_report(y_test, y_pred, target_names=['Non-Fraud', 'Fraud']))"
   ]
  },
  {
   "cell_type": "code",
   "execution_count": 33,
   "metadata": {},
   "outputs": [
    {
     "name": "stdout",
     "output_type": "stream",
     "text": [
      "              precision    recall  f1-score   support\n",
      "\n",
      "   Non-Fraud       0.99      0.92      0.95      3262\n",
      "       Fraud       0.53      0.89      0.66       323\n",
      "\n",
      "    accuracy                           0.92      3585\n",
      "   macro avg       0.76      0.90      0.81      3585\n",
      "weighted avg       0.95      0.92      0.93      3585\n",
      "\n"
     ]
    },
    {
     "name": "stderr",
     "output_type": "stream",
     "text": [
      "/opt/anaconda3/lib/python3.7/site-packages/sklearn/linear_model/_logistic.py:764: ConvergenceWarning: lbfgs failed to converge (status=1):\n",
      "STOP: TOTAL NO. of ITERATIONS REACHED LIMIT.\n",
      "\n",
      "Increase the number of iterations (max_iter) or scale the data as shown in:\n",
      "    https://scikit-learn.org/stable/modules/preprocessing.html\n",
      "Please also refer to the documentation for alternative solver options:\n",
      "    https://scikit-learn.org/stable/modules/linear_model.html#logistic-regression\n",
      "  extra_warning_msg=_LOGISTIC_SOLVER_CONVERGENCE_MSG)\n"
     ]
    }
   ],
   "source": [
    "# Reduced Log Regress\n",
    "\n",
    "\n",
    "df_train, df_test = train_test_split(df, random_state=42, stratify=df.Label)\n",
    "\n",
    "Non_fraud = df_train[(df_train['Label'] == 0)]\n",
    "\n",
    "Fraud = df_train[(df_train['Label'] == 1)]\n",
    "\n",
    "Non_fraud_samp = Non_fraud.sample(n=len(Fraud))\n",
    "\n",
    "df_train_ = pd.concat([Fraud, Non_fraud_samp], axis=0)\n",
    "\n",
    "X_train = df_train_[['body_length', 'channels', 'fb_published', 'has_logo',\n",
    "       'org_facebook', 'org_twitter', 'show_map', 'user_type',\n",
    "             'previous_payout0', 'yahoo', 'is_fr', 'is_org', \n",
    "       'ticket_cost']].values\n",
    "\n",
    "y_train = df_train_['Label'].values\n",
    "\n",
    "X_test = df_test[['body_length', 'channels', 'fb_published', 'has_logo',\n",
    "       'org_facebook', 'org_twitter', 'show_map', 'user_type',\n",
    "             'previous_payout0', 'yahoo', 'is_fr', 'is_org', \n",
    "       'ticket_cost']].values\n",
    "\n",
    "y_test = df_test['Label'].values\n",
    "\n",
    "\n",
    "\n",
    "logreg = LogisticRegression()\n",
    "logreg.fit(X_train, y_train)\n",
    "y_pred = logreg.predict(X_test)\n",
    "\n",
    "print(classification_report(y_test, y_pred, target_names=['Non-Fraud', 'Fraud']))"
   ]
  },
  {
   "cell_type": "markdown",
   "metadata": {},
   "source": [
    "### Random Forest"
   ]
  },
  {
   "cell_type": "code",
   "execution_count": 24,
   "metadata": {},
   "outputs": [
    {
     "name": "stderr",
     "output_type": "stream",
     "text": [
      "[Parallel(n_jobs=-1)]: Using backend ThreadingBackend with 4 concurrent workers.\n",
      "[Parallel(n_jobs=-1)]: Done  42 tasks      | elapsed:    0.1s\n",
      "[Parallel(n_jobs=-1)]: Done 192 tasks      | elapsed:    0.5s\n",
      "[Parallel(n_jobs=-1)]: Done 442 tasks      | elapsed:    1.1s\n",
      "[Parallel(n_jobs=-1)]: Done 500 out of 500 | elapsed:    1.2s finished\n",
      "[Parallel(n_jobs=4)]: Using backend ThreadingBackend with 4 concurrent workers.\n",
      "[Parallel(n_jobs=4)]: Done  42 tasks      | elapsed:    0.0s\n",
      "[Parallel(n_jobs=4)]: Done 192 tasks      | elapsed:    0.1s\n"
     ]
    },
    {
     "name": "stdout",
     "output_type": "stream",
     "text": [
      "              precision    recall  f1-score   support\n",
      "\n",
      "   Non-Fraud       1.00      0.97      0.98      3262\n",
      "       Fraud       0.77      0.96      0.85       323\n",
      "\n",
      "    accuracy                           0.97      3585\n",
      "   macro avg       0.88      0.96      0.92      3585\n",
      "weighted avg       0.98      0.97      0.97      3585\n",
      "\n"
     ]
    },
    {
     "name": "stderr",
     "output_type": "stream",
     "text": [
      "[Parallel(n_jobs=4)]: Done 442 tasks      | elapsed:    0.2s\n",
      "[Parallel(n_jobs=4)]: Done 500 out of 500 | elapsed:    0.2s finished\n"
     ]
    }
   ],
   "source": [
    "# Random Forest with Everthing\n",
    "\n",
    "from sklearn.ensemble import RandomForestClassifier\n",
    "\n",
    "df_train, df_test = train_test_split(df, random_state=42, stratify=df.Label)\n",
    "\n",
    "Non_fraud = df_train[(df_train['Label'] == 0)]\n",
    "\n",
    "Fraud = df_train[(df_train['Label'] == 1)]\n",
    "\n",
    "Non_fraud_samp = Non_fraud.sample(n=len(Fraud))\n",
    "\n",
    "df_train_ = pd.concat([Fraud, Non_fraud_samp], axis=0)\n",
    "\n",
    "X_train = df_train_[['body_length', 'channels', 'fb_published', 'has_logo', 'name_length',\n",
    "       'org_facebook', 'org_twitter', 'show_map', 'user_age', 'user_type',\n",
    "             'previous_payout0', 'has_header_0.0', 'has_header_1.0',\n",
    "       'has_header_nan', 'yahoo', 'is_fr', 'is_org', 'delivery_method_0.0',\n",
    "       'delivery_method_1.0', 'delivery_method_3.0', 'delivery_method_nan',\n",
    "       'ticket_cost', 'ticket_availability', 'ticket_quant_total']].values\n",
    "\n",
    "y_train = df_train_['Label'].values\n",
    "\n",
    "X_test = df_test[['body_length', 'channels', 'fb_published', 'has_logo', 'name_length',\n",
    "       'org_facebook', 'org_twitter', 'show_map', 'user_age', 'user_type',\n",
    "             'previous_payout0', 'has_header_0.0', 'has_header_1.0',\n",
    "       'has_header_nan', 'yahoo', 'is_fr', 'is_org', 'delivery_method_0.0',\n",
    "       'delivery_method_1.0', 'delivery_method_3.0', 'delivery_method_nan',\n",
    "       'ticket_cost', 'ticket_availability', 'ticket_quant_total']].values\n",
    "\n",
    "y_test = df_test['Label'].values\n",
    "\n",
    "fr_classify = RandomForestClassifier(bootstrap=False, max_depth=100, max_features='sqrt',\n",
    "                       n_estimators=500, n_jobs=-1, verbose=1)\n",
    "fr_classify.fit(X_train, y_train)\n",
    "\n",
    "y_pred = fr_classify.predict(X_test)\n",
    "print(classification_report(y_test, y_pred, target_names=['Non-Fraud', 'Fraud']))"
   ]
  },
  {
   "cell_type": "code",
   "execution_count": 35,
   "metadata": {},
   "outputs": [
    {
     "name": "stderr",
     "output_type": "stream",
     "text": [
      "[Parallel(n_jobs=-1)]: Using backend ThreadingBackend with 4 concurrent workers.\n",
      "[Parallel(n_jobs=-1)]: Done  42 tasks      | elapsed:    0.1s\n",
      "[Parallel(n_jobs=-1)]: Done 192 tasks      | elapsed:    0.7s\n",
      "[Parallel(n_jobs=-1)]: Done 442 tasks      | elapsed:    1.4s\n",
      "[Parallel(n_jobs=-1)]: Done 500 out of 500 | elapsed:    1.6s finished\n",
      "[Parallel(n_jobs=4)]: Using backend ThreadingBackend with 4 concurrent workers.\n",
      "[Parallel(n_jobs=4)]: Done  42 tasks      | elapsed:    0.0s\n",
      "[Parallel(n_jobs=4)]: Done 192 tasks      | elapsed:    0.1s\n"
     ]
    },
    {
     "name": "stdout",
     "output_type": "stream",
     "text": [
      "              precision    recall  f1-score   support\n",
      "\n",
      "   Non-Fraud       0.99      0.97      0.98      3262\n",
      "       Fraud       0.73      0.95      0.83       323\n",
      "\n",
      "    accuracy                           0.96      3585\n",
      "   macro avg       0.86      0.96      0.90      3585\n",
      "weighted avg       0.97      0.96      0.97      3585\n",
      "\n"
     ]
    },
    {
     "name": "stderr",
     "output_type": "stream",
     "text": [
      "[Parallel(n_jobs=4)]: Done 442 tasks      | elapsed:    0.3s\n",
      "[Parallel(n_jobs=4)]: Done 500 out of 500 | elapsed:    0.3s finished\n"
     ]
    }
   ],
   "source": [
    "# Random Forest with Reduced Features\n",
    "\n",
    "df_train, df_test = train_test_split(df, random_state=42, stratify=df.Label)\n",
    "\n",
    "Non_fraud = df_train[(df_train['Label'] == 0)]\n",
    "\n",
    "Fraud = df_train[(df_train['Label'] == 1)]\n",
    "\n",
    "Non_fraud_samp = Non_fraud.sample(n=len(Fraud))\n",
    "\n",
    "df_train_ = pd.concat([Fraud, Non_fraud_samp], axis=0)\n",
    "\n",
    "X_train = df_train_[['body_length', 'channels', 'fb_published', 'name_length',\n",
    "       'org_facebook', 'user_age', 'user_type',\n",
    "                'previous_payout0', 'has_header_1.0',\n",
    "        'yahoo', 'is_org',\n",
    "        'delivery_method_3.0',\n",
    "       'ticket_cost', 'ticket_quant_total']]\n",
    "\n",
    "y_train = df_train_['Label'].values\n",
    "\n",
    "X_test = df_test[['body_length', 'channels', 'fb_published', 'name_length',\n",
    "       'org_facebook', 'user_age', 'user_type',\n",
    "                'previous_payout0', 'has_header_1.0',\n",
    "        'yahoo', 'is_org',\n",
    "        'delivery_method_3.0',\n",
    "       'ticket_cost', 'ticket_quant_total']]\n",
    "\n",
    "y_test = df_test['Label'].values\n",
    "\n",
    "fr_classify = RandomForestClassifier(bootstrap=False, max_depth=100, max_features='sqrt',\n",
    "                       n_estimators=500, n_jobs=-1, verbose=1)\n",
    "fr_classify.fit(X_train, y_train)\n",
    "\n",
    "y_pred = fr_classify.predict(X_test)\n",
    "print(classification_report(y_test, y_pred, target_names=['Non-Fraud', 'Fraud']))"
   ]
  },
  {
   "cell_type": "code",
   "execution_count": null,
   "metadata": {},
   "outputs": [],
   "source": []
  },
  {
   "cell_type": "markdown",
   "metadata": {},
   "source": [
    "### SVM Model"
   ]
  },
  {
   "cell_type": "code",
   "execution_count": 36,
   "metadata": {},
   "outputs": [
    {
     "name": "stdout",
     "output_type": "stream",
     "text": [
      "              precision    recall  f1-score   support\n",
      "\n",
      "   Non-Fraud       0.97      0.49      0.65      3262\n",
      "       Fraud       0.14      0.82      0.24       323\n",
      "\n",
      "    accuracy                           0.52      3585\n",
      "   macro avg       0.55      0.66      0.44      3585\n",
      "weighted avg       0.89      0.52      0.62      3585\n",
      "\n"
     ]
    }
   ],
   "source": [
    "# SVM with Full\n",
    "\n",
    "from sklearn import svm\n",
    "\n",
    "df_train, df_test = train_test_split(df, random_state=42, stratify=df.Label)\n",
    "\n",
    "Non_fraud = df_train[(df_train['Label'] == 0)]\n",
    "\n",
    "Fraud = df_train[(df_train['Label'] == 1)]\n",
    "\n",
    "Non_fraud_samp = Non_fraud.sample(n=len(Fraud))\n",
    "\n",
    "df_train_ = pd.concat([Fraud, Non_fraud_samp], axis=0)\n",
    "\n",
    "X_train = df_train_[['body_length', 'channels', 'fb_published', 'has_logo', 'name_length',\n",
    "       'org_facebook', 'org_twitter', 'show_map', 'user_age', 'user_type',\n",
    "             'previous_payout0', 'has_header_0.0', 'has_header_1.0',\n",
    "       'has_header_nan', 'yahoo', 'is_fr', 'is_org', 'delivery_method_0.0',\n",
    "       'delivery_method_1.0', 'delivery_method_3.0', 'delivery_method_nan',\n",
    "       'ticket_cost', 'ticket_availability', 'ticket_quant_total']].values\n",
    "\n",
    "y_train = df_train_['Label'].values\n",
    "\n",
    "X_test = df_test[['body_length', 'channels', 'fb_published', 'has_logo', 'name_length',\n",
    "       'org_facebook', 'org_twitter', 'show_map', 'user_age', 'user_type',\n",
    "             'previous_payout0', 'has_header_0.0', 'has_header_1.0',\n",
    "       'has_header_nan', 'yahoo', 'is_fr', 'is_org', 'delivery_method_0.0',\n",
    "       'delivery_method_1.0', 'delivery_method_3.0', 'delivery_method_nan',\n",
    "       'ticket_cost', 'ticket_availability', 'ticket_quant_total']].values\n",
    "\n",
    "y_test = df_test['Label'].values\n",
    "\n",
    "\n",
    "#Create a svm Classifier\n",
    "clf = svm.SVC()\n",
    "clf.fit(X_train, y_train)\n",
    "y_pred = clf.predict(X_test)\n",
    "\n",
    "print(classification_report(y_test, y_pred, target_names=['Non-Fraud', 'Fraud']))"
   ]
  },
  {
   "cell_type": "code",
   "execution_count": 37,
   "metadata": {},
   "outputs": [
    {
     "name": "stdout",
     "output_type": "stream",
     "text": [
      "              precision    recall  f1-score   support\n",
      "\n",
      "   Non-Fraud       0.97      0.49      0.65      3262\n",
      "       Fraud       0.14      0.82      0.23       323\n",
      "\n",
      "    accuracy                           0.52      3585\n",
      "   macro avg       0.55      0.65      0.44      3585\n",
      "weighted avg       0.89      0.52      0.61      3585\n",
      "\n"
     ]
    }
   ],
   "source": [
    "# SVM with Reduced \n",
    "\n",
    "from sklearn import svm\n",
    "\n",
    "df_train, df_test = train_test_split(df, random_state=42, stratify=df.Label)\n",
    "\n",
    "Non_fraud = df_train[(df_train['Label'] == 0)]\n",
    "\n",
    "Fraud = df_train[(df_train['Label'] == 1)]\n",
    "\n",
    "Non_fraud_samp = Non_fraud.sample(n=len(Fraud))\n",
    "\n",
    "df_train_ = pd.concat([Fraud, Non_fraud_samp], axis=0)\n",
    "\n",
    "X_train = df_train_[['body_length', 'channels', 'fb_published', 'name_length',\n",
    "       'org_facebook', 'user_age', 'user_type',\n",
    "                'previous_payout0', 'has_header_1.0',\n",
    "        'yahoo', 'is_org',\n",
    "        'delivery_method_3.0',\n",
    "       'ticket_cost', 'ticket_quant_total']]\n",
    "\n",
    "y_train = df_train_['Label'].values\n",
    "\n",
    "X_test = df_test[['body_length', 'channels', 'fb_published', 'name_length',\n",
    "       'org_facebook', 'user_age', 'user_type',\n",
    "                'previous_payout0', 'has_header_1.0',\n",
    "        'yahoo', 'is_org',\n",
    "        'delivery_method_3.0',\n",
    "       'ticket_cost', 'ticket_quant_total']]\n",
    "\n",
    "y_test = df_test['Label'].values\n",
    "\n",
    "\n",
    "#Create a svm Classifier\n",
    "clf = svm.SVC()\n",
    "clf.fit(X_train, y_train)\n",
    "y_pred = clf.predict(X_test)\n",
    "\n",
    "print(classification_report(y_test, y_pred, target_names=['Non-Fraud', 'Fraud']))"
   ]
  },
  {
   "cell_type": "code",
   "execution_count": null,
   "metadata": {},
   "outputs": [],
   "source": []
  }
 ],
 "metadata": {
  "kernelspec": {
   "display_name": "Python 3",
   "language": "python",
   "name": "python3"
  },
  "language_info": {
   "codemirror_mode": {
    "name": "ipython",
    "version": 3
   },
   "file_extension": ".py",
   "mimetype": "text/x-python",
   "name": "python",
   "nbconvert_exporter": "python",
   "pygments_lexer": "ipython3",
   "version": "3.8.3"
  }
 },
 "nbformat": 4,
 "nbformat_minor": 4
}
