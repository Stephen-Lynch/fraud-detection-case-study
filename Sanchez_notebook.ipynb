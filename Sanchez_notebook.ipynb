{
 "cells": [
  {
   "cell_type": "code",
   "execution_count": 1,
   "metadata": {},
   "outputs": [],
   "source": [
    "from sklearn.linear_model import LogisticRegression\n",
    "from sklearn.ensemble import RandomForestClassifier\n",
    "from sklearn.model_selection import train_test_split, cross_val_score\n",
    "from fastai.tabular.core import add_datepart\n",
    "from bs4 import BeautifulSoup"
   ]
  },
  {
   "cell_type": "markdown",
   "metadata": {},
   "source": [
    "### Import data"
   ]
  },
  {
   "cell_type": "code",
   "execution_count": 101,
   "metadata": {},
   "outputs": [],
   "source": [
    "data = pd.read_json('data/data.json')"
   ]
  },
  {
   "cell_type": "markdown",
   "metadata": {},
   "source": [
    "### Convert 'acct_type' to Target Labels based on presence of word \"fraud\""
   ]
  },
  {
   "cell_type": "code",
   "execution_count": 102,
   "metadata": {},
   "outputs": [],
   "source": [
    "data['Label'] = np.where(data['acct_type'].str.contains('fraud'), 1, 0)"
   ]
  },
  {
   "cell_type": "code",
   "execution_count": 103,
   "metadata": {},
   "outputs": [
    {
     "data": {
      "text/html": [
       "<div>\n",
       "<style scoped>\n",
       "    .dataframe tbody tr th:only-of-type {\n",
       "        vertical-align: middle;\n",
       "    }\n",
       "\n",
       "    .dataframe tbody tr th {\n",
       "        vertical-align: top;\n",
       "    }\n",
       "\n",
       "    .dataframe thead th {\n",
       "        text-align: right;\n",
       "    }\n",
       "</style>\n",
       "<table border=\"1\" class=\"dataframe\">\n",
       "  <thead>\n",
       "    <tr style=\"text-align: right;\">\n",
       "      <th></th>\n",
       "      <th>acct_type</th>\n",
       "      <th>approx_payout_date</th>\n",
       "      <th>body_length</th>\n",
       "      <th>channels</th>\n",
       "      <th>country</th>\n",
       "      <th>currency</th>\n",
       "      <th>delivery_method</th>\n",
       "      <th>description</th>\n",
       "      <th>email_domain</th>\n",
       "      <th>event_created</th>\n",
       "      <th>event_end</th>\n",
       "      <th>event_published</th>\n",
       "      <th>event_start</th>\n",
       "      <th>fb_published</th>\n",
       "      <th>gts</th>\n",
       "      <th>has_analytics</th>\n",
       "      <th>has_header</th>\n",
       "      <th>has_logo</th>\n",
       "      <th>listed</th>\n",
       "      <th>name</th>\n",
       "      <th>name_length</th>\n",
       "      <th>num_order</th>\n",
       "      <th>num_payouts</th>\n",
       "      <th>object_id</th>\n",
       "      <th>org_desc</th>\n",
       "      <th>org_facebook</th>\n",
       "      <th>org_name</th>\n",
       "      <th>org_twitter</th>\n",
       "      <th>payee_name</th>\n",
       "      <th>payout_type</th>\n",
       "      <th>previous_payouts</th>\n",
       "      <th>sale_duration</th>\n",
       "      <th>sale_duration2</th>\n",
       "      <th>show_map</th>\n",
       "      <th>ticket_types</th>\n",
       "      <th>user_age</th>\n",
       "      <th>user_created</th>\n",
       "      <th>user_type</th>\n",
       "      <th>venue_address</th>\n",
       "      <th>venue_country</th>\n",
       "      <th>venue_latitude</th>\n",
       "      <th>venue_longitude</th>\n",
       "      <th>venue_name</th>\n",
       "      <th>venue_state</th>\n",
       "      <th>Label</th>\n",
       "    </tr>\n",
       "  </thead>\n",
       "  <tbody>\n",
       "    <tr>\n",
       "      <th>0</th>\n",
       "      <td>fraudster_event</td>\n",
       "      <td>1266062400</td>\n",
       "      <td>3852</td>\n",
       "      <td>5</td>\n",
       "      <td>US</td>\n",
       "      <td>USD</td>\n",
       "      <td>0.0</td>\n",
       "      <td>&lt;p&gt;&lt;a href=\"http://s432.photobucket.com/albums/qq49/digusonline/?action=view&amp;amp;current=supersunday.jpg\" target=\"_blank\"&gt;&lt;img src=\"http://i432.photobucket.com/albums/qq49/digusonline/supersunday.jpg\" border=\"0\" alt=\"Photobucket\" /&gt;&lt;/a&gt;&lt;/p&gt;\\r\\n&lt;p&gt; &lt;/p&gt;\\r\\n&lt;p style=\"text-align: center;\"&gt;&lt;font size=\"3\"&gt;&lt;strong&gt;Party Starz Entertaintment &amp;amp; Diverse International Group Presents...&lt;br /&gt;&lt;/strong&gt;&lt;/font&gt;&lt;br /&gt;&lt;font face=\"tahoma,arial,helvetica,sans-serif\" size=\"4\"&gt;&lt;strong&gt;The Official \"99 Hour No Sleep\" Super Bowl &lt;/strong&gt;&lt;/font&gt;&lt;/p&gt;\\r\\n&lt;p style=\"text-align: center;\"&gt;&lt;font face=\"tahoma,arial...</td>\n",
       "      <td>gmail.com</td>\n",
       "      <td>1262739706</td>\n",
       "      <td>1265630400</td>\n",
       "      <td>1.263110e+09</td>\n",
       "      <td>1265594400</td>\n",
       "      <td>0</td>\n",
       "      <td>0.0</td>\n",
       "      <td>0</td>\n",
       "      <td>1.0</td>\n",
       "      <td>0</td>\n",
       "      <td>y</td>\n",
       "      <td>99 HOUR \"NO SLEEP\" SUPER BOWL CELEBRITY WEEKEND GRAND FINALE</td>\n",
       "      <td>60</td>\n",
       "      <td>0</td>\n",
       "      <td>0</td>\n",
       "      <td>527017</td>\n",
       "      <td></td>\n",
       "      <td>0.0</td>\n",
       "      <td>Party Starz Ent &amp; Diverse Int'l Group</td>\n",
       "      <td>0.0</td>\n",
       "      <td></td>\n",
       "      <td></td>\n",
       "      <td>[]</td>\n",
       "      <td>29.0</td>\n",
       "      <td>33</td>\n",
       "      <td>1</td>\n",
       "      <td>[{'event_id': 527017, 'cost': 25.0, 'availability': 1, 'quantity_total': 800, 'quantity_sold': 0}, {'event_id': 527017, 'cost': 50.0, 'availability': 1, 'quantity_total': 100, 'quantity_sold': 0}, {'event_id': 527017, 'cost': 550.0, 'availability': 1, 'quantity_total': 20, 'quantity_sold': 0}]</td>\n",
       "      <td>36</td>\n",
       "      <td>1259613950</td>\n",
       "      <td>1</td>\n",
       "      <td>717 Washington Avenue</td>\n",
       "      <td>US</td>\n",
       "      <td>25.777471</td>\n",
       "      <td>-80.133433</td>\n",
       "      <td>INK Nightclub - South Beach</td>\n",
       "      <td>FL</td>\n",
       "      <td>1</td>\n",
       "    </tr>\n",
       "  </tbody>\n",
       "</table>\n",
       "</div>"
      ],
      "text/plain": [
       "         acct_type  approx_payout_date  body_length  channels country  \\\n",
       "0  fraudster_event          1266062400         3852         5      US   \n",
       "\n",
       "  currency  delivery_method  \\\n",
       "0      USD              0.0   \n",
       "\n",
       "                                                                                                                                                                                                                                                                                                                                                                                                                                                                                                                                                                                                               description  \\\n",
       "0  <p><a href=\"http://s432.photobucket.com/albums/qq49/digusonline/?action=view&amp;current=supersunday.jpg\" target=\"_blank\"><img src=\"http://i432.photobucket.com/albums/qq49/digusonline/supersunday.jpg\" border=\"0\" alt=\"Photobucket\" /></a></p>\\r\\n<p> </p>\\r\\n<p style=\"text-align: center;\"><font size=\"3\"><strong>Party Starz Entertaintment &amp; Diverse International Group Presents...<br /></strong></font><br /><font face=\"tahoma,arial,helvetica,sans-serif\" size=\"4\"><strong>The Official \"99 Hour No Sleep\" Super Bowl </strong></font></p>\\r\\n<p style=\"text-align: center;\"><font face=\"tahoma,arial...   \n",
       "\n",
       "  email_domain  event_created   event_end  event_published  event_start  \\\n",
       "0    gmail.com     1262739706  1265630400     1.263110e+09   1265594400   \n",
       "\n",
       "   fb_published  gts  has_analytics  has_header  has_logo listed  \\\n",
       "0             0  0.0              0         1.0         0      y   \n",
       "\n",
       "                                                           name  name_length  \\\n",
       "0  99 HOUR \"NO SLEEP\" SUPER BOWL CELEBRITY WEEKEND GRAND FINALE           60   \n",
       "\n",
       "   num_order  num_payouts  object_id org_desc  org_facebook  \\\n",
       "0          0            0     527017                    0.0   \n",
       "\n",
       "                                org_name  org_twitter payee_name payout_type  \\\n",
       "0  Party Starz Ent & Diverse Int'l Group          0.0                          \n",
       "\n",
       "  previous_payouts  sale_duration  sale_duration2  show_map  \\\n",
       "0               []           29.0              33         1   \n",
       "\n",
       "                                                                                                                                                                                                                                                                                             ticket_types  \\\n",
       "0  [{'event_id': 527017, 'cost': 25.0, 'availability': 1, 'quantity_total': 800, 'quantity_sold': 0}, {'event_id': 527017, 'cost': 50.0, 'availability': 1, 'quantity_total': 100, 'quantity_sold': 0}, {'event_id': 527017, 'cost': 550.0, 'availability': 1, 'quantity_total': 20, 'quantity_sold': 0}]   \n",
       "\n",
       "   user_age  user_created  user_type          venue_address venue_country  \\\n",
       "0        36    1259613950          1  717 Washington Avenue            US   \n",
       "\n",
       "   venue_latitude  venue_longitude                   venue_name venue_state  \\\n",
       "0       25.777471       -80.133433  INK Nightclub - South Beach          FL   \n",
       "\n",
       "   Label  \n",
       "0      1  "
      ]
     },
     "execution_count": 103,
     "metadata": {},
     "output_type": "execute_result"
    }
   ],
   "source": [
    "data.head(1)"
   ]
  },
  {
   "cell_type": "markdown",
   "metadata": {},
   "source": [
    "### Define replace function for handling missing (non-NaN) data"
   ]
  },
  {
   "cell_type": "code",
   "execution_count": 104,
   "metadata": {},
   "outputs": [],
   "source": [
    "def replace(row):\n",
    "    if len(row) < 1:\n",
    "        return \"UNK\"\n",
    "    else: return row"
   ]
  },
  {
   "cell_type": "code",
   "execution_count": 105,
   "metadata": {},
   "outputs": [],
   "source": [
    "data['payout_type'] = data['payout_type'].apply(replace)\n",
    "data['country'].fillna('UNK', inplace=True)\n",
    "data['country'] = data['country'].apply(replace)\n",
    "data['venue_state'].fillna('UNK', inplace=True)\n",
    "data['venue_state'] = data['venue_state'].apply(replace)"
   ]
  },
  {
   "cell_type": "markdown",
   "metadata": {},
   "source": [
    "### Time Series conversions"
   ]
  },
  {
   "cell_type": "code",
   "execution_count": 279,
   "metadata": {},
   "outputs": [],
   "source": [
    "data['user_created'] = pd.to_datetime(data['user_created'], unit='s')\n",
    "data['approx_payout_date'] = pd.to_datetime(data['approx_payout_date'], unit = 's')\n",
    "data['event_created'] = pd.to_datetime(data['event_created'], unit='s')\n",
    "data['event_end']= pd.to_datetime(data['event_end'], unit='s')\n",
    "data['event_published'] = pd.to_datetime(data['event_published'], unit='s')\n",
    "data['event_start'] = pd.to_datetime(data['event_start'], unit='s')\n",
    "data['time_diff'] = data['event_end'] - data['event_start']\n",
    "data['time_diff_days'] = data['time_diff'].dt.days\n",
    "data['time_diff_seconds'] = data['time_diff'].dt.total_seconds()"
   ]
  },
  {
   "cell_type": "code",
   "execution_count": 107,
   "metadata": {},
   "outputs": [
    {
     "name": "stderr",
     "output_type": "stream",
     "text": [
      "<ipython-input-107-5489717b1398>:7: FutureWarning: Series.dt.weekofyear and Series.dt.week have been deprecated.  Please use Series.dt.isocalendar().week instead.\n",
      "  data['weekofyear'] = data['approx_payout_date'].dt.weekofyear\n",
      "<ipython-input-107-5489717b1398>:8: FutureWarning: Series.dt.weekofyear and Series.dt.week have been deprecated.  Please use Series.dt.isocalendar().week instead.\n",
      "  data['week'] = data['approx_payout_date'].dt.week\n"
     ]
    }
   ],
   "source": [
    "data['year'] = data['approx_payout_date'].dt.year\n",
    "data['month'] = data['approx_payout_date'].dt.month\n",
    "data['day'] = data['approx_payout_date'].dt.day\n",
    "data['hour'] = data['approx_payout_date'].dt.hour\n",
    "data['minute'] = data['approx_payout_date'].dt.minute\n",
    "data['dayofyear'] = data['approx_payout_date'].dt.dayofyear\n",
    "data['weekofyear'] = data['approx_payout_date'].dt.weekofyear\n",
    "data['week'] = data['approx_payout_date'].dt.week\n",
    "data['dayofweek'] = data['approx_payout_date'].dt.dayofweek\n",
    "data['quarter'] = data['approx_payout_date'].dt.quarter\n",
    "data['is_month_start'] = data['approx_payout_date'].dt.is_month_start\n",
    "data['is_month_end'] = data['approx_payout_date'].dt.is_month_end\n",
    "data['is_quarter_start'] = data['approx_payout_date'].dt.is_quarter_start\n",
    "data['is_quarter_end'] = data['approx_payout_date'].dt.is_quarter_end"
   ]
  },
  {
   "cell_type": "markdown",
   "metadata": {},
   "source": [
    "### Separate datasets into fraud and non-fraud for some visual EDA"
   ]
  },
  {
   "cell_type": "code",
   "execution_count": 282,
   "metadata": {},
   "outputs": [],
   "source": [
    "fraud = data[data['Label'] == 1]\n",
    "nonfraud = data[data['Label'] == 0]"
   ]
  },
  {
   "cell_type": "markdown",
   "metadata": {},
   "source": [
    "### Define columns for histogram plots"
   ]
  },
  {
   "cell_type": "code",
   "execution_count": 11,
   "metadata": {},
   "outputs": [],
   "source": [
    "cols = [\n",
    "    'acct_type', 'approx_payout_date', 'body_length', 'channels', 'country',\n",
    "       'currency', 'delivery_method', 'email_domain',\n",
    "       'event_created', 'event_end', 'event_published', 'event_start',\n",
    "       'fb_published', 'gts', 'has_analytics', 'has_header', 'has_logo',\n",
    "       'listed', 'name_length', 'num_order', 'num_payouts',\n",
    "       'object_id', 'org_facebook', 'org_twitter',\n",
    "       'payee_name', 'payout_type', 'sale_duration',\n",
    "       'sale_duration2', 'show_map', 'user_age',\n",
    "       'user_created', 'user_type',  'venue_country', 'venue_state'\n",
    "]"
   ]
  },
  {
   "cell_type": "code",
   "execution_count": 64,
   "metadata": {},
   "outputs": [],
   "source": [
    "def hist_plots(fraud_df, nonfraud_df, column, bins=30):\n",
    "    '''\n",
    "    Plots a comparison histogram on same plot between fraud and nonfraudulent events\n",
    "    '''\n",
    "    \n",
    "    plt.hist(nonfraud_df[column], label=\"Class #0\", alpha=0.5, edgecolor='black', lw=1.5, color='blue', bins=bins)\n",
    "    plt.hist(fraud_df[column], label=\"Class #1\", alpha=0.5, edgecolor='black', linewidth=1.5, color='r', bins=bins)\n",
    "    plt.title(column, fontsize=34)\n",
    "    plt.legend(fontsize='xx-large')\n",
    "    return plt.show()"
   ]
  },
  {
   "cell_type": "code",
   "execution_count": 14,
   "metadata": {},
   "outputs": [],
   "source": [
    "# for col in cols:\n",
    "#     try:\n",
    "#         hist_plots(fraud, nonfraud, col)\n",
    "#     except TypeError:\n",
    "#         pass"
   ]
  },
  {
   "cell_type": "markdown",
   "metadata": {},
   "source": [
    "#### **** Look at org name, previous payouts, any text based columns, ticket types, lat, long, venue address and name, separately ****"
   ]
  },
  {
   "cell_type": "markdown",
   "metadata": {},
   "source": [
    "### Convert ticket_type column into Dataframe for analysis"
   ]
  },
  {
   "cell_type": "code",
   "execution_count": 11,
   "metadata": {},
   "outputs": [
    {
     "data": {
      "text/html": [
       "<div>\n",
       "<style scoped>\n",
       "    .dataframe tbody tr th:only-of-type {\n",
       "        vertical-align: middle;\n",
       "    }\n",
       "\n",
       "    .dataframe tbody tr th {\n",
       "        vertical-align: top;\n",
       "    }\n",
       "\n",
       "    .dataframe thead th {\n",
       "        text-align: right;\n",
       "    }\n",
       "</style>\n",
       "<table border=\"1\" class=\"dataframe\">\n",
       "  <thead>\n",
       "    <tr style=\"text-align: right;\">\n",
       "      <th></th>\n",
       "      <th>event_id</th>\n",
       "      <th>cost</th>\n",
       "      <th>availability</th>\n",
       "      <th>quantity_total</th>\n",
       "      <th>quantity_sold</th>\n",
       "    </tr>\n",
       "  </thead>\n",
       "  <tbody>\n",
       "    <tr>\n",
       "      <th>0</th>\n",
       "      <td>527017</td>\n",
       "      <td>25.0</td>\n",
       "      <td>1</td>\n",
       "      <td>800</td>\n",
       "      <td>0</td>\n",
       "    </tr>\n",
       "    <tr>\n",
       "      <th>1</th>\n",
       "      <td>527017</td>\n",
       "      <td>50.0</td>\n",
       "      <td>1</td>\n",
       "      <td>100</td>\n",
       "      <td>0</td>\n",
       "    </tr>\n",
       "    <tr>\n",
       "      <th>2</th>\n",
       "      <td>527017</td>\n",
       "      <td>550.0</td>\n",
       "      <td>1</td>\n",
       "      <td>20</td>\n",
       "      <td>0</td>\n",
       "    </tr>\n",
       "  </tbody>\n",
       "</table>\n",
       "</div>"
      ],
      "text/plain": [
       "   event_id   cost  availability  quantity_total  quantity_sold\n",
       "0    527017   25.0             1             800              0\n",
       "1    527017   50.0             1             100              0\n",
       "2    527017  550.0             1              20              0"
      ]
     },
     "execution_count": 11,
     "metadata": {},
     "output_type": "execute_result"
    }
   ],
   "source": [
    "pd.DataFrame(fraud.ticket_types[0])"
   ]
  },
  {
   "cell_type": "markdown",
   "metadata": {},
   "source": [
    "### Fraud conversion + analytsis"
   ]
  },
  {
   "cell_type": "code",
   "execution_count": 154,
   "metadata": {},
   "outputs": [],
   "source": [
    "frame_list = []\n",
    "for x in fraud.ticket_types.values:\n",
    "    frame_list.append(pd.DataFrame(x))\n",
    "\n",
    "fraud_ticket_types = pd.concat(frame_list)\n",
    "\n",
    "frame_list = []\n",
    "for x in nonfraud.ticket_types.values:\n",
    "    frame_list.append(pd.DataFrame(x))\n",
    "\n",
    "nonfraud_ticket_types = pd.concat(frame_list)\n",
    "\n",
    "fraud_ticket_types.reset_index(drop=True, inplace=True)\n",
    "nonfraud_ticket_types.reset_index(drop=True, inplace=True)\n",
    "\n",
    "fraud_ticket_types.iloc[:, 1:].describe()\n",
    "nonfraud_ticket_types.iloc[:, 1:].describe()"
   ]
  },
  {
   "cell_type": "code",
   "execution_count": 34,
   "metadata": {},
   "outputs": [],
   "source": [
    "fraud_ticket_types['Label'] = 1\n",
    "nonfraud_ticket_types['Label'] = 0"
   ]
  },
  {
   "cell_type": "code",
   "execution_count": 41,
   "metadata": {},
   "outputs": [],
   "source": [
    "ticket_types = pd.concat([fraud_ticket_types, nonfraud_ticket_types]).reset_index(drop=True)"
   ]
  },
  {
   "cell_type": "code",
   "execution_count": 43,
   "metadata": {},
   "outputs": [],
   "source": [
    "ticket_types.drop('event_id', axis=1, inplace=True)"
   ]
  },
  {
   "cell_type": "code",
   "execution_count": 48,
   "metadata": {},
   "outputs": [
    {
     "data": {
      "text/plain": [
       "1    2225\n",
       "2      12\n",
       "Name: availability, dtype: int64"
      ]
     },
     "execution_count": 48,
     "metadata": {},
     "output_type": "execute_result"
    }
   ],
   "source": [
    "ticket_types[ticket_types['Label'] == 1]['availability'].value_counts()"
   ]
  },
  {
   "cell_type": "code",
   "execution_count": 49,
   "metadata": {},
   "outputs": [
    {
     "data": {
      "text/plain": [
       "1    34552\n",
       "2     1840\n",
       "Name: availability, dtype: int64"
      ]
     },
     "execution_count": 49,
     "metadata": {},
     "output_type": "execute_result"
    }
   ],
   "source": [
    "ticket_types[ticket_types['Label'] == 0]['availability'].value_counts()"
   ]
  },
  {
   "cell_type": "code",
   "execution_count": 53,
   "metadata": {},
   "outputs": [],
   "source": [
    "ticketx = ticket_types.iloc[:, :-1].values\n",
    "tickety = ticket_types['Label'].values"
   ]
  },
  {
   "cell_type": "code",
   "execution_count": 56,
   "metadata": {},
   "outputs": [
    {
     "data": {
      "text/plain": [
       "((30903, 4), (7726, 4), (30903,), (7726,))"
      ]
     },
     "execution_count": 56,
     "metadata": {},
     "output_type": "execute_result"
    }
   ],
   "source": [
    "trainx, testx, trainy, testy = train_test_split(ticketx, tickety, test_size=0.2, stratify=tickety)\n",
    "trainx.shape, testx.shape, trainy.shape, testy.shape"
   ]
  },
  {
   "cell_type": "code",
   "execution_count": 57,
   "metadata": {},
   "outputs": [],
   "source": [
    "lr = LogisticRegression(n_jobs=-1, verbose=1)\n",
    "rf = RandomForestClassifier(n_estimators=500, n_jobs=-1, verbose=1)"
   ]
  },
  {
   "cell_type": "code",
   "execution_count": 58,
   "metadata": {},
   "outputs": [
    {
     "name": "stderr",
     "output_type": "stream",
     "text": [
      "[Parallel(n_jobs=1)]: Using backend SequentialBackend with 1 concurrent workers.\n",
      "[Parallel(n_jobs=-1)]: Using backend LokyBackend with 16 concurrent workers.\n",
      "[Parallel(n_jobs=-1)]: Done   1 out of   1 | elapsed:    0.6s finished\n",
      "[Parallel(n_jobs=-1)]: Using backend LokyBackend with 16 concurrent workers.\n",
      "[Parallel(n_jobs=-1)]: Done   1 out of   1 | elapsed:    0.3s finished\n",
      "[Parallel(n_jobs=-1)]: Using backend LokyBackend with 16 concurrent workers.\n",
      "[Parallel(n_jobs=-1)]: Done   1 out of   1 | elapsed:    0.1s finished\n",
      "[Parallel(n_jobs=-1)]: Using backend LokyBackend with 16 concurrent workers.\n",
      "[Parallel(n_jobs=-1)]: Done   1 out of   1 | elapsed:    0.1s finished\n",
      "[Parallel(n_jobs=-1)]: Using backend LokyBackend with 16 concurrent workers.\n",
      "[Parallel(n_jobs=-1)]: Done   1 out of   1 | elapsed:    0.1s finished\n",
      "[Parallel(n_jobs=-1)]: Using backend LokyBackend with 16 concurrent workers.\n",
      "[Parallel(n_jobs=-1)]: Done   1 out of   1 | elapsed:    0.1s finished\n",
      "[Parallel(n_jobs=-1)]: Using backend LokyBackend with 16 concurrent workers.\n",
      "[Parallel(n_jobs=-1)]: Done   1 out of   1 | elapsed:    0.3s finished\n",
      "[Parallel(n_jobs=-1)]: Using backend LokyBackend with 16 concurrent workers.\n"
     ]
    },
    {
     "name": "stdout",
     "output_type": "stream",
     "text": [
      "[0.17258883 0.09473684 0.10526316 0.16410256 0.0952381  0.12435233\n",
      " 0.1443299  0.04347826 0.12435233 0.10416667]\n"
     ]
    },
    {
     "name": "stderr",
     "output_type": "stream",
     "text": [
      "[Parallel(n_jobs=-1)]: Done   1 out of   1 | elapsed:    0.3s finished\n",
      "[Parallel(n_jobs=-1)]: Using backend LokyBackend with 16 concurrent workers.\n",
      "[Parallel(n_jobs=-1)]: Done   1 out of   1 | elapsed:    0.1s finished\n",
      "[Parallel(n_jobs=-1)]: Using backend LokyBackend with 16 concurrent workers.\n",
      "[Parallel(n_jobs=-1)]: Done   1 out of   1 | elapsed:    0.1s finished\n",
      "[Parallel(n_jobs=1)]: Done  10 out of  10 | elapsed:    2.0s finished\n"
     ]
    }
   ],
   "source": [
    "print(cross_val_score(lr, trainx, trainy, cv=10, scoring='f1', verbose=1))"
   ]
  },
  {
   "cell_type": "code",
   "execution_count": 60,
   "metadata": {},
   "outputs": [
    {
     "name": "stderr",
     "output_type": "stream",
     "text": [
      "[Parallel(n_jobs=1)]: Using backend SequentialBackend with 1 concurrent workers.\n",
      "[Parallel(n_jobs=-1)]: Using backend LokyBackend with 16 concurrent workers.\n",
      "[Parallel(n_jobs=-1)]: Done  18 tasks      | elapsed:    0.1s\n",
      "[Parallel(n_jobs=-1)]: Done 500 out of 500 | elapsed:    0.6s finished\n",
      "[Parallel(n_jobs=16)]: Using backend ThreadingBackend with 16 concurrent workers.\n",
      "[Parallel(n_jobs=16)]: Done  18 tasks      | elapsed:    0.0s\n",
      "[Parallel(n_jobs=16)]: Done 168 tasks      | elapsed:    0.0s\n",
      "[Parallel(n_jobs=16)]: Done 418 tasks      | elapsed:    0.1s\n",
      "[Parallel(n_jobs=16)]: Done 500 out of 500 | elapsed:    0.1s finished\n",
      "[Parallel(n_jobs=-1)]: Using backend LokyBackend with 16 concurrent workers.\n",
      "[Parallel(n_jobs=-1)]: Done  18 tasks      | elapsed:    0.1s\n",
      "[Parallel(n_jobs=-1)]: Done 500 out of 500 | elapsed:    0.6s finished\n",
      "[Parallel(n_jobs=16)]: Using backend ThreadingBackend with 16 concurrent workers.\n",
      "[Parallel(n_jobs=16)]: Done  18 tasks      | elapsed:    0.0s\n",
      "[Parallel(n_jobs=16)]: Done 168 tasks      | elapsed:    0.0s\n",
      "[Parallel(n_jobs=16)]: Done 418 tasks      | elapsed:    0.1s\n",
      "[Parallel(n_jobs=16)]: Done 500 out of 500 | elapsed:    0.1s finished\n",
      "[Parallel(n_jobs=-1)]: Using backend LokyBackend with 16 concurrent workers.\n",
      "[Parallel(n_jobs=-1)]: Done  18 tasks      | elapsed:    0.0s\n",
      "[Parallel(n_jobs=-1)]: Done 500 out of 500 | elapsed:    0.6s finished\n",
      "[Parallel(n_jobs=16)]: Using backend ThreadingBackend with 16 concurrent workers.\n",
      "[Parallel(n_jobs=16)]: Done  18 tasks      | elapsed:    0.0s\n",
      "[Parallel(n_jobs=16)]: Done 168 tasks      | elapsed:    0.0s\n",
      "[Parallel(n_jobs=16)]: Done 418 tasks      | elapsed:    0.1s\n",
      "[Parallel(n_jobs=16)]: Done 500 out of 500 | elapsed:    0.1s finished\n",
      "[Parallel(n_jobs=-1)]: Using backend LokyBackend with 16 concurrent workers.\n",
      "[Parallel(n_jobs=-1)]: Done  18 tasks      | elapsed:    0.0s\n",
      "[Parallel(n_jobs=-1)]: Done 500 out of 500 | elapsed:    0.6s finished\n",
      "[Parallel(n_jobs=16)]: Using backend ThreadingBackend with 16 concurrent workers.\n",
      "[Parallel(n_jobs=16)]: Done  18 tasks      | elapsed:    0.0s\n",
      "[Parallel(n_jobs=16)]: Done 168 tasks      | elapsed:    0.0s\n",
      "[Parallel(n_jobs=16)]: Done 418 tasks      | elapsed:    0.1s\n",
      "[Parallel(n_jobs=16)]: Done 500 out of 500 | elapsed:    0.1s finished\n",
      "[Parallel(n_jobs=-1)]: Using backend LokyBackend with 16 concurrent workers.\n",
      "[Parallel(n_jobs=-1)]: Done  18 tasks      | elapsed:    0.1s\n"
     ]
    },
    {
     "name": "stdout",
     "output_type": "stream",
     "text": [
      "[0.42758621 0.4        0.39669421 0.37142857 0.39795918]\n"
     ]
    },
    {
     "name": "stderr",
     "output_type": "stream",
     "text": [
      "[Parallel(n_jobs=-1)]: Done 500 out of 500 | elapsed:    0.6s finished\n",
      "[Parallel(n_jobs=16)]: Using backend ThreadingBackend with 16 concurrent workers.\n",
      "[Parallel(n_jobs=16)]: Done  18 tasks      | elapsed:    0.0s\n",
      "[Parallel(n_jobs=16)]: Done 168 tasks      | elapsed:    0.0s\n",
      "[Parallel(n_jobs=16)]: Done 418 tasks      | elapsed:    0.1s\n",
      "[Parallel(n_jobs=16)]: Done 500 out of 500 | elapsed:    0.1s finished\n",
      "[Parallel(n_jobs=1)]: Done   5 out of   5 | elapsed:    4.1s finished\n"
     ]
    }
   ],
   "source": [
    "print(cross_val_score(rf, trainx, trainy, cv=5, scoring='f1', verbose=1, n_jobs=1))"
   ]
  },
  {
   "cell_type": "markdown",
   "metadata": {},
   "source": [
    "### Time Series Analysis"
   ]
  },
  {
   "cell_type": "code",
   "execution_count": 15,
   "metadata": {},
   "outputs": [],
   "source": [
    "time_cols = ['year', 'month', 'day', 'hour', 'minute', 'dayofyear',\n",
    "       'weekofyear', 'week', 'dayofweek', 'quarter', 'is_month_start',\n",
    "       'is_month_end', 'is_quarter_start', 'is_quarter_end']"
   ]
  },
  {
   "cell_type": "code",
   "execution_count": 16,
   "metadata": {},
   "outputs": [],
   "source": [
    "# for col in time_cols:\n",
    "#     try:\n",
    "#         hist_plots(fraud, nonfraud, col)\n",
    "#     except TypeError:\n",
    "#         pass"
   ]
  },
  {
   "cell_type": "code",
   "execution_count": 40,
   "metadata": {},
   "outputs": [
    {
     "data": {
      "text/html": [
       "<div>\n",
       "<style scoped>\n",
       "    .dataframe tbody tr th:only-of-type {\n",
       "        vertical-align: middle;\n",
       "    }\n",
       "\n",
       "    .dataframe tbody tr th {\n",
       "        vertical-align: top;\n",
       "    }\n",
       "\n",
       "    .dataframe thead th {\n",
       "        text-align: right;\n",
       "    }\n",
       "</style>\n",
       "<table border=\"1\" class=\"dataframe\">\n",
       "  <thead>\n",
       "    <tr style=\"text-align: right;\">\n",
       "      <th></th>\n",
       "      <th>acct_type</th>\n",
       "      <th>approx_payout_date</th>\n",
       "      <th>body_length</th>\n",
       "      <th>channels</th>\n",
       "      <th>country</th>\n",
       "      <th>currency</th>\n",
       "      <th>delivery_method</th>\n",
       "      <th>description</th>\n",
       "      <th>email_domain</th>\n",
       "      <th>event_created</th>\n",
       "      <th>event_end</th>\n",
       "      <th>event_published</th>\n",
       "      <th>event_start</th>\n",
       "      <th>fb_published</th>\n",
       "      <th>gts</th>\n",
       "      <th>has_analytics</th>\n",
       "      <th>has_header</th>\n",
       "      <th>has_logo</th>\n",
       "      <th>listed</th>\n",
       "      <th>name</th>\n",
       "      <th>name_length</th>\n",
       "      <th>num_order</th>\n",
       "      <th>num_payouts</th>\n",
       "      <th>object_id</th>\n",
       "      <th>org_desc</th>\n",
       "      <th>org_facebook</th>\n",
       "      <th>org_name</th>\n",
       "      <th>org_twitter</th>\n",
       "      <th>payee_name</th>\n",
       "      <th>payout_type</th>\n",
       "      <th>previous_payouts</th>\n",
       "      <th>sale_duration</th>\n",
       "      <th>sale_duration2</th>\n",
       "      <th>show_map</th>\n",
       "      <th>ticket_types</th>\n",
       "      <th>user_age</th>\n",
       "      <th>user_created</th>\n",
       "      <th>user_type</th>\n",
       "      <th>venue_address</th>\n",
       "      <th>venue_country</th>\n",
       "      <th>venue_latitude</th>\n",
       "      <th>venue_longitude</th>\n",
       "      <th>venue_name</th>\n",
       "      <th>venue_state</th>\n",
       "      <th>Label</th>\n",
       "      <th>year</th>\n",
       "      <th>month</th>\n",
       "      <th>day</th>\n",
       "      <th>hour</th>\n",
       "      <th>minute</th>\n",
       "      <th>dayofyear</th>\n",
       "      <th>weekofyear</th>\n",
       "      <th>week</th>\n",
       "      <th>dayofweek</th>\n",
       "      <th>quarter</th>\n",
       "      <th>is_month_start</th>\n",
       "      <th>is_month_end</th>\n",
       "      <th>is_quarter_start</th>\n",
       "      <th>is_quarter_end</th>\n",
       "    </tr>\n",
       "  </thead>\n",
       "  <tbody>\n",
       "    <tr>\n",
       "      <th>0</th>\n",
       "      <td>fraudster_event</td>\n",
       "      <td>2010-02-13 12:00:00</td>\n",
       "      <td>3852</td>\n",
       "      <td>5</td>\n",
       "      <td>US</td>\n",
       "      <td>USD</td>\n",
       "      <td>0.0</td>\n",
       "      <td>&lt;p&gt;&lt;a href=\"http://s432.photobucket.com/albums/qq49/digusonline/?action=view&amp;amp;current=supersunday.jpg\" target=\"_blank\"&gt;&lt;img src=\"http://i432.photobucket.com/albums/qq49/digusonline/supersunday.jpg\" border=\"0\" alt=\"Photobucket\" /&gt;&lt;/a&gt;&lt;/p&gt;\\r\\n&lt;p&gt; &lt;/p&gt;\\r\\n&lt;p style=\"text-align: center;\"&gt;&lt;font size=\"3\"&gt;&lt;strong&gt;Party Starz Entertaintment &amp;amp; Diverse International Group Presents...&lt;br /&gt;&lt;/strong&gt;&lt;/font&gt;&lt;br /&gt;&lt;font face=\"tahoma,arial,helvetica,sans-serif\" size=\"4\"&gt;&lt;strong&gt;The Official \"99 Hour No Sleep\" Super Bowl &lt;/strong&gt;&lt;/font&gt;&lt;/p&gt;\\r\\n&lt;p style=\"text-align: center;\"&gt;&lt;font face=\"tahoma,arial...</td>\n",
       "      <td>gmail.com</td>\n",
       "      <td>2010-01-06 01:01:46</td>\n",
       "      <td>2010-02-08 12:00:00</td>\n",
       "      <td>2010-01-10 07:50:38</td>\n",
       "      <td>2010-02-08 02:00:00</td>\n",
       "      <td>0</td>\n",
       "      <td>0.0</td>\n",
       "      <td>0</td>\n",
       "      <td>1.0</td>\n",
       "      <td>0</td>\n",
       "      <td>y</td>\n",
       "      <td>99 HOUR \"NO SLEEP\" SUPER BOWL CELEBRITY WEEKEND GRAND FINALE</td>\n",
       "      <td>60</td>\n",
       "      <td>0</td>\n",
       "      <td>0</td>\n",
       "      <td>527017</td>\n",
       "      <td></td>\n",
       "      <td>0.0</td>\n",
       "      <td>Party Starz Ent &amp; Diverse Int'l Group</td>\n",
       "      <td>0.0</td>\n",
       "      <td></td>\n",
       "      <td>UNK</td>\n",
       "      <td>[]</td>\n",
       "      <td>29.0</td>\n",
       "      <td>33</td>\n",
       "      <td>1</td>\n",
       "      <td>[{'event_id': 527017, 'cost': 25.0, 'availability': 1, 'quantity_total': 800, 'quantity_sold': 0}, {'event_id': 527017, 'cost': 50.0, 'availability': 1, 'quantity_total': 100, 'quantity_sold': 0}, {'event_id': 527017, 'cost': 550.0, 'availability': 1, 'quantity_total': 20, 'quantity_sold': 0}]</td>\n",
       "      <td>36</td>\n",
       "      <td>1259613950</td>\n",
       "      <td>1</td>\n",
       "      <td>717 Washington Avenue</td>\n",
       "      <td>US</td>\n",
       "      <td>25.777471</td>\n",
       "      <td>-80.133433</td>\n",
       "      <td>INK Nightclub - South Beach</td>\n",
       "      <td>FL</td>\n",
       "      <td>1</td>\n",
       "      <td>2010</td>\n",
       "      <td>2</td>\n",
       "      <td>13</td>\n",
       "      <td>12</td>\n",
       "      <td>0</td>\n",
       "      <td>44</td>\n",
       "      <td>6</td>\n",
       "      <td>6</td>\n",
       "      <td>5</td>\n",
       "      <td>1</td>\n",
       "      <td>False</td>\n",
       "      <td>False</td>\n",
       "      <td>False</td>\n",
       "      <td>False</td>\n",
       "    </tr>\n",
       "  </tbody>\n",
       "</table>\n",
       "</div>"
      ],
      "text/plain": [
       "         acct_type  approx_payout_date  body_length  channels country  \\\n",
       "0  fraudster_event 2010-02-13 12:00:00         3852         5      US   \n",
       "\n",
       "  currency  delivery_method  \\\n",
       "0      USD              0.0   \n",
       "\n",
       "                                                                                                                                                                                                                                                                                                                                                                                                                                                                                                                                                                                                               description  \\\n",
       "0  <p><a href=\"http://s432.photobucket.com/albums/qq49/digusonline/?action=view&amp;current=supersunday.jpg\" target=\"_blank\"><img src=\"http://i432.photobucket.com/albums/qq49/digusonline/supersunday.jpg\" border=\"0\" alt=\"Photobucket\" /></a></p>\\r\\n<p> </p>\\r\\n<p style=\"text-align: center;\"><font size=\"3\"><strong>Party Starz Entertaintment &amp; Diverse International Group Presents...<br /></strong></font><br /><font face=\"tahoma,arial,helvetica,sans-serif\" size=\"4\"><strong>The Official \"99 Hour No Sleep\" Super Bowl </strong></font></p>\\r\\n<p style=\"text-align: center;\"><font face=\"tahoma,arial...   \n",
       "\n",
       "  email_domain       event_created           event_end     event_published  \\\n",
       "0    gmail.com 2010-01-06 01:01:46 2010-02-08 12:00:00 2010-01-10 07:50:38   \n",
       "\n",
       "          event_start  fb_published  gts  has_analytics  has_header  has_logo  \\\n",
       "0 2010-02-08 02:00:00             0  0.0              0         1.0         0   \n",
       "\n",
       "  listed                                                          name  \\\n",
       "0      y  99 HOUR \"NO SLEEP\" SUPER BOWL CELEBRITY WEEKEND GRAND FINALE   \n",
       "\n",
       "   name_length  num_order  num_payouts  object_id org_desc  org_facebook  \\\n",
       "0           60          0            0     527017                    0.0   \n",
       "\n",
       "                                org_name  org_twitter payee_name payout_type  \\\n",
       "0  Party Starz Ent & Diverse Int'l Group          0.0                    UNK   \n",
       "\n",
       "  previous_payouts  sale_duration  sale_duration2  show_map  \\\n",
       "0               []           29.0              33         1   \n",
       "\n",
       "                                                                                                                                                                                                                                                                                             ticket_types  \\\n",
       "0  [{'event_id': 527017, 'cost': 25.0, 'availability': 1, 'quantity_total': 800, 'quantity_sold': 0}, {'event_id': 527017, 'cost': 50.0, 'availability': 1, 'quantity_total': 100, 'quantity_sold': 0}, {'event_id': 527017, 'cost': 550.0, 'availability': 1, 'quantity_total': 20, 'quantity_sold': 0}]   \n",
       "\n",
       "   user_age  user_created  user_type          venue_address venue_country  \\\n",
       "0        36    1259613950          1  717 Washington Avenue            US   \n",
       "\n",
       "   venue_latitude  venue_longitude                   venue_name venue_state  \\\n",
       "0       25.777471       -80.133433  INK Nightclub - South Beach          FL   \n",
       "\n",
       "   Label  year  month  day  hour  minute  dayofyear  weekofyear  week  \\\n",
       "0      1  2010      2   13    12       0         44           6     6   \n",
       "\n",
       "   dayofweek  quarter  is_month_start  is_month_end  is_quarter_start  \\\n",
       "0          5        1           False         False             False   \n",
       "\n",
       "   is_quarter_end  \n",
       "0           False  "
      ]
     },
     "execution_count": 40,
     "metadata": {},
     "output_type": "execute_result"
    }
   ],
   "source": [
    "data.head(1)"
   ]
  },
  {
   "cell_type": "code",
   "execution_count": 174,
   "metadata": {},
   "outputs": [
    {
     "data": {
      "text/plain": [
       "0                                                                                                                                                                                                                                                                                                                                                                                                                                                                                                                                                                                                                             []\n",
       "1        [{'name': 'RUF', 'created': '2010-10-01 01:10:09', 'country': 'US', 'amount': 34389.38, 'state': 'GA', 'address': '1700 North Brown Road', 'uid': 5419068, 'event': 786869, 'zip_code': '30043'}, {'name': 'RUF', 'created': '2011-02-02 01:12:10', 'country': 'US', 'amount': 764.93, 'state': 'GA', 'address': '1700 North Brown Road', 'uid': 5419068, 'event': 786878, 'zip_code': '30043'}, {'name': 'RUF', 'created': '2011-03-15 01:30:42', 'country': 'US', 'amount': 17405.26, 'state': 'GA', 'address': '1700 North Brown Road', 'uid': 5419068, 'event': 1181203, 'zip_code': '30043'}, {'name': 'RUF', '...\n",
       "2        [{'name': 'Danielle Severn', 'created': '2010-06-30 01:10:47', 'country': 'US', 'amount': 2283.96, 'state': 'CA', 'address': '550 Temple Ave.', 'uid': 4355141, 'event': 672668, 'zip_code': '93010'}, {'name': 'University Preparation School ', 'created': '2010-08-11 01:10:38', 'country': 'US', 'amount': 1498.93, 'state': 'CA', 'address': '550 Temple Ave.', 'uid': 4355141, 'event': 743331, 'zip_code': '93010'}, {'name': 'University Preparation School', 'created': '2010-08-19 01:10:28', 'country': 'US', 'amount': 1460.54, 'state': 'CA', 'address': '550 Temple Ave.', 'uid': 4355141, 'event': 69...\n",
       "3        [{'name': '', 'created': '2010-11-09 01:10:15', 'country': 'IE', 'amount': 69.2, 'state': '', 'address': '', 'uid': 5955493, 'event': 842563, 'zip_code': ''}, {'name': '', 'created': '2013-04-15 03:47:39', 'country': 'IE', 'amount': 211.06, 'state': '', 'address': '', 'uid': 5955493, 'event': 885645, 'zip_code': ''}, {'name': '', 'created': '2013-04-15 03:47:39', 'country': 'IE', 'amount': 80.66, 'state': '', 'address': '', 'uid': 5955493, 'event': 5718920, 'zip_code': ''}, {'name': '', 'created': '2013-04-15 03:47:40', 'country': 'IE', 'amount': 298.13, 'state': '', 'address': '', 'uid': ...\n",
       "4        [{'name': 'Arts and Business Council or Greater Boston', 'created': '2010-12-18 01:11:29', 'country': 'US', 'amount': 15.0, 'state': 'MA', 'address': '249 A Street', 'uid': 8205253, 'event': 1020229, 'zip_code': '02210'}, {'name': 'Arts and Business Council or Greater Boston', 'created': '2011-01-26 01:11:29', 'country': 'US', 'amount': 20.0, 'state': 'MA', 'address': '249 A Street', 'uid': 8205253, 'event': 1206495, 'zip_code': '02210'}, {'name': 'Arts and Business Council or Greater Boston', 'created': '2011-02-16 01:12:11', 'country': 'US', 'amount': 2150.0, 'state': 'MA', 'address': '2...\n",
       "                                                                                                                                                                                                                                                                                                                  ...                                                                                                                                                                                                                                                                                                           \n",
       "14332                                                                                                                                                                                                                                                                                                                                                                                                                                                                                                                                                                                                                         []\n",
       "14333    [{'name': 'ARCS Foundation Inc., San Diego Chapter', 'created': '2011-11-13 03:10:41', 'country': 'US', 'amount': 3675.8, 'state': 'CA', 'address': 'PO Box 8394', 'uid': 1236081, 'event': 2096869, 'zip_code': '92067'}, {'name': 'ARCS Foundation Inc., San Diego Chapter', 'created': '2011-11-13 03:10:41', 'country': 'US', 'amount': 90.0, 'state': 'CA', 'address': 'PO Box 8394', 'uid': 1236081, 'event': 2099777, 'zip_code': '92067'}, {'name': 'ARCS Foundation Inc., San Diego Chapter', 'created': '2012-04-02 03:12:54', 'country': 'US', 'amount': 9197.48, 'state': 'CA', 'address': 'PO Box 8394'...\n",
       "14334                                                                                                                                                                                                                                                                                                                                                                                                                                                           [{'name': '', 'created': '2013-05-16 03:26:11', 'country': 'US', 'amount': 20.0, 'state': '', 'address': '', 'uid': 46656119, 'event': 5465732, 'zip_code': ''}]\n",
       "14335    [{'name': '', 'created': '2010-11-30 01:11:30', 'country': 'US', 'amount': 350.0, 'state': '', 'address': '', 'uid': 8666263, 'event': 1062515, 'zip_code': ''}, {'name': '', 'created': '2010-12-28 00:00:00', 'country': 'US', 'amount': 2160.0, 'state': '', 'address': '', 'uid': 8666263, 'event': 1089507, 'zip_code': ''}, {'name': '', 'created': '2010-12-28 00:00:00', 'country': 'US', 'amount': 7533.38, 'state': '', 'address': '', 'uid': 8666263, 'event': 1062617, 'zip_code': ''}, {'name': '', 'created': '2010-12-28 00:00:00', 'country': 'US', 'amount': 667.5, 'state': '', 'address': '', 'ui...\n",
       "14336                                                                                                                                                                                                                                                                                                                                                                                                                                                                                                                                                                                                                         []\n",
       "Name: previous_payouts, Length: 14337, dtype: object"
      ]
     },
     "execution_count": 174,
     "metadata": {},
     "output_type": "execute_result"
    }
   ],
   "source": [
    "model_cols.previous_payouts"
   ]
  },
  {
   "cell_type": "code",
   "execution_count": 131,
   "metadata": {},
   "outputs": [
    {
     "data": {
      "text/plain": [
       "Index(['acct_type', 'approx_payout_date', 'body_length', 'channels', 'country',\n",
       "       'currency', 'delivery_method', 'description', 'email_domain',\n",
       "       'event_created', 'event_end', 'event_published', 'event_start',\n",
       "       'fb_published', 'gts', 'has_analytics', 'has_header', 'has_logo',\n",
       "       'listed', 'name', 'name_length', 'num_order', 'num_payouts',\n",
       "       'object_id', 'org_desc', 'org_facebook', 'org_name', 'org_twitter',\n",
       "       'payee_name', 'payout_type', 'previous_payouts', 'sale_duration',\n",
       "       'sale_duration2', 'show_map', 'ticket_types', 'user_age',\n",
       "       'user_created', 'user_type', 'venue_address', 'venue_country',\n",
       "       'venue_latitude', 'venue_longitude', 'venue_name', 'venue_state',\n",
       "       'Label', 'time_diff', 'time_diff_days', 'time_diff_seconds', 'year',\n",
       "       'month', 'day', 'hour', 'minute', 'dayofyear', 'weekofyear', 'week',\n",
       "       'dayofweek', 'quarter', 'is_month_start', 'is_month_end',\n",
       "       'is_quarter_start', 'is_quarter_end'],\n",
       "      dtype='object')"
      ]
     },
     "execution_count": 131,
     "metadata": {},
     "output_type": "execute_result"
    }
   ],
   "source": [
    "data.columns"
   ]
  },
  {
   "cell_type": "code",
   "execution_count": 191,
   "metadata": {},
   "outputs": [],
   "source": [
    "features = ['body_length', 'channels', 'country',\n",
    "       'currency', 'delivery_method', 'email_domain',\n",
    "       'fb_published', 'has_header', 'has_logo', 'name_length',\n",
    "       'object_id', 'org_facebook', 'org_twitter',\n",
    "       'show_map', 'user_age',\n",
    "       'user_created', 'venue_country',\n",
    "       'venue_latitude', 'venue_longitude', 'venue_state',\n",
    "       'Label', 'year', 'month', 'day', 'hour', 'minute', 'dayofyear',\n",
    "       'weekofyear', 'week', 'dayofweek', 'quarter', 'is_month_start',\n",
    "       'is_month_end', 'is_quarter_start', 'is_quarter_end', 'time_diff',\n",
    "       'time_diff_seconds', 'previous_payout0']"
   ]
  },
  {
   "cell_type": "code",
   "execution_count": 36,
   "metadata": {},
   "outputs": [],
   "source": [
    "def compare(frauddf, nonfrauddf, col):\n",
    "    print(f'Fraud: \\n{frauddf[col].value_counts()/len(frauddf)*100} \\n\\n\\nNonFraud: \\n{nonfrauddf[col].value_counts()/len(nonfrauddf) * 100}\\n\\n')"
   ]
  },
  {
   "cell_type": "code",
   "execution_count": 134,
   "metadata": {},
   "outputs": [
    {
     "name": "stdout",
     "output_type": "stream",
     "text": [
      "Fraud: \n",
      "1    71.771075\n",
      "3    22.815159\n",
      "4     5.104408\n",
      "5     0.232019\n",
      "2     0.077340\n",
      "Name: user_type, dtype: float64 \n",
      "\n",
      "\n",
      "NonFraud: \n",
      "3      55.389451\n",
      "4      22.623428\n",
      "1      21.542472\n",
      "5       0.429316\n",
      "103     0.015333\n",
      "Name: user_type, dtype: float64\n",
      "\n",
      "\n"
     ]
    }
   ],
   "source": [
    "compare(fraud, nonfraud, 'user_type')"
   ]
  },
  {
   "cell_type": "code",
   "execution_count": 116,
   "metadata": {},
   "outputs": [
    {
     "data": {
      "text/plain": [
       "(0.002836553204538485, 37, 13044)"
      ]
     },
     "execution_count": 116,
     "metadata": {},
     "output_type": "execute_result"
    }
   ],
   "source": [
    "len(nonfraud[nonfraud['num_order'] == 0])/len(nonfraud), len(nonfraud[nonfraud['num_order'] == 0]), len(nonfraud)"
   ]
  },
  {
   "cell_type": "code",
   "execution_count": 117,
   "metadata": {},
   "outputs": [
    {
     "data": {
      "text/plain": [
       "(0.24748646558391338, 320, 1293)"
      ]
     },
     "execution_count": 117,
     "metadata": {},
     "output_type": "execute_result"
    }
   ],
   "source": [
    "len(fraud[fraud['num_order'] == 0])/len(fraud), len(fraud[fraud['num_order'] == 0]), len(fraud)"
   ]
  },
  {
   "cell_type": "markdown",
   "metadata": {},
   "source": [
    "### Text columns:\n",
    "- description\n",
    "- name\n",
    "- org_description\n",
    "- org_name\n",
    "- venue address\n",
    "- venue_name"
   ]
  },
  {
   "cell_type": "markdown",
   "metadata": {},
   "source": [
    "### Leaky columns\n",
    "- num_order\n",
    "- num_payouts\n",
    "- gts"
   ]
  },
  {
   "cell_type": "code",
   "execution_count": 289,
   "metadata": {},
   "outputs": [
    {
     "data": {
      "text/plain": [
       "{'acct_type',\n",
       " 'approx_payout_date',\n",
       " 'description',\n",
       " 'event_created',\n",
       " 'event_end',\n",
       " 'event_published',\n",
       " 'event_start',\n",
       " 'gts',\n",
       " 'has_analytics',\n",
       " 'listed',\n",
       " 'name',\n",
       " 'num_order',\n",
       " 'num_payouts',\n",
       " 'org_desc',\n",
       " 'org_name',\n",
       " 'payee_name',\n",
       " 'payout_type',\n",
       " 'previous_payouts',\n",
       " 'sale_duration',\n",
       " 'sale_duration2',\n",
       " 'ticket_types',\n",
       " 'time_diff_days',\n",
       " 'user_type',\n",
       " 'venue_address',\n",
       " 'venue_name'}"
      ]
     },
     "execution_count": 289,
     "metadata": {},
     "output_type": "execute_result"
    }
   ],
   "source": [
    "columns_removed = set(data.columns).difference(features)\n",
    "columns_removed"
   ]
  },
  {
   "cell_type": "markdown",
   "metadata": {},
   "source": [
    "### Feature engineering List:\n",
    "- num order\n",
    "- gts"
   ]
  },
  {
   "cell_type": "code",
   "execution_count": 194,
   "metadata": {},
   "outputs": [],
   "source": [
    "model_cols.drop(['org_name', 'ticket_types', 'venue_address', 'venue_name'], axis=1, inplace=True)"
   ]
  },
  {
   "cell_type": "code",
   "execution_count": 180,
   "metadata": {},
   "outputs": [],
   "source": [
    "model_cols['previous_payout0'] = np.where(truth_col, 1, 0)"
   ]
  },
  {
   "cell_type": "code",
   "execution_count": 208,
   "metadata": {},
   "outputs": [],
   "source": [
    "event_cols = model_cols.columns[model_cols.columns.str.contains('event')]"
   ]
  },
  {
   "cell_type": "code",
   "execution_count": 209,
   "metadata": {},
   "outputs": [],
   "source": [
    "model_cols.drop(event_cols, axis=1, inplace=True)"
   ]
  },
  {
   "cell_type": "code",
   "execution_count": 218,
   "metadata": {},
   "outputs": [],
   "source": [
    "model_cols.has_header.fillna('UNK', inplace=True)"
   ]
  },
  {
   "cell_type": "code",
   "execution_count": 219,
   "metadata": {},
   "outputs": [
    {
     "data": {
      "text/plain": [
       "0.0    7124\n",
       "UNK    5409\n",
       "1.0    1804\n",
       "Name: has_header, dtype: int64"
      ]
     },
     "execution_count": 219,
     "metadata": {},
     "output_type": "execute_result"
    }
   ],
   "source": [
    "model_cols.has_header.value_counts()"
   ]
  },
  {
   "cell_type": "code",
   "execution_count": 220,
   "metadata": {},
   "outputs": [],
   "source": [
    "fraud = model_cols[model_cols['Label'] == 1]\n",
    "nonfraud = model_cols[model_cols['Label'] == 0]"
   ]
  },
  {
   "cell_type": "code",
   "execution_count": 223,
   "metadata": {},
   "outputs": [
    {
     "name": "stdout",
     "output_type": "stream",
     "text": [
      "Fraud: \n",
      "UNK    59.860789\n",
      "0.0    37.354988\n",
      "1.0     2.784223\n",
      "Name: has_header, dtype: float64 \n",
      "\n",
      "\n",
      "NonFraud: \n",
      "0.0    50.912297\n",
      "UNK    35.533579\n",
      "1.0    13.554125\n",
      "Name: has_header, dtype: float64\n",
      "\n",
      "\n"
     ]
    }
   ],
   "source": [
    "fraud_header = compare(fraud, nonfraud, 'has_header')"
   ]
  },
  {
   "cell_type": "code",
   "execution_count": 233,
   "metadata": {},
   "outputs": [],
   "source": [
    "dummy_cols = pd.get_dummies(model_cols, columns=['has_header'], dummy_na=True)"
   ]
  },
  {
   "cell_type": "code",
   "execution_count": 235,
   "metadata": {},
   "outputs": [],
   "source": [
    "dummy_cols.drop(['country', 'currency', 'previous_payouts'], axis=1, inplace=True)"
   ]
  },
  {
   "cell_type": "code",
   "execution_count": 247,
   "metadata": {},
   "outputs": [],
   "source": [
    "dummy_cols.drop('time_diff', axis=1, inplace=True)"
   ]
  },
  {
   "cell_type": "code",
   "execution_count": 249,
   "metadata": {},
   "outputs": [
    {
     "data": {
      "text/html": [
       "<div>\n",
       "<style scoped>\n",
       "    .dataframe tbody tr th:only-of-type {\n",
       "        vertical-align: middle;\n",
       "    }\n",
       "\n",
       "    .dataframe tbody tr th {\n",
       "        vertical-align: top;\n",
       "    }\n",
       "\n",
       "    .dataframe thead th {\n",
       "        text-align: right;\n",
       "    }\n",
       "</style>\n",
       "<table border=\"1\" class=\"dataframe\">\n",
       "  <thead>\n",
       "    <tr style=\"text-align: right;\">\n",
       "      <th></th>\n",
       "      <th>body_length</th>\n",
       "      <th>channels</th>\n",
       "      <th>delivery_method</th>\n",
       "      <th>email_domain</th>\n",
       "      <th>fb_published</th>\n",
       "      <th>has_logo</th>\n",
       "      <th>name_length</th>\n",
       "      <th>object_id</th>\n",
       "      <th>org_facebook</th>\n",
       "      <th>org_twitter</th>\n",
       "      <th>show_map</th>\n",
       "      <th>user_age</th>\n",
       "      <th>user_created</th>\n",
       "      <th>user_type</th>\n",
       "      <th>venue_country</th>\n",
       "      <th>venue_latitude</th>\n",
       "      <th>venue_longitude</th>\n",
       "      <th>venue_state</th>\n",
       "      <th>Label</th>\n",
       "      <th>year</th>\n",
       "      <th>month</th>\n",
       "      <th>day</th>\n",
       "      <th>hour</th>\n",
       "      <th>minute</th>\n",
       "      <th>dayofyear</th>\n",
       "      <th>weekofyear</th>\n",
       "      <th>week</th>\n",
       "      <th>dayofweek</th>\n",
       "      <th>quarter</th>\n",
       "      <th>is_month_start</th>\n",
       "      <th>is_month_end</th>\n",
       "      <th>is_quarter_start</th>\n",
       "      <th>is_quarter_end</th>\n",
       "      <th>time_diff_seconds</th>\n",
       "      <th>previous_payout0</th>\n",
       "      <th>has_header_0.0</th>\n",
       "      <th>has_header_1.0</th>\n",
       "      <th>has_header_nan</th>\n",
       "    </tr>\n",
       "  </thead>\n",
       "  <tbody>\n",
       "    <tr>\n",
       "      <th>0</th>\n",
       "      <td>3852</td>\n",
       "      <td>5</td>\n",
       "      <td>0.0</td>\n",
       "      <td>gmail.com</td>\n",
       "      <td>0</td>\n",
       "      <td>0</td>\n",
       "      <td>60</td>\n",
       "      <td>527017</td>\n",
       "      <td>0.0</td>\n",
       "      <td>0.0</td>\n",
       "      <td>1</td>\n",
       "      <td>36</td>\n",
       "      <td>1259613950</td>\n",
       "      <td>1</td>\n",
       "      <td>US</td>\n",
       "      <td>25.777471</td>\n",
       "      <td>-80.133433</td>\n",
       "      <td>FL</td>\n",
       "      <td>1</td>\n",
       "      <td>2010</td>\n",
       "      <td>2</td>\n",
       "      <td>13</td>\n",
       "      <td>12</td>\n",
       "      <td>0</td>\n",
       "      <td>44</td>\n",
       "      <td>6</td>\n",
       "      <td>6</td>\n",
       "      <td>5</td>\n",
       "      <td>1</td>\n",
       "      <td>False</td>\n",
       "      <td>False</td>\n",
       "      <td>False</td>\n",
       "      <td>False</td>\n",
       "      <td>36000.0</td>\n",
       "      <td>1</td>\n",
       "      <td>0</td>\n",
       "      <td>1</td>\n",
       "      <td>0</td>\n",
       "    </tr>\n",
       "    <tr>\n",
       "      <th>1</th>\n",
       "      <td>3499</td>\n",
       "      <td>0</td>\n",
       "      <td>1.0</td>\n",
       "      <td>ruf.org</td>\n",
       "      <td>0</td>\n",
       "      <td>1</td>\n",
       "      <td>27</td>\n",
       "      <td>786878</td>\n",
       "      <td>0.0</td>\n",
       "      <td>12.0</td>\n",
       "      <td>0</td>\n",
       "      <td>149</td>\n",
       "      <td>1280942776</td>\n",
       "      <td>3</td>\n",
       "      <td>US</td>\n",
       "      <td>32.776566</td>\n",
       "      <td>-79.930922</td>\n",
       "      <td>SC</td>\n",
       "      <td>0</td>\n",
       "      <td>2011</td>\n",
       "      <td>2</td>\n",
       "      <td>3</td>\n",
       "      <td>8</td>\n",
       "      <td>0</td>\n",
       "      <td>34</td>\n",
       "      <td>5</td>\n",
       "      <td>5</td>\n",
       "      <td>3</td>\n",
       "      <td>1</td>\n",
       "      <td>False</td>\n",
       "      <td>False</td>\n",
       "      <td>False</td>\n",
       "      <td>False</td>\n",
       "      <td>32400.0</td>\n",
       "      <td>0</td>\n",
       "      <td>1</td>\n",
       "      <td>0</td>\n",
       "      <td>0</td>\n",
       "    </tr>\n",
       "    <tr>\n",
       "      <th>2</th>\n",
       "      <td>2601</td>\n",
       "      <td>8</td>\n",
       "      <td>1.0</td>\n",
       "      <td>pvsd.k12.ca.us</td>\n",
       "      <td>0</td>\n",
       "      <td>0</td>\n",
       "      <td>28</td>\n",
       "      <td>787337</td>\n",
       "      <td>0.0</td>\n",
       "      <td>0.0</td>\n",
       "      <td>0</td>\n",
       "      <td>214</td>\n",
       "      <td>1272559388</td>\n",
       "      <td>3</td>\n",
       "      <td>US</td>\n",
       "      <td>33.944201</td>\n",
       "      <td>-118.080419</td>\n",
       "      <td>CA</td>\n",
       "      <td>0</td>\n",
       "      <td>2011</td>\n",
       "      <td>1</td>\n",
       "      <td>28</td>\n",
       "      <td>0</td>\n",
       "      <td>0</td>\n",
       "      <td>28</td>\n",
       "      <td>4</td>\n",
       "      <td>4</td>\n",
       "      <td>4</td>\n",
       "      <td>1</td>\n",
       "      <td>False</td>\n",
       "      <td>False</td>\n",
       "      <td>False</td>\n",
       "      <td>False</td>\n",
       "      <td>27000.0</td>\n",
       "      <td>0</td>\n",
       "      <td>0</td>\n",
       "      <td>0</td>\n",
       "      <td>1</td>\n",
       "    </tr>\n",
       "    <tr>\n",
       "      <th>3</th>\n",
       "      <td>12347</td>\n",
       "      <td>6</td>\n",
       "      <td>1.0</td>\n",
       "      <td>irishtabletennis.com</td>\n",
       "      <td>0</td>\n",
       "      <td>1</td>\n",
       "      <td>21</td>\n",
       "      <td>885645</td>\n",
       "      <td>0.0</td>\n",
       "      <td>0.0</td>\n",
       "      <td>0</td>\n",
       "      <td>889</td>\n",
       "      <td>1283870102</td>\n",
       "      <td>3</td>\n",
       "      <td>None</td>\n",
       "      <td>NaN</td>\n",
       "      <td>NaN</td>\n",
       "      <td>UNK</td>\n",
       "      <td>0</td>\n",
       "      <td>2014</td>\n",
       "      <td>1</td>\n",
       "      <td>6</td>\n",
       "      <td>0</td>\n",
       "      <td>0</td>\n",
       "      <td>6</td>\n",
       "      <td>2</td>\n",
       "      <td>2</td>\n",
       "      <td>0</td>\n",
       "      <td>1</td>\n",
       "      <td>False</td>\n",
       "      <td>False</td>\n",
       "      <td>False</td>\n",
       "      <td>False</td>\n",
       "      <td>27831600.0</td>\n",
       "      <td>0</td>\n",
       "      <td>1</td>\n",
       "      <td>0</td>\n",
       "      <td>0</td>\n",
       "    </tr>\n",
       "    <tr>\n",
       "      <th>4</th>\n",
       "      <td>2417</td>\n",
       "      <td>11</td>\n",
       "      <td>0.0</td>\n",
       "      <td>artsandbusinesscouncil.org</td>\n",
       "      <td>1</td>\n",
       "      <td>0</td>\n",
       "      <td>66</td>\n",
       "      <td>1114349</td>\n",
       "      <td>0.0</td>\n",
       "      <td>0.0</td>\n",
       "      <td>0</td>\n",
       "      <td>35</td>\n",
       "      <td>1288984065</td>\n",
       "      <td>3</td>\n",
       "      <td>US</td>\n",
       "      <td>42.353848</td>\n",
       "      <td>-71.044276</td>\n",
       "      <td>MA</td>\n",
       "      <td>0</td>\n",
       "      <td>2011</td>\n",
       "      <td>2</td>\n",
       "      <td>17</td>\n",
       "      <td>0</td>\n",
       "      <td>0</td>\n",
       "      <td>48</td>\n",
       "      <td>7</td>\n",
       "      <td>7</td>\n",
       "      <td>3</td>\n",
       "      <td>1</td>\n",
       "      <td>False</td>\n",
       "      <td>False</td>\n",
       "      <td>False</td>\n",
       "      <td>False</td>\n",
       "      <td>28800.0</td>\n",
       "      <td>0</td>\n",
       "      <td>1</td>\n",
       "      <td>0</td>\n",
       "      <td>0</td>\n",
       "    </tr>\n",
       "  </tbody>\n",
       "</table>\n",
       "</div>"
      ],
      "text/plain": [
       "   body_length  channels  delivery_method                email_domain  \\\n",
       "0         3852         5              0.0                   gmail.com   \n",
       "1         3499         0              1.0                     ruf.org   \n",
       "2         2601         8              1.0              pvsd.k12.ca.us   \n",
       "3        12347         6              1.0        irishtabletennis.com   \n",
       "4         2417        11              0.0  artsandbusinesscouncil.org   \n",
       "\n",
       "   fb_published  has_logo  name_length  object_id  org_facebook  org_twitter  \\\n",
       "0             0         0           60     527017           0.0          0.0   \n",
       "1             0         1           27     786878           0.0         12.0   \n",
       "2             0         0           28     787337           0.0          0.0   \n",
       "3             0         1           21     885645           0.0          0.0   \n",
       "4             1         0           66    1114349           0.0          0.0   \n",
       "\n",
       "   show_map  user_age  user_created  user_type venue_country  venue_latitude  \\\n",
       "0         1        36    1259613950          1            US       25.777471   \n",
       "1         0       149    1280942776          3            US       32.776566   \n",
       "2         0       214    1272559388          3            US       33.944201   \n",
       "3         0       889    1283870102          3          None             NaN   \n",
       "4         0        35    1288984065          3            US       42.353848   \n",
       "\n",
       "   venue_longitude venue_state  Label  year  month  day  hour  minute  \\\n",
       "0       -80.133433          FL      1  2010      2   13    12       0   \n",
       "1       -79.930922          SC      0  2011      2    3     8       0   \n",
       "2      -118.080419          CA      0  2011      1   28     0       0   \n",
       "3              NaN         UNK      0  2014      1    6     0       0   \n",
       "4       -71.044276          MA      0  2011      2   17     0       0   \n",
       "\n",
       "   dayofyear  weekofyear  week  dayofweek  quarter  is_month_start  \\\n",
       "0         44           6     6          5        1           False   \n",
       "1         34           5     5          3        1           False   \n",
       "2         28           4     4          4        1           False   \n",
       "3          6           2     2          0        1           False   \n",
       "4         48           7     7          3        1           False   \n",
       "\n",
       "   is_month_end  is_quarter_start  is_quarter_end  time_diff_seconds  \\\n",
       "0         False             False           False            36000.0   \n",
       "1         False             False           False            32400.0   \n",
       "2         False             False           False            27000.0   \n",
       "3         False             False           False         27831600.0   \n",
       "4         False             False           False            28800.0   \n",
       "\n",
       "   previous_payout0  has_header_0.0  has_header_1.0  has_header_nan  \n",
       "0                 1               0               1               0  \n",
       "1                 0               1               0               0  \n",
       "2                 0               0               0               1  \n",
       "3                 0               1               0               0  \n",
       "4                 0               1               0               0  "
      ]
     },
     "execution_count": 249,
     "metadata": {},
     "output_type": "execute_result"
    }
   ],
   "source": [
    "dummy_cols.head()"
   ]
  },
  {
   "cell_type": "code",
   "execution_count": 256,
   "metadata": {},
   "outputs": [],
   "source": [
    "dummy_cols['yahoo'] = np.where(model_cols['email_domain'].str.contains('yahoo'), 1, 0)"
   ]
  },
  {
   "cell_type": "code",
   "execution_count": 272,
   "metadata": {},
   "outputs": [],
   "source": [
    "dummy_cols['is_fr'] = np.where(model_cols['email_domain'].str.endswith('fr'), 1, 0)"
   ]
  },
  {
   "cell_type": "code",
   "execution_count": 275,
   "metadata": {},
   "outputs": [],
   "source": [
    "dummy_cols['is_org'] = np.where(model_cols['email_domain'].str.endswith('.org'), 1, 0)"
   ]
  },
  {
   "cell_type": "code",
   "execution_count": 281,
   "metadata": {},
   "outputs": [
    {
     "data": {
      "text/plain": [
       "0        2009\n",
       "1        2010\n",
       "2        2010\n",
       "3        2010\n",
       "4        2010\n",
       "         ... \n",
       "14332    2013\n",
       "14333    2009\n",
       "14334    2012\n",
       "14335    2010\n",
       "14336    2013\n",
       "Name: user_created, Length: 14337, dtype: int64"
      ]
     },
     "execution_count": 281,
     "metadata": {},
     "output_type": "execute_result"
    }
   ],
   "source": [
    "data['user_created'].dt.year"
   ]
  },
  {
   "cell_type": "code",
   "execution_count": 290,
   "metadata": {},
   "outputs": [],
   "source": [
    "dummy_cols.drop(['email_domain', 'object_id', 'user_created', 'venue_country', 'venue_latitude', 'venue_longitude', 'venue_state'], axis=1, inplace=True)"
   ]
  },
  {
   "cell_type": "code",
   "execution_count": 304,
   "metadata": {},
   "outputs": [],
   "source": [
    "dummy_cols.drop(['year'], axis=1, inplace=True)"
   ]
  },
  {
   "cell_type": "code",
   "execution_count": 332,
   "metadata": {},
   "outputs": [
    {
     "data": {
      "text/plain": [
       "0.0    8520\n",
       "1.0    5554\n",
       "3.0     247\n",
       "Name: delivery_method, dtype: int64"
      ]
     },
     "execution_count": 332,
     "metadata": {},
     "output_type": "execute_result"
    }
   ],
   "source": [
    "# filled_nas = dummy_cols\n",
    "# filled_nas.org_facebook.fillna(-1, inplace=True)\n",
    "# filled_nas.org_twitter.fillna(-1, inplace=True)\n",
    "filled_nas.delivery_method.value_counts()"
   ]
  },
  {
   "cell_type": "code",
   "execution_count": 335,
   "metadata": {},
   "outputs": [],
   "source": [
    "filled_nas = pd.get_dummies(filled_nas, columns=['delivery_method'], dummy_na=True)"
   ]
  },
  {
   "cell_type": "code",
   "execution_count": 356,
   "metadata": {},
   "outputs": [],
   "source": [
    "rf = RandomForestClassifier(n_estimators=500, n_jobs=-1, verbose=1)"
   ]
  },
  {
   "cell_type": "code",
   "execution_count": 353,
   "metadata": {},
   "outputs": [],
   "source": [
    "X = filled_nas.drop('Label', axis=1).values\n",
    "y = filled_nas['Label'].values"
   ]
  },
  {
   "cell_type": "code",
   "execution_count": 354,
   "metadata": {},
   "outputs": [],
   "source": [
    "xtrain, xtest, ytrain, ytest = train_test_split(X, y, stratify=y)"
   ]
  },
  {
   "cell_type": "code",
   "execution_count": 357,
   "metadata": {},
   "outputs": [
    {
     "name": "stderr",
     "output_type": "stream",
     "text": [
      "[Parallel(n_jobs=4)]: Using backend LokyBackend with 4 concurrent workers.\n",
      "[Parallel(n_jobs=4)]: Done   5 out of   5 | elapsed:    2.2s finished\n"
     ]
    },
    {
     "data": {
      "text/plain": [
       "0.8938278572422658"
      ]
     },
     "execution_count": 357,
     "metadata": {},
     "output_type": "execute_result"
    }
   ],
   "source": [
    "np.mean(cross_val_score(rf, xtrain, ytrain, scoring='f1', cv=5, verbose=1, n_jobs=4))"
   ]
  },
  {
   "cell_type": "code",
   "execution_count": 342,
   "metadata": {},
   "outputs": [
    {
     "data": {
      "text/plain": [
       "Index(['body_length', 'channels', 'fb_published', 'has_logo', 'name_length',\n",
       "       'org_facebook', 'org_twitter', 'show_map', 'user_age', 'user_type',\n",
       "       'Label', 'month', 'day', 'hour', 'minute', 'dayofyear', 'weekofyear',\n",
       "       'week', 'dayofweek', 'quarter', 'is_month_start', 'is_month_end',\n",
       "       'is_quarter_start', 'is_quarter_end', 'time_diff_seconds',\n",
       "       'previous_payout0', 'has_header_0.0', 'has_header_1.0',\n",
       "       'has_header_nan', 'yahoo', 'is_fr', 'is_org', 'delivery_method_0.0',\n",
       "       'delivery_method_1.0', 'delivery_method_3.0', 'delivery_method_nan'],\n",
       "      dtype='object')"
      ]
     },
     "execution_count": 342,
     "metadata": {},
     "output_type": "execute_result"
    }
   ],
   "source": [
    "filled_nas.columns"
   ]
  },
  {
   "cell_type": "code",
   "execution_count": null,
   "metadata": {},
   "outputs": [],
   "source": []
  }
 ],
 "metadata": {
  "kernelspec": {
   "display_name": "Python 3",
   "language": "python",
   "name": "python3"
  },
  "language_info": {
   "codemirror_mode": {
    "name": "ipython",
    "version": 3
   },
   "file_extension": ".py",
   "mimetype": "text/x-python",
   "name": "python",
   "nbconvert_exporter": "python",
   "pygments_lexer": "ipython3",
   "version": "3.8.3"
  }
 },
 "nbformat": 4,
 "nbformat_minor": 4
}
