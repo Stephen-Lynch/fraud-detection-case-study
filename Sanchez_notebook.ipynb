{
 "cells": [
  {
   "cell_type": "code",
   "execution_count": 695,
   "metadata": {},
   "outputs": [],
   "source": [
    "from sklearn.linear_model import LogisticRegression\n",
    "from sklearn.ensemble import RandomForestClassifier\n",
    "from sklearn.model_selection import RandomizedSearchCV\n",
    "from sklearn.model_selection import train_test_split, cross_val_score\n",
    "from fastai.tabular.core import add_datepart\n",
    "from sklearn.metrics import f1_score, classification_report, precision_recall_curve, auc\n",
    "from bs4 import BeautifulSoup\n",
    "import plotly.express as px\n",
    "import pickle"
   ]
  },
  {
   "cell_type": "markdown",
   "metadata": {},
   "source": [
    "### Import data"
   ]
  },
  {
   "cell_type": "code",
   "execution_count": 101,
   "metadata": {},
   "outputs": [],
   "source": [
    "data = pd.read_json('data/data.json')"
   ]
  },
  {
   "cell_type": "markdown",
   "metadata": {},
   "source": [
    "### Convert 'acct_type' to Target Labels based on presence of word \"fraud\""
   ]
  },
  {
   "cell_type": "code",
   "execution_count": 102,
   "metadata": {},
   "outputs": [],
   "source": [
    "data['Label'] = np.where(data['acct_type'].str.contains('fraud'), 1, 0)"
   ]
  },
  {
   "cell_type": "code",
   "execution_count": 103,
   "metadata": {},
   "outputs": [
    {
     "data": {
      "text/html": [
       "<div>\n",
       "<style scoped>\n",
       "    .dataframe tbody tr th:only-of-type {\n",
       "        vertical-align: middle;\n",
       "    }\n",
       "\n",
       "    .dataframe tbody tr th {\n",
       "        vertical-align: top;\n",
       "    }\n",
       "\n",
       "    .dataframe thead th {\n",
       "        text-align: right;\n",
       "    }\n",
       "</style>\n",
       "<table border=\"1\" class=\"dataframe\">\n",
       "  <thead>\n",
       "    <tr style=\"text-align: right;\">\n",
       "      <th></th>\n",
       "      <th>acct_type</th>\n",
       "      <th>approx_payout_date</th>\n",
       "      <th>body_length</th>\n",
       "      <th>channels</th>\n",
       "      <th>country</th>\n",
       "      <th>currency</th>\n",
       "      <th>delivery_method</th>\n",
       "      <th>description</th>\n",
       "      <th>email_domain</th>\n",
       "      <th>event_created</th>\n",
       "      <th>event_end</th>\n",
       "      <th>event_published</th>\n",
       "      <th>event_start</th>\n",
       "      <th>fb_published</th>\n",
       "      <th>gts</th>\n",
       "      <th>has_analytics</th>\n",
       "      <th>has_header</th>\n",
       "      <th>has_logo</th>\n",
       "      <th>listed</th>\n",
       "      <th>name</th>\n",
       "      <th>name_length</th>\n",
       "      <th>num_order</th>\n",
       "      <th>num_payouts</th>\n",
       "      <th>object_id</th>\n",
       "      <th>org_desc</th>\n",
       "      <th>org_facebook</th>\n",
       "      <th>org_name</th>\n",
       "      <th>org_twitter</th>\n",
       "      <th>payee_name</th>\n",
       "      <th>payout_type</th>\n",
       "      <th>previous_payouts</th>\n",
       "      <th>sale_duration</th>\n",
       "      <th>sale_duration2</th>\n",
       "      <th>show_map</th>\n",
       "      <th>ticket_types</th>\n",
       "      <th>user_age</th>\n",
       "      <th>user_created</th>\n",
       "      <th>user_type</th>\n",
       "      <th>venue_address</th>\n",
       "      <th>venue_country</th>\n",
       "      <th>venue_latitude</th>\n",
       "      <th>venue_longitude</th>\n",
       "      <th>venue_name</th>\n",
       "      <th>venue_state</th>\n",
       "      <th>Label</th>\n",
       "    </tr>\n",
       "  </thead>\n",
       "  <tbody>\n",
       "    <tr>\n",
       "      <th>0</th>\n",
       "      <td>fraudster_event</td>\n",
       "      <td>1266062400</td>\n",
       "      <td>3852</td>\n",
       "      <td>5</td>\n",
       "      <td>US</td>\n",
       "      <td>USD</td>\n",
       "      <td>0.0</td>\n",
       "      <td>&lt;p&gt;&lt;a href=\"http://s432.photobucket.com/albums/qq49/digusonline/?action=view&amp;amp;current=supersunday.jpg\" target=\"_blank\"&gt;&lt;img src=\"http://i432.photobucket.com/albums/qq49/digusonline/supersunday.jpg\" border=\"0\" alt=\"Photobucket\" /&gt;&lt;/a&gt;&lt;/p&gt;\\r\\n&lt;p&gt; &lt;/p&gt;\\r\\n&lt;p style=\"text-align: center;\"&gt;&lt;font size=\"3\"&gt;&lt;strong&gt;Party Starz Entertaintment &amp;amp; Diverse International Group Presents...&lt;br /&gt;&lt;/strong&gt;&lt;/font&gt;&lt;br /&gt;&lt;font face=\"tahoma,arial,helvetica,sans-serif\" size=\"4\"&gt;&lt;strong&gt;The Official \"99 Hour No Sleep\" Super Bowl &lt;/strong&gt;&lt;/font&gt;&lt;/p&gt;\\r\\n&lt;p style=\"text-align: center;\"&gt;&lt;font face=\"tahoma,arial...</td>\n",
       "      <td>gmail.com</td>\n",
       "      <td>1262739706</td>\n",
       "      <td>1265630400</td>\n",
       "      <td>1.263110e+09</td>\n",
       "      <td>1265594400</td>\n",
       "      <td>0</td>\n",
       "      <td>0.0</td>\n",
       "      <td>0</td>\n",
       "      <td>1.0</td>\n",
       "      <td>0</td>\n",
       "      <td>y</td>\n",
       "      <td>99 HOUR \"NO SLEEP\" SUPER BOWL CELEBRITY WEEKEND GRAND FINALE</td>\n",
       "      <td>60</td>\n",
       "      <td>0</td>\n",
       "      <td>0</td>\n",
       "      <td>527017</td>\n",
       "      <td></td>\n",
       "      <td>0.0</td>\n",
       "      <td>Party Starz Ent &amp; Diverse Int'l Group</td>\n",
       "      <td>0.0</td>\n",
       "      <td></td>\n",
       "      <td></td>\n",
       "      <td>[]</td>\n",
       "      <td>29.0</td>\n",
       "      <td>33</td>\n",
       "      <td>1</td>\n",
       "      <td>[{'event_id': 527017, 'cost': 25.0, 'availability': 1, 'quantity_total': 800, 'quantity_sold': 0}, {'event_id': 527017, 'cost': 50.0, 'availability': 1, 'quantity_total': 100, 'quantity_sold': 0}, {'event_id': 527017, 'cost': 550.0, 'availability': 1, 'quantity_total': 20, 'quantity_sold': 0}]</td>\n",
       "      <td>36</td>\n",
       "      <td>1259613950</td>\n",
       "      <td>1</td>\n",
       "      <td>717 Washington Avenue</td>\n",
       "      <td>US</td>\n",
       "      <td>25.777471</td>\n",
       "      <td>-80.133433</td>\n",
       "      <td>INK Nightclub - South Beach</td>\n",
       "      <td>FL</td>\n",
       "      <td>1</td>\n",
       "    </tr>\n",
       "  </tbody>\n",
       "</table>\n",
       "</div>"
      ],
      "text/plain": [
       "         acct_type  approx_payout_date  body_length  channels country  \\\n",
       "0  fraudster_event          1266062400         3852         5      US   \n",
       "\n",
       "  currency  delivery_method  \\\n",
       "0      USD              0.0   \n",
       "\n",
       "                                                                                                                                                                                                                                                                                                                                                                                                                                                                                                                                                                                                               description  \\\n",
       "0  <p><a href=\"http://s432.photobucket.com/albums/qq49/digusonline/?action=view&amp;current=supersunday.jpg\" target=\"_blank\"><img src=\"http://i432.photobucket.com/albums/qq49/digusonline/supersunday.jpg\" border=\"0\" alt=\"Photobucket\" /></a></p>\\r\\n<p> </p>\\r\\n<p style=\"text-align: center;\"><font size=\"3\"><strong>Party Starz Entertaintment &amp; Diverse International Group Presents...<br /></strong></font><br /><font face=\"tahoma,arial,helvetica,sans-serif\" size=\"4\"><strong>The Official \"99 Hour No Sleep\" Super Bowl </strong></font></p>\\r\\n<p style=\"text-align: center;\"><font face=\"tahoma,arial...   \n",
       "\n",
       "  email_domain  event_created   event_end  event_published  event_start  \\\n",
       "0    gmail.com     1262739706  1265630400     1.263110e+09   1265594400   \n",
       "\n",
       "   fb_published  gts  has_analytics  has_header  has_logo listed  \\\n",
       "0             0  0.0              0         1.0         0      y   \n",
       "\n",
       "                                                           name  name_length  \\\n",
       "0  99 HOUR \"NO SLEEP\" SUPER BOWL CELEBRITY WEEKEND GRAND FINALE           60   \n",
       "\n",
       "   num_order  num_payouts  object_id org_desc  org_facebook  \\\n",
       "0          0            0     527017                    0.0   \n",
       "\n",
       "                                org_name  org_twitter payee_name payout_type  \\\n",
       "0  Party Starz Ent & Diverse Int'l Group          0.0                          \n",
       "\n",
       "  previous_payouts  sale_duration  sale_duration2  show_map  \\\n",
       "0               []           29.0              33         1   \n",
       "\n",
       "                                                                                                                                                                                                                                                                                             ticket_types  \\\n",
       "0  [{'event_id': 527017, 'cost': 25.0, 'availability': 1, 'quantity_total': 800, 'quantity_sold': 0}, {'event_id': 527017, 'cost': 50.0, 'availability': 1, 'quantity_total': 100, 'quantity_sold': 0}, {'event_id': 527017, 'cost': 550.0, 'availability': 1, 'quantity_total': 20, 'quantity_sold': 0}]   \n",
       "\n",
       "   user_age  user_created  user_type          venue_address venue_country  \\\n",
       "0        36    1259613950          1  717 Washington Avenue            US   \n",
       "\n",
       "   venue_latitude  venue_longitude                   venue_name venue_state  \\\n",
       "0       25.777471       -80.133433  INK Nightclub - South Beach          FL   \n",
       "\n",
       "   Label  \n",
       "0      1  "
      ]
     },
     "execution_count": 103,
     "metadata": {},
     "output_type": "execute_result"
    }
   ],
   "source": [
    "data.head(1)"
   ]
  },
  {
   "cell_type": "markdown",
   "metadata": {},
   "source": [
    "### Define replace function for handling missing (non-NaN) data"
   ]
  },
  {
   "cell_type": "code",
   "execution_count": 104,
   "metadata": {},
   "outputs": [],
   "source": [
    "def replace(row):\n",
    "    if len(row) < 1:\n",
    "        return \"UNK\"\n",
    "    else: return row"
   ]
  },
  {
   "cell_type": "code",
   "execution_count": 105,
   "metadata": {},
   "outputs": [],
   "source": [
    "data['payout_type'] = data['payout_type'].apply(replace)\n",
    "data['country'].fillna('UNK', inplace=True)\n",
    "data['country'] = data['country'].apply(replace)\n",
    "data['venue_state'].fillna('UNK', inplace=True)\n",
    "data['venue_state'] = data['venue_state'].apply(replace)"
   ]
  },
  {
   "cell_type": "markdown",
   "metadata": {},
   "source": [
    "### Time Series conversions"
   ]
  },
  {
   "cell_type": "code",
   "execution_count": 279,
   "metadata": {},
   "outputs": [],
   "source": [
    "data['user_created'] = pd.to_datetime(data['user_created'], unit='s')\n",
    "data['approx_payout_date'] = pd.to_datetime(data['approx_payout_date'], unit = 's')\n",
    "data['event_created'] = pd.to_datetime(data['event_created'], unit='s')\n",
    "data['event_end']= pd.to_datetime(data['event_end'], unit='s')\n",
    "data['event_published'] = pd.to_datetime(data['event_published'], unit='s')\n",
    "data['event_start'] = pd.to_datetime(data['event_start'], unit='s')\n",
    "data['time_diff'] = data['event_end'] - data['event_start']\n",
    "data['time_diff_days'] = data['time_diff'].dt.days\n",
    "data['time_diff_seconds'] = data['time_diff'].dt.total_seconds()"
   ]
  },
  {
   "cell_type": "code",
   "execution_count": 107,
   "metadata": {},
   "outputs": [
    {
     "name": "stderr",
     "output_type": "stream",
     "text": [
      "<ipython-input-107-5489717b1398>:7: FutureWarning: Series.dt.weekofyear and Series.dt.week have been deprecated.  Please use Series.dt.isocalendar().week instead.\n",
      "  data['weekofyear'] = data['approx_payout_date'].dt.weekofyear\n",
      "<ipython-input-107-5489717b1398>:8: FutureWarning: Series.dt.weekofyear and Series.dt.week have been deprecated.  Please use Series.dt.isocalendar().week instead.\n",
      "  data['week'] = data['approx_payout_date'].dt.week\n"
     ]
    }
   ],
   "source": [
    "data['year'] = data['approx_payout_date'].dt.year\n",
    "data['month'] = data['approx_payout_date'].dt.month\n",
    "data['day'] = data['approx_payout_date'].dt.day\n",
    "data['hour'] = data['approx_payout_date'].dt.hour\n",
    "data['minute'] = data['approx_payout_date'].dt.minute\n",
    "data['dayofyear'] = data['approx_payout_date'].dt.dayofyear\n",
    "data['weekofyear'] = data['approx_payout_date'].dt.weekofyear\n",
    "data['week'] = data['approx_payout_date'].dt.week\n",
    "data['dayofweek'] = data['approx_payout_date'].dt.dayofweek\n",
    "data['quarter'] = data['approx_payout_date'].dt.quarter\n",
    "data['is_month_start'] = data['approx_payout_date'].dt.is_month_start\n",
    "data['is_month_end'] = data['approx_payout_date'].dt.is_month_end\n",
    "data['is_quarter_start'] = data['approx_payout_date'].dt.is_quarter_start\n",
    "data['is_quarter_end'] = data['approx_payout_date'].dt.is_quarter_end"
   ]
  },
  {
   "cell_type": "markdown",
   "metadata": {},
   "source": [
    "### Separate datasets into fraud and non-fraud for some visual EDA"
   ]
  },
  {
   "cell_type": "code",
   "execution_count": 282,
   "metadata": {},
   "outputs": [],
   "source": [
    "fraud = data[data['Label'] == 1]\n",
    "nonfraud = data[data['Label'] == 0]"
   ]
  },
  {
   "cell_type": "markdown",
   "metadata": {},
   "source": [
    "### Define columns for histogram plots"
   ]
  },
  {
   "cell_type": "code",
   "execution_count": 11,
   "metadata": {},
   "outputs": [],
   "source": [
    "cols = [\n",
    "    'acct_type', 'approx_payout_date', 'body_length', 'channels', 'country',\n",
    "       'currency', 'delivery_method', 'email_domain',\n",
    "       'event_created', 'event_end', 'event_published', 'event_start',\n",
    "       'fb_published', 'gts', 'has_analytics', 'has_header', 'has_logo',\n",
    "       'listed', 'name_length', 'num_order', 'num_payouts',\n",
    "       'object_id', 'org_facebook', 'org_twitter',\n",
    "       'payee_name', 'payout_type', 'sale_duration',\n",
    "       'sale_duration2', 'show_map', 'user_age',\n",
    "       'user_created', 'user_type',  'venue_country', 'venue_state'\n",
    "]"
   ]
  },
  {
   "cell_type": "code",
   "execution_count": 64,
   "metadata": {},
   "outputs": [],
   "source": [
    "def hist_plots(fraud_df, nonfraud_df, column, bins=30):\n",
    "    '''\n",
    "    Plots a comparison histogram on same plot between fraud and nonfraudulent events\n",
    "    '''\n",
    "    \n",
    "    plt.hist(nonfraud_df[column], label=\"Class #0\", alpha=0.5, edgecolor='black', lw=1.5, color='blue', bins=bins)\n",
    "    plt.hist(fraud_df[column], label=\"Class #1\", alpha=0.5, edgecolor='black', linewidth=1.5, color='r', bins=bins)\n",
    "    plt.title(column, fontsize=34)\n",
    "    plt.legend(fontsize='xx-large')\n",
    "    return plt.show()"
   ]
  },
  {
   "cell_type": "code",
   "execution_count": 14,
   "metadata": {},
   "outputs": [],
   "source": [
    "# for col in cols:\n",
    "#     try:\n",
    "#         hist_plots(fraud, nonfraud, col)\n",
    "#     except TypeError:\n",
    "#         pass"
   ]
  },
  {
   "cell_type": "markdown",
   "metadata": {},
   "source": [
    "#### **** Look at org name, previous payouts, any text based columns, ticket types, lat, long, venue address and name, separately ****"
   ]
  },
  {
   "cell_type": "markdown",
   "metadata": {},
   "source": [
    "### Convert ticket_type column into Dataframe for analysis"
   ]
  },
  {
   "cell_type": "code",
   "execution_count": 11,
   "metadata": {},
   "outputs": [
    {
     "data": {
      "text/html": [
       "<div>\n",
       "<style scoped>\n",
       "    .dataframe tbody tr th:only-of-type {\n",
       "        vertical-align: middle;\n",
       "    }\n",
       "\n",
       "    .dataframe tbody tr th {\n",
       "        vertical-align: top;\n",
       "    }\n",
       "\n",
       "    .dataframe thead th {\n",
       "        text-align: right;\n",
       "    }\n",
       "</style>\n",
       "<table border=\"1\" class=\"dataframe\">\n",
       "  <thead>\n",
       "    <tr style=\"text-align: right;\">\n",
       "      <th></th>\n",
       "      <th>event_id</th>\n",
       "      <th>cost</th>\n",
       "      <th>availability</th>\n",
       "      <th>quantity_total</th>\n",
       "      <th>quantity_sold</th>\n",
       "    </tr>\n",
       "  </thead>\n",
       "  <tbody>\n",
       "    <tr>\n",
       "      <th>0</th>\n",
       "      <td>527017</td>\n",
       "      <td>25.0</td>\n",
       "      <td>1</td>\n",
       "      <td>800</td>\n",
       "      <td>0</td>\n",
       "    </tr>\n",
       "    <tr>\n",
       "      <th>1</th>\n",
       "      <td>527017</td>\n",
       "      <td>50.0</td>\n",
       "      <td>1</td>\n",
       "      <td>100</td>\n",
       "      <td>0</td>\n",
       "    </tr>\n",
       "    <tr>\n",
       "      <th>2</th>\n",
       "      <td>527017</td>\n",
       "      <td>550.0</td>\n",
       "      <td>1</td>\n",
       "      <td>20</td>\n",
       "      <td>0</td>\n",
       "    </tr>\n",
       "  </tbody>\n",
       "</table>\n",
       "</div>"
      ],
      "text/plain": [
       "   event_id   cost  availability  quantity_total  quantity_sold\n",
       "0    527017   25.0             1             800              0\n",
       "1    527017   50.0             1             100              0\n",
       "2    527017  550.0             1              20              0"
      ]
     },
     "execution_count": 11,
     "metadata": {},
     "output_type": "execute_result"
    }
   ],
   "source": [
    "pd.DataFrame(fraud.ticket_types[0])"
   ]
  },
  {
   "cell_type": "markdown",
   "metadata": {},
   "source": [
    "### Fraud conversion + analytsis"
   ]
  },
  {
   "cell_type": "code",
   "execution_count": 154,
   "metadata": {},
   "outputs": [],
   "source": [
    "frame_list = []\n",
    "for x in fraud.ticket_types.values:\n",
    "    frame_list.append(pd.DataFrame(x))\n",
    "\n",
    "fraud_ticket_types = pd.concat(frame_list)\n",
    "\n",
    "frame_list = []\n",
    "for x in nonfraud.ticket_types.values:\n",
    "    frame_list.append(pd.DataFrame(x))\n",
    "\n",
    "nonfraud_ticket_types = pd.concat(frame_list)\n",
    "\n",
    "fraud_ticket_types.reset_index(drop=True, inplace=True)\n",
    "nonfraud_ticket_types.reset_index(drop=True, inplace=True)\n",
    "\n",
    "fraud_ticket_types.iloc[:, 1:].describe()\n",
    "nonfraud_ticket_types.iloc[:, 1:].describe()"
   ]
  },
  {
   "cell_type": "markdown",
   "metadata": {},
   "source": [
    "### Time Series Analysis"
   ]
  },
  {
   "cell_type": "code",
   "execution_count": 15,
   "metadata": {},
   "outputs": [],
   "source": [
    "time_cols = ['year', 'month', 'day', 'hour', 'minute', 'dayofyear',\n",
    "       'weekofyear', 'week', 'dayofweek', 'quarter', 'is_month_start',\n",
    "       'is_month_end', 'is_quarter_start', 'is_quarter_end']"
   ]
  },
  {
   "cell_type": "code",
   "execution_count": 16,
   "metadata": {},
   "outputs": [],
   "source": [
    "# for col in time_cols:\n",
    "#     try:\n",
    "#         hist_plots(fraud, nonfraud, col)\n",
    "#     except TypeError:\n",
    "#         pass"
   ]
  },
  {
   "cell_type": "code",
   "execution_count": 191,
   "metadata": {},
   "outputs": [],
   "source": [
    "features = ['body_length', 'channels', 'country',\n",
    "       'currency', 'delivery_method', 'email_domain',\n",
    "       'fb_published', 'has_header', 'has_logo', 'name_length',\n",
    "       'object_id', 'org_facebook', 'org_twitter',\n",
    "       'show_map', 'user_age',\n",
    "       'user_created', 'venue_country',\n",
    "       'venue_latitude', 'venue_longitude', 'venue_state',\n",
    "       'Label', 'year', 'month', 'day', 'hour', 'minute', 'dayofyear',\n",
    "       'weekofyear', 'week', 'dayofweek', 'quarter', 'is_month_start',\n",
    "       'is_month_end', 'is_quarter_start', 'is_quarter_end', 'time_diff',\n",
    "       'time_diff_seconds', 'previous_payout0']"
   ]
  },
  {
   "cell_type": "code",
   "execution_count": 36,
   "metadata": {},
   "outputs": [],
   "source": [
    "def compare(frauddf, nonfrauddf, col):\n",
    "    print(f'Fraud: \\n{frauddf[col].value_counts()/len(frauddf)*100} \\n\\n\\nNonFraud: \\n{nonfrauddf[col].value_counts()/len(nonfrauddf) * 100}\\n\\n')"
   ]
  },
  {
   "cell_type": "code",
   "execution_count": 134,
   "metadata": {},
   "outputs": [
    {
     "name": "stdout",
     "output_type": "stream",
     "text": [
      "Fraud: \n",
      "1    71.771075\n",
      "3    22.815159\n",
      "4     5.104408\n",
      "5     0.232019\n",
      "2     0.077340\n",
      "Name: user_type, dtype: float64 \n",
      "\n",
      "\n",
      "NonFraud: \n",
      "3      55.389451\n",
      "4      22.623428\n",
      "1      21.542472\n",
      "5       0.429316\n",
      "103     0.015333\n",
      "Name: user_type, dtype: float64\n",
      "\n",
      "\n"
     ]
    }
   ],
   "source": [
    "compare(fraud, nonfraud, 'user_type')"
   ]
  },
  {
   "cell_type": "code",
   "execution_count": 116,
   "metadata": {},
   "outputs": [
    {
     "data": {
      "text/plain": [
       "(0.002836553204538485, 37, 13044)"
      ]
     },
     "execution_count": 116,
     "metadata": {},
     "output_type": "execute_result"
    }
   ],
   "source": [
    "len(nonfraud[nonfraud['num_order'] == 0])/len(nonfraud), len(nonfraud[nonfraud['num_order'] == 0]), len(nonfraud)"
   ]
  },
  {
   "cell_type": "code",
   "execution_count": 117,
   "metadata": {},
   "outputs": [
    {
     "data": {
      "text/plain": [
       "(0.24748646558391338, 320, 1293)"
      ]
     },
     "execution_count": 117,
     "metadata": {},
     "output_type": "execute_result"
    }
   ],
   "source": [
    "len(fraud[fraud['num_order'] == 0])/len(fraud), len(fraud[fraud['num_order'] == 0]), len(fraud)"
   ]
  },
  {
   "cell_type": "markdown",
   "metadata": {},
   "source": [
    "### Text columns:\n",
    "- description\n",
    "- name\n",
    "- org_description\n",
    "- org_name\n",
    "- venue address\n",
    "- venue_name"
   ]
  },
  {
   "cell_type": "markdown",
   "metadata": {},
   "source": [
    "### Leaky columns\n",
    "- num_order\n",
    "- num_payouts\n",
    "- gts"
   ]
  },
  {
   "cell_type": "code",
   "execution_count": 289,
   "metadata": {},
   "outputs": [
    {
     "data": {
      "text/plain": [
       "{'acct_type',\n",
       " 'approx_payout_date',\n",
       " 'description',\n",
       " 'event_created',\n",
       " 'event_end',\n",
       " 'event_published',\n",
       " 'event_start',\n",
       " 'gts',\n",
       " 'has_analytics',\n",
       " 'listed',\n",
       " 'name',\n",
       " 'num_order',\n",
       " 'num_payouts',\n",
       " 'org_desc',\n",
       " 'org_name',\n",
       " 'payee_name',\n",
       " 'payout_type',\n",
       " 'previous_payouts',\n",
       " 'sale_duration',\n",
       " 'sale_duration2',\n",
       " 'ticket_types',\n",
       " 'time_diff_days',\n",
       " 'user_type',\n",
       " 'venue_address',\n",
       " 'venue_name'}"
      ]
     },
     "execution_count": 289,
     "metadata": {},
     "output_type": "execute_result"
    }
   ],
   "source": [
    "columns_removed = set(data.columns).difference(features)\n",
    "columns_removed"
   ]
  },
  {
   "cell_type": "markdown",
   "metadata": {},
   "source": [
    "### Feature engineering List:\n",
    "- num order\n",
    "- gts"
   ]
  },
  {
   "cell_type": "code",
   "execution_count": 194,
   "metadata": {},
   "outputs": [],
   "source": [
    "model_cols.drop(['org_name', 'ticket_types', 'venue_address', 'venue_name'], axis=1, inplace=True)"
   ]
  },
  {
   "cell_type": "code",
   "execution_count": 180,
   "metadata": {},
   "outputs": [],
   "source": [
    "model_cols['previous_payout0'] = np.where(truth_col, 1, 0)"
   ]
  },
  {
   "cell_type": "code",
   "execution_count": 208,
   "metadata": {},
   "outputs": [],
   "source": [
    "event_cols = model_cols.columns[model_cols.columns.str.contains('event')]"
   ]
  },
  {
   "cell_type": "code",
   "execution_count": 209,
   "metadata": {},
   "outputs": [],
   "source": [
    "model_cols.drop(event_cols, axis=1, inplace=True)"
   ]
  },
  {
   "cell_type": "code",
   "execution_count": 218,
   "metadata": {},
   "outputs": [],
   "source": [
    "model_cols.has_header.fillna('UNK', inplace=True)"
   ]
  },
  {
   "cell_type": "code",
   "execution_count": 219,
   "metadata": {},
   "outputs": [
    {
     "data": {
      "text/plain": [
       "0.0    7124\n",
       "UNK    5409\n",
       "1.0    1804\n",
       "Name: has_header, dtype: int64"
      ]
     },
     "execution_count": 219,
     "metadata": {},
     "output_type": "execute_result"
    }
   ],
   "source": [
    "model_cols.has_header.value_counts()"
   ]
  },
  {
   "cell_type": "code",
   "execution_count": 220,
   "metadata": {},
   "outputs": [],
   "source": [
    "fraud = model_cols[model_cols['Label'] == 1]\n",
    "nonfraud = model_cols[model_cols['Label'] == 0]"
   ]
  },
  {
   "cell_type": "code",
   "execution_count": 223,
   "metadata": {},
   "outputs": [
    {
     "name": "stdout",
     "output_type": "stream",
     "text": [
      "Fraud: \n",
      "UNK    59.860789\n",
      "0.0    37.354988\n",
      "1.0     2.784223\n",
      "Name: has_header, dtype: float64 \n",
      "\n",
      "\n",
      "NonFraud: \n",
      "0.0    50.912297\n",
      "UNK    35.533579\n",
      "1.0    13.554125\n",
      "Name: has_header, dtype: float64\n",
      "\n",
      "\n"
     ]
    }
   ],
   "source": [
    "fraud_header = compare(fraud, nonfraud, 'has_header')"
   ]
  },
  {
   "cell_type": "code",
   "execution_count": 233,
   "metadata": {},
   "outputs": [],
   "source": [
    "dummy_cols = pd.get_dummies(model_cols, columns=['has_header'], dummy_na=True)"
   ]
  },
  {
   "cell_type": "code",
   "execution_count": 235,
   "metadata": {},
   "outputs": [],
   "source": [
    "dummy_cols.drop(['country', 'currency', 'previous_payouts'], axis=1, inplace=True)"
   ]
  },
  {
   "cell_type": "code",
   "execution_count": 247,
   "metadata": {},
   "outputs": [],
   "source": [
    "dummy_cols.drop('time_diff', axis=1, inplace=True)"
   ]
  },
  {
   "cell_type": "code",
   "execution_count": 249,
   "metadata": {},
   "outputs": [
    {
     "data": {
      "text/html": [
       "<div>\n",
       "<style scoped>\n",
       "    .dataframe tbody tr th:only-of-type {\n",
       "        vertical-align: middle;\n",
       "    }\n",
       "\n",
       "    .dataframe tbody tr th {\n",
       "        vertical-align: top;\n",
       "    }\n",
       "\n",
       "    .dataframe thead th {\n",
       "        text-align: right;\n",
       "    }\n",
       "</style>\n",
       "<table border=\"1\" class=\"dataframe\">\n",
       "  <thead>\n",
       "    <tr style=\"text-align: right;\">\n",
       "      <th></th>\n",
       "      <th>body_length</th>\n",
       "      <th>channels</th>\n",
       "      <th>delivery_method</th>\n",
       "      <th>email_domain</th>\n",
       "      <th>fb_published</th>\n",
       "      <th>has_logo</th>\n",
       "      <th>name_length</th>\n",
       "      <th>object_id</th>\n",
       "      <th>org_facebook</th>\n",
       "      <th>org_twitter</th>\n",
       "      <th>show_map</th>\n",
       "      <th>user_age</th>\n",
       "      <th>user_created</th>\n",
       "      <th>user_type</th>\n",
       "      <th>venue_country</th>\n",
       "      <th>venue_latitude</th>\n",
       "      <th>venue_longitude</th>\n",
       "      <th>venue_state</th>\n",
       "      <th>Label</th>\n",
       "      <th>year</th>\n",
       "      <th>month</th>\n",
       "      <th>day</th>\n",
       "      <th>hour</th>\n",
       "      <th>minute</th>\n",
       "      <th>dayofyear</th>\n",
       "      <th>weekofyear</th>\n",
       "      <th>week</th>\n",
       "      <th>dayofweek</th>\n",
       "      <th>quarter</th>\n",
       "      <th>is_month_start</th>\n",
       "      <th>is_month_end</th>\n",
       "      <th>is_quarter_start</th>\n",
       "      <th>is_quarter_end</th>\n",
       "      <th>time_diff_seconds</th>\n",
       "      <th>previous_payout0</th>\n",
       "      <th>has_header_0.0</th>\n",
       "      <th>has_header_1.0</th>\n",
       "      <th>has_header_nan</th>\n",
       "    </tr>\n",
       "  </thead>\n",
       "  <tbody>\n",
       "    <tr>\n",
       "      <th>0</th>\n",
       "      <td>3852</td>\n",
       "      <td>5</td>\n",
       "      <td>0.0</td>\n",
       "      <td>gmail.com</td>\n",
       "      <td>0</td>\n",
       "      <td>0</td>\n",
       "      <td>60</td>\n",
       "      <td>527017</td>\n",
       "      <td>0.0</td>\n",
       "      <td>0.0</td>\n",
       "      <td>1</td>\n",
       "      <td>36</td>\n",
       "      <td>1259613950</td>\n",
       "      <td>1</td>\n",
       "      <td>US</td>\n",
       "      <td>25.777471</td>\n",
       "      <td>-80.133433</td>\n",
       "      <td>FL</td>\n",
       "      <td>1</td>\n",
       "      <td>2010</td>\n",
       "      <td>2</td>\n",
       "      <td>13</td>\n",
       "      <td>12</td>\n",
       "      <td>0</td>\n",
       "      <td>44</td>\n",
       "      <td>6</td>\n",
       "      <td>6</td>\n",
       "      <td>5</td>\n",
       "      <td>1</td>\n",
       "      <td>False</td>\n",
       "      <td>False</td>\n",
       "      <td>False</td>\n",
       "      <td>False</td>\n",
       "      <td>36000.0</td>\n",
       "      <td>1</td>\n",
       "      <td>0</td>\n",
       "      <td>1</td>\n",
       "      <td>0</td>\n",
       "    </tr>\n",
       "    <tr>\n",
       "      <th>1</th>\n",
       "      <td>3499</td>\n",
       "      <td>0</td>\n",
       "      <td>1.0</td>\n",
       "      <td>ruf.org</td>\n",
       "      <td>0</td>\n",
       "      <td>1</td>\n",
       "      <td>27</td>\n",
       "      <td>786878</td>\n",
       "      <td>0.0</td>\n",
       "      <td>12.0</td>\n",
       "      <td>0</td>\n",
       "      <td>149</td>\n",
       "      <td>1280942776</td>\n",
       "      <td>3</td>\n",
       "      <td>US</td>\n",
       "      <td>32.776566</td>\n",
       "      <td>-79.930922</td>\n",
       "      <td>SC</td>\n",
       "      <td>0</td>\n",
       "      <td>2011</td>\n",
       "      <td>2</td>\n",
       "      <td>3</td>\n",
       "      <td>8</td>\n",
       "      <td>0</td>\n",
       "      <td>34</td>\n",
       "      <td>5</td>\n",
       "      <td>5</td>\n",
       "      <td>3</td>\n",
       "      <td>1</td>\n",
       "      <td>False</td>\n",
       "      <td>False</td>\n",
       "      <td>False</td>\n",
       "      <td>False</td>\n",
       "      <td>32400.0</td>\n",
       "      <td>0</td>\n",
       "      <td>1</td>\n",
       "      <td>0</td>\n",
       "      <td>0</td>\n",
       "    </tr>\n",
       "    <tr>\n",
       "      <th>2</th>\n",
       "      <td>2601</td>\n",
       "      <td>8</td>\n",
       "      <td>1.0</td>\n",
       "      <td>pvsd.k12.ca.us</td>\n",
       "      <td>0</td>\n",
       "      <td>0</td>\n",
       "      <td>28</td>\n",
       "      <td>787337</td>\n",
       "      <td>0.0</td>\n",
       "      <td>0.0</td>\n",
       "      <td>0</td>\n",
       "      <td>214</td>\n",
       "      <td>1272559388</td>\n",
       "      <td>3</td>\n",
       "      <td>US</td>\n",
       "      <td>33.944201</td>\n",
       "      <td>-118.080419</td>\n",
       "      <td>CA</td>\n",
       "      <td>0</td>\n",
       "      <td>2011</td>\n",
       "      <td>1</td>\n",
       "      <td>28</td>\n",
       "      <td>0</td>\n",
       "      <td>0</td>\n",
       "      <td>28</td>\n",
       "      <td>4</td>\n",
       "      <td>4</td>\n",
       "      <td>4</td>\n",
       "      <td>1</td>\n",
       "      <td>False</td>\n",
       "      <td>False</td>\n",
       "      <td>False</td>\n",
       "      <td>False</td>\n",
       "      <td>27000.0</td>\n",
       "      <td>0</td>\n",
       "      <td>0</td>\n",
       "      <td>0</td>\n",
       "      <td>1</td>\n",
       "    </tr>\n",
       "    <tr>\n",
       "      <th>3</th>\n",
       "      <td>12347</td>\n",
       "      <td>6</td>\n",
       "      <td>1.0</td>\n",
       "      <td>irishtabletennis.com</td>\n",
       "      <td>0</td>\n",
       "      <td>1</td>\n",
       "      <td>21</td>\n",
       "      <td>885645</td>\n",
       "      <td>0.0</td>\n",
       "      <td>0.0</td>\n",
       "      <td>0</td>\n",
       "      <td>889</td>\n",
       "      <td>1283870102</td>\n",
       "      <td>3</td>\n",
       "      <td>None</td>\n",
       "      <td>NaN</td>\n",
       "      <td>NaN</td>\n",
       "      <td>UNK</td>\n",
       "      <td>0</td>\n",
       "      <td>2014</td>\n",
       "      <td>1</td>\n",
       "      <td>6</td>\n",
       "      <td>0</td>\n",
       "      <td>0</td>\n",
       "      <td>6</td>\n",
       "      <td>2</td>\n",
       "      <td>2</td>\n",
       "      <td>0</td>\n",
       "      <td>1</td>\n",
       "      <td>False</td>\n",
       "      <td>False</td>\n",
       "      <td>False</td>\n",
       "      <td>False</td>\n",
       "      <td>27831600.0</td>\n",
       "      <td>0</td>\n",
       "      <td>1</td>\n",
       "      <td>0</td>\n",
       "      <td>0</td>\n",
       "    </tr>\n",
       "    <tr>\n",
       "      <th>4</th>\n",
       "      <td>2417</td>\n",
       "      <td>11</td>\n",
       "      <td>0.0</td>\n",
       "      <td>artsandbusinesscouncil.org</td>\n",
       "      <td>1</td>\n",
       "      <td>0</td>\n",
       "      <td>66</td>\n",
       "      <td>1114349</td>\n",
       "      <td>0.0</td>\n",
       "      <td>0.0</td>\n",
       "      <td>0</td>\n",
       "      <td>35</td>\n",
       "      <td>1288984065</td>\n",
       "      <td>3</td>\n",
       "      <td>US</td>\n",
       "      <td>42.353848</td>\n",
       "      <td>-71.044276</td>\n",
       "      <td>MA</td>\n",
       "      <td>0</td>\n",
       "      <td>2011</td>\n",
       "      <td>2</td>\n",
       "      <td>17</td>\n",
       "      <td>0</td>\n",
       "      <td>0</td>\n",
       "      <td>48</td>\n",
       "      <td>7</td>\n",
       "      <td>7</td>\n",
       "      <td>3</td>\n",
       "      <td>1</td>\n",
       "      <td>False</td>\n",
       "      <td>False</td>\n",
       "      <td>False</td>\n",
       "      <td>False</td>\n",
       "      <td>28800.0</td>\n",
       "      <td>0</td>\n",
       "      <td>1</td>\n",
       "      <td>0</td>\n",
       "      <td>0</td>\n",
       "    </tr>\n",
       "  </tbody>\n",
       "</table>\n",
       "</div>"
      ],
      "text/plain": [
       "   body_length  channels  delivery_method                email_domain  \\\n",
       "0         3852         5              0.0                   gmail.com   \n",
       "1         3499         0              1.0                     ruf.org   \n",
       "2         2601         8              1.0              pvsd.k12.ca.us   \n",
       "3        12347         6              1.0        irishtabletennis.com   \n",
       "4         2417        11              0.0  artsandbusinesscouncil.org   \n",
       "\n",
       "   fb_published  has_logo  name_length  object_id  org_facebook  org_twitter  \\\n",
       "0             0         0           60     527017           0.0          0.0   \n",
       "1             0         1           27     786878           0.0         12.0   \n",
       "2             0         0           28     787337           0.0          0.0   \n",
       "3             0         1           21     885645           0.0          0.0   \n",
       "4             1         0           66    1114349           0.0          0.0   \n",
       "\n",
       "   show_map  user_age  user_created  user_type venue_country  venue_latitude  \\\n",
       "0         1        36    1259613950          1            US       25.777471   \n",
       "1         0       149    1280942776          3            US       32.776566   \n",
       "2         0       214    1272559388          3            US       33.944201   \n",
       "3         0       889    1283870102          3          None             NaN   \n",
       "4         0        35    1288984065          3            US       42.353848   \n",
       "\n",
       "   venue_longitude venue_state  Label  year  month  day  hour  minute  \\\n",
       "0       -80.133433          FL      1  2010      2   13    12       0   \n",
       "1       -79.930922          SC      0  2011      2    3     8       0   \n",
       "2      -118.080419          CA      0  2011      1   28     0       0   \n",
       "3              NaN         UNK      0  2014      1    6     0       0   \n",
       "4       -71.044276          MA      0  2011      2   17     0       0   \n",
       "\n",
       "   dayofyear  weekofyear  week  dayofweek  quarter  is_month_start  \\\n",
       "0         44           6     6          5        1           False   \n",
       "1         34           5     5          3        1           False   \n",
       "2         28           4     4          4        1           False   \n",
       "3          6           2     2          0        1           False   \n",
       "4         48           7     7          3        1           False   \n",
       "\n",
       "   is_month_end  is_quarter_start  is_quarter_end  time_diff_seconds  \\\n",
       "0         False             False           False            36000.0   \n",
       "1         False             False           False            32400.0   \n",
       "2         False             False           False            27000.0   \n",
       "3         False             False           False         27831600.0   \n",
       "4         False             False           False            28800.0   \n",
       "\n",
       "   previous_payout0  has_header_0.0  has_header_1.0  has_header_nan  \n",
       "0                 1               0               1               0  \n",
       "1                 0               1               0               0  \n",
       "2                 0               0               0               1  \n",
       "3                 0               1               0               0  \n",
       "4                 0               1               0               0  "
      ]
     },
     "execution_count": 249,
     "metadata": {},
     "output_type": "execute_result"
    }
   ],
   "source": [
    "dummy_cols.head()"
   ]
  },
  {
   "cell_type": "code",
   "execution_count": 256,
   "metadata": {},
   "outputs": [],
   "source": [
    "dummy_cols['yahoo'] = np.where(model_cols['email_domain'].str.contains('yahoo'), 1, 0)"
   ]
  },
  {
   "cell_type": "code",
   "execution_count": 272,
   "metadata": {},
   "outputs": [],
   "source": [
    "dummy_cols['is_fr'] = np.where(model_cols['email_domain'].str.endswith('fr'), 1, 0)"
   ]
  },
  {
   "cell_type": "code",
   "execution_count": 275,
   "metadata": {},
   "outputs": [],
   "source": [
    "dummy_cols['is_org'] = np.where(model_cols['email_domain'].str.endswith('.org'), 1, 0)"
   ]
  },
  {
   "cell_type": "code",
   "execution_count": 281,
   "metadata": {},
   "outputs": [
    {
     "data": {
      "text/plain": [
       "0        2009\n",
       "1        2010\n",
       "2        2010\n",
       "3        2010\n",
       "4        2010\n",
       "         ... \n",
       "14332    2013\n",
       "14333    2009\n",
       "14334    2012\n",
       "14335    2010\n",
       "14336    2013\n",
       "Name: user_created, Length: 14337, dtype: int64"
      ]
     },
     "execution_count": 281,
     "metadata": {},
     "output_type": "execute_result"
    }
   ],
   "source": [
    "data['user_created'].dt.year"
   ]
  },
  {
   "cell_type": "code",
   "execution_count": 290,
   "metadata": {},
   "outputs": [],
   "source": [
    "dummy_cols.drop(['email_domain', 'object_id', 'user_created', 'venue_country', 'venue_latitude', 'venue_longitude', 'venue_state'], axis=1, inplace=True)"
   ]
  },
  {
   "cell_type": "code",
   "execution_count": 304,
   "metadata": {},
   "outputs": [],
   "source": [
    "dummy_cols.drop(['year'], axis=1, inplace=True)"
   ]
  },
  {
   "cell_type": "code",
   "execution_count": 332,
   "metadata": {},
   "outputs": [
    {
     "data": {
      "text/plain": [
       "0.0    8520\n",
       "1.0    5554\n",
       "3.0     247\n",
       "Name: delivery_method, dtype: int64"
      ]
     },
     "execution_count": 332,
     "metadata": {},
     "output_type": "execute_result"
    }
   ],
   "source": [
    "# filled_nas = dummy_cols\n",
    "# filled_nas.org_facebook.fillna(-1, inplace=True)\n",
    "# filled_nas.org_twitter.fillna(-1, inplace=True)\n",
    "filled_nas.delivery_method.value_counts()"
   ]
  },
  {
   "cell_type": "code",
   "execution_count": 335,
   "metadata": {},
   "outputs": [],
   "source": [
    "filled_nas = pd.get_dummies(filled_nas, columns=['delivery_method'], dummy_na=True)"
   ]
  },
  {
   "cell_type": "markdown",
   "metadata": {},
   "source": [
    "# Baseline Model (RF)"
   ]
  },
  {
   "cell_type": "code",
   "execution_count": 402,
   "metadata": {},
   "outputs": [],
   "source": [
    "rf = RandomForestClassifier(n_estimators=1500, n_jobs=-1, verbose=1)"
   ]
  },
  {
   "cell_type": "code",
   "execution_count": 367,
   "metadata": {},
   "outputs": [],
   "source": [
    "X = filled_nas.drop('Label', axis=1).values\n",
    "y = filled_nas['Label'].values\n",
    "\n",
    "xtrain, xtest, ytrain, ytest = train_test_split(X, y, stratify=y)"
   ]
  },
  {
   "cell_type": "code",
   "execution_count": 404,
   "metadata": {},
   "outputs": [
    {
     "name": "stderr",
     "output_type": "stream",
     "text": [
      "[Parallel(n_jobs=-1)]: Using backend ThreadingBackend with 16 concurrent workers.\n",
      "[Parallel(n_jobs=-1)]: Done  18 tasks      | elapsed:    0.0s\n",
      "[Parallel(n_jobs=-1)]: Done 168 tasks      | elapsed:    0.2s\n",
      "[Parallel(n_jobs=-1)]: Done 418 tasks      | elapsed:    0.5s\n",
      "[Parallel(n_jobs=-1)]: Done 768 tasks      | elapsed:    0.9s\n",
      "[Parallel(n_jobs=-1)]: Done 1218 tasks      | elapsed:    1.5s\n",
      "[Parallel(n_jobs=-1)]: Done 1500 out of 1500 | elapsed:    1.8s finished\n"
     ]
    },
    {
     "data": {
      "text/plain": [
       "RandomForestClassifier(n_estimators=1500, n_jobs=-1, verbose=1)"
      ]
     },
     "execution_count": 404,
     "metadata": {},
     "output_type": "execute_result"
    }
   ],
   "source": [
    "rf.fit(xtrain, ytrain)"
   ]
  },
  {
   "cell_type": "code",
   "execution_count": 405,
   "metadata": {},
   "outputs": [
    {
     "name": "stderr",
     "output_type": "stream",
     "text": [
      "[Parallel(n_jobs=4)]: Using backend LokyBackend with 4 concurrent workers.\n",
      "[Parallel(n_jobs=4)]: Done  10 out of  10 | elapsed:   11.7s finished\n"
     ]
    },
    {
     "data": {
      "text/plain": [
       "0.8919325591485426"
      ]
     },
     "execution_count": 405,
     "metadata": {},
     "output_type": "execute_result"
    }
   ],
   "source": [
    "np.mean(cross_val_score(rf, xtrain, ytrain, scoring='f1', cv=10, verbose=1, n_jobs=4))"
   ]
  },
  {
   "cell_type": "markdown",
   "metadata": {},
   "source": [
    "# Time removed Model "
   ]
  },
  {
   "cell_type": "code",
   "execution_count": 437,
   "metadata": {},
   "outputs": [],
   "source": [
    "rf_time = RandomForestClassifier(n_estimators=500, n_jobs=-1, verbose=1)"
   ]
  },
  {
   "cell_type": "code",
   "execution_count": 425,
   "metadata": {},
   "outputs": [],
   "source": [
    "time_columns = filled_nas.iloc[:,11:25].columns"
   ]
  },
  {
   "cell_type": "code",
   "execution_count": 426,
   "metadata": {},
   "outputs": [],
   "source": [
    "final_cols = filled_nas.columns[~filled_nas.columns.isin(time_columns)]"
   ]
  },
  {
   "cell_type": "code",
   "execution_count": 427,
   "metadata": {},
   "outputs": [],
   "source": [
    "no_time = filled_nas.loc[:, final_cols]"
   ]
  },
  {
   "cell_type": "code",
   "execution_count": 428,
   "metadata": {},
   "outputs": [],
   "source": [
    "timeX = no_time.drop('Label', axis=1).values\n",
    "timey = no_time['Label'].values"
   ]
  },
  {
   "cell_type": "code",
   "execution_count": 438,
   "metadata": {},
   "outputs": [],
   "source": [
    "timextrain, timextest, timeytrain, timeytest = train_test_split(timeX, timey, stratify=timey, test_size=.15)"
   ]
  },
  {
   "cell_type": "code",
   "execution_count": 439,
   "metadata": {},
   "outputs": [
    {
     "name": "stderr",
     "output_type": "stream",
     "text": [
      "[Parallel(n_jobs=-1)]: Using backend ThreadingBackend with 16 concurrent workers.\n",
      "[Parallel(n_jobs=-1)]: Done  18 tasks      | elapsed:    0.0s\n",
      "[Parallel(n_jobs=-1)]: Done 168 tasks      | elapsed:    0.2s\n",
      "[Parallel(n_jobs=-1)]: Done 418 tasks      | elapsed:    0.5s\n",
      "[Parallel(n_jobs=-1)]: Done 500 out of 500 | elapsed:    0.6s finished\n"
     ]
    },
    {
     "data": {
      "text/plain": [
       "RandomForestClassifier(n_estimators=500, n_jobs=-1, verbose=1)"
      ]
     },
     "execution_count": 439,
     "metadata": {},
     "output_type": "execute_result"
    }
   ],
   "source": [
    "rf_time.fit(timextrain, timeytrain)"
   ]
  },
  {
   "cell_type": "code",
   "execution_count": 440,
   "metadata": {},
   "outputs": [
    {
     "name": "stderr",
     "output_type": "stream",
     "text": [
      "[Parallel(n_jobs=8)]: Using backend LokyBackend with 8 concurrent workers.\n",
      "[Parallel(n_jobs=8)]: Done   6 out of  10 | elapsed:    2.5s remaining:    1.7s\n",
      "[Parallel(n_jobs=8)]: Done  10 out of  10 | elapsed:    3.4s finished\n"
     ]
    },
    {
     "data": {
      "text/plain": [
       "0.8947471296019494"
      ]
     },
     "execution_count": 440,
     "metadata": {},
     "output_type": "execute_result"
    }
   ],
   "source": [
    "np.mean(cross_val_score(rf_time, timextrain, timeytrain, scoring='f1', cv=10, verbose=1, n_jobs=8))"
   ]
  },
  {
   "cell_type": "markdown",
   "metadata": {},
   "source": [
    "# Cost data added Model"
   ]
  },
  {
   "cell_type": "code",
   "execution_count": 734,
   "metadata": {},
   "outputs": [],
   "source": [
    "rf_neg = RandomForestClassifier(n_estimators=500, verbose=1, bootstrap=False, max_depth=100, max_features='sqrt')"
   ]
  },
  {
   "cell_type": "code",
   "execution_count": 735,
   "metadata": {},
   "outputs": [],
   "source": [
    "negX = neg_value_cols.drop('Label', axis=1).values\n",
    "negy = neg_value_cols['Label'].values"
   ]
  },
  {
   "cell_type": "code",
   "execution_count": 736,
   "metadata": {},
   "outputs": [],
   "source": [
    "negxtrain, negxtest, negytrain, negytest = train_test_split(negX, negy, stratify=negy, test_size=.15)"
   ]
  },
  {
   "cell_type": "code",
   "execution_count": 737,
   "metadata": {},
   "outputs": [
    {
     "name": "stderr",
     "output_type": "stream",
     "text": [
      "[Parallel(n_jobs=1)]: Using backend SequentialBackend with 1 concurrent workers.\n",
      "[Parallel(n_jobs=1)]: Done 500 out of 500 | elapsed:    4.5s finished\n"
     ]
    },
    {
     "data": {
      "text/plain": [
       "RandomForestClassifier(bootstrap=False, max_depth=100, max_features='sqrt',\n",
       "                       n_estimators=500, verbose=1)"
      ]
     },
     "execution_count": 737,
     "metadata": {},
     "output_type": "execute_result"
    }
   ],
   "source": [
    "rf_neg.fit(negxtrain, negytrain)"
   ]
  },
  {
   "cell_type": "code",
   "execution_count": 738,
   "metadata": {},
   "outputs": [],
   "source": [
    "#np.mean(cross_val_score(rf_neg, negxtrain, negytrain, scoring=auc_prc, cv=5, verbose=1))"
   ]
  },
  {
   "cell_type": "code",
   "execution_count": 739,
   "metadata": {},
   "outputs": [
    {
     "name": "stdout",
     "output_type": "stream",
     "text": [
      "              precision    recall  f1-score   support\n",
      "\n",
      "   Non-Fraud       0.99      1.00      0.99      1957\n",
      "       Fraud       0.96      0.88      0.91       194\n",
      "\n",
      "    accuracy                           0.99      2151\n",
      "   macro avg       0.97      0.94      0.95      2151\n",
      "weighted avg       0.98      0.99      0.98      2151\n",
      "\n"
     ]
    },
    {
     "name": "stderr",
     "output_type": "stream",
     "text": [
      "[Parallel(n_jobs=1)]: Using backend SequentialBackend with 1 concurrent workers.\n",
      "[Parallel(n_jobs=1)]: Done 500 out of 500 | elapsed:    0.1s finished\n"
     ]
    }
   ],
   "source": [
    "neg_preds = rf_neg.predict(negxtest)\n",
    "print(classification_report(negytest, neg_preds, target_names=['Non-Fraud', 'Fraud']))"
   ]
  },
  {
   "cell_type": "code",
   "execution_count": 636,
   "metadata": {},
   "outputs": [],
   "source": [
    "oob = pd.Series(rf_neg.oob_decision_function_[:,0])"
   ]
  },
  {
   "cell_type": "code",
   "execution_count": 639,
   "metadata": {},
   "outputs": [
    {
     "data": {
      "text/plain": [
       "3        0.000000\n",
       "45       0.163043\n",
       "77       0.022727\n",
       "85       0.078534\n",
       "99       0.016304\n",
       "           ...   \n",
       "12113    0.075676\n",
       "12128    0.176796\n",
       "12129    0.130890\n",
       "12143    0.250000\n",
       "12180    0.589189\n",
       "Length: 1040, dtype: float64"
      ]
     },
     "execution_count": 639,
     "metadata": {},
     "output_type": "execute_result"
    }
   ],
   "source": [
    "oob[oob < 0.6]"
   ]
  },
  {
   "cell_type": "code",
   "execution_count": 641,
   "metadata": {},
   "outputs": [
    {
     "data": {
      "text/plain": [
       "array([0.17233599, 0.65686489, 0.81105542, 0.24096772, 0.46258924,\n",
       "       0.57799211, 0.52616088, 0.1489426 , 0.94188766, 0.08348552])"
      ]
     },
     "execution_count": 641,
     "metadata": {},
     "output_type": "execute_result"
    }
   ],
   "source": [
    "np.random.uniform(size=10)"
   ]
  },
  {
   "cell_type": "markdown",
   "metadata": {},
   "source": [
    "# Let the Hyperparameter tuning begin!!!"
   ]
  },
  {
   "cell_type": "code",
   "execution_count": 557,
   "metadata": {},
   "outputs": [],
   "source": [
    "# Number of features to consider at every split\n",
    "max_features = ['auto', 'sqrt']\n",
    "# Maximum number of levels in tree\n",
    "max_depth = [int(x) for x in np.linspace(10, 110, num = 11)]\n",
    "max_depth.append(None)\n",
    "# Minimum number of samples required to split a node\n",
    "min_samples_split = [2, 5, 8, 10]\n",
    "# Minimum number of samples required at each leaf node\n",
    "min_samples_leaf = [1, 2, 4]\n",
    "# Method of selecting samples for training each tree\n",
    "bootstrap = [True, False]\n",
    "# Create the random grid\n",
    "random_grid = {'max_features': max_features,\n",
    "               'max_depth': max_depth,\n",
    "               'min_samples_split': min_samples_split,\n",
    "               'min_samples_leaf': min_samples_leaf,\n",
    "               'bootstrap': bootstrap}"
   ]
  },
  {
   "cell_type": "code",
   "execution_count": 563,
   "metadata": {},
   "outputs": [
    {
     "name": "stdout",
     "output_type": "stream",
     "text": [
      "Fitting 5 folds for each of 150 candidates, totalling 750 fits\n"
     ]
    },
    {
     "name": "stderr",
     "output_type": "stream",
     "text": [
      "[Parallel(n_jobs=8)]: Using backend LokyBackend with 8 concurrent workers.\n",
      "[Parallel(n_jobs=8)]: Done  25 tasks      | elapsed:   11.0s\n",
      "[Parallel(n_jobs=8)]: Done 146 tasks      | elapsed:   53.8s\n",
      "[Parallel(n_jobs=8)]: Done 349 tasks      | elapsed:  2.2min\n",
      "[Parallel(n_jobs=8)]: Done 632 tasks      | elapsed:  3.9min\n",
      "[Parallel(n_jobs=8)]: Done 750 out of 750 | elapsed:  4.7min finished\n",
      "[Parallel(n_jobs=-1)]: Using backend ThreadingBackend with 16 concurrent workers.\n",
      "[Parallel(n_jobs=-1)]: Done  18 tasks      | elapsed:    0.0s\n",
      "[Parallel(n_jobs=-1)]: Done 168 tasks      | elapsed:    0.2s\n",
      "[Parallel(n_jobs=-1)]: Done 418 tasks      | elapsed:    0.5s\n",
      "[Parallel(n_jobs=-1)]: Done 500 out of 500 | elapsed:    0.6s finished\n"
     ]
    }
   ],
   "source": [
    "# Use the random grid to search for best hyperparameters\n",
    "rf_random = RandomizedSearchCV(estimator = rf_neg, param_distributions = random_grid, scoring='f1', n_iter = 150, cv = 5, verbose=2, random_state=42, n_jobs = 8)\n",
    "# Fit the random search model\n",
    "search = rf_random.fit(negxtrain, negytrain)"
   ]
  },
  {
   "cell_type": "code",
   "execution_count": 569,
   "metadata": {},
   "outputs": [],
   "source": [
    "best_model = search.best_estimator_"
   ]
  },
  {
   "cell_type": "code",
   "execution_count": 688,
   "metadata": {},
   "outputs": [],
   "source": [
    "feature_importance = best_model.feature_importances_\n",
    "labels = neg_value_cols.columns.drop(['Label'])\n",
    "frame = pd.DataFrame(zip(labels, feature_importance)).set_index(0).rename(columns={1:'value'}).sort_values('value', ascending=False)"
   ]
  },
  {
   "cell_type": "code",
   "execution_count": 692,
   "metadata": {},
   "outputs": [
    {
     "data": {
      "application/vnd.plotly.v1+json": {
       "config": {
        "plotlyServerURL": "https://plot.ly"
       },
       "data": [
        {
         "alignmentgroup": "True",
         "customdata": [
          [
           0.44083866445139835
          ],
          [
           0.08692239336794269
          ],
          [
           0.07736767030162295
          ],
          [
           0.0770891944370221
          ],
          [
           0.05472255736009109
          ],
          [
           0.04754658813864012
          ],
          [
           0.042277339441043796
          ],
          [
           0.026210727570361143
          ],
          [
           0.02526017598242325
          ],
          [
           0.024413184688186807
          ],
          [
           0.013733582357926662
          ],
          [
           0.012455830129562808
          ],
          [
           0.010160041498239004
          ],
          [
           0.009716907166446968
          ],
          [
           0.00965054257633422
          ],
          [
           0.008631362977476444
          ],
          [
           0.007067245817147036
          ],
          [
           0.006636787389836623
          ],
          [
           0.005792553102419448
          ],
          [
           0.003982762699995039
          ],
          [
           0.0033019727284039676
          ],
          [
           0.0030680696872647626
          ],
          [
           0.002391115481317864
          ],
          [
           0.0007627306488966969
          ]
         ],
         "hovertemplate": "<b>%{hovertext}</b><br><br>x=%{x}<br>y=%{y}<extra></extra>",
         "hovertext": [
          0.0770891944370221,
          0.02526017598242325,
          0.0030680696872647626,
          0.010160041498239004,
          0.05472255736009109,
          0.026210727570361143,
          0.013733582357926662,
          0.008631362977476444,
          0.08692239336794269,
          0.042277339441043796,
          0.44083866445139835,
          0.005792553102419448,
          0.002391115481317864,
          0.006636787389836623,
          0.024413184688186807,
          0.009716907166446968,
          0.003982762699995039,
          0.012455830129562808,
          0.00965054257633422,
          0.0007627306488966969,
          0.0033019727284039676,
          0.07736767030162295,
          0.007067245817147036,
          0.04754658813864012
         ],
         "legendgroup": "",
         "marker": {
          "color": "#636efa"
         },
         "name": "",
         "offsetgroup": "",
         "orientation": "h",
         "showlegend": false,
         "textposition": "auto",
         "type": "bar",
         "x": [
          0.0770891944370221,
          0.02526017598242325,
          0.0030680696872647626,
          0.010160041498239004,
          0.05472255736009109,
          0.026210727570361143,
          0.013733582357926662,
          0.008631362977476444,
          0.08692239336794269,
          0.042277339441043796,
          0.44083866445139835,
          0.005792553102419448,
          0.002391115481317864,
          0.006636787389836623,
          0.024413184688186807,
          0.009716907166446968,
          0.003982762699995039,
          0.012455830129562808,
          0.00965054257633422,
          0.0007627306488966969,
          0.0033019727284039676,
          0.07736767030162295,
          0.007067245817147036,
          0.04754658813864012
         ],
         "xaxis": "x",
         "y": [
          "body_length",
          "channels",
          "fb_published",
          "has_logo",
          "name_length",
          "org_facebook",
          "org_twitter",
          "show_map",
          "user_age",
          "user_type",
          "previous_payout0",
          "has_header_0.0",
          "has_header_1.0",
          "has_header_nan",
          "yahoo",
          "is_fr",
          "is_org",
          "delivery_method_0.0",
          "delivery_method_1.0",
          "delivery_method_3.0",
          "delivery_method_nan",
          "ticket_cost",
          "ticket_availability",
          "ticket_quant_total"
         ],
         "yaxis": "y"
        }
       ],
       "layout": {
        "autosize": true,
        "barmode": "relative",
        "legend": {
         "tracegroupgap": 0
        },
        "template": {
         "data": {
          "bar": [
           {
            "error_x": {
             "color": "#2a3f5f"
            },
            "error_y": {
             "color": "#2a3f5f"
            },
            "marker": {
             "line": {
              "color": "#E5ECF6",
              "width": 0.5
             }
            },
            "type": "bar"
           }
          ],
          "barpolar": [
           {
            "marker": {
             "line": {
              "color": "#E5ECF6",
              "width": 0.5
             }
            },
            "type": "barpolar"
           }
          ],
          "carpet": [
           {
            "aaxis": {
             "endlinecolor": "#2a3f5f",
             "gridcolor": "white",
             "linecolor": "white",
             "minorgridcolor": "white",
             "startlinecolor": "#2a3f5f"
            },
            "baxis": {
             "endlinecolor": "#2a3f5f",
             "gridcolor": "white",
             "linecolor": "white",
             "minorgridcolor": "white",
             "startlinecolor": "#2a3f5f"
            },
            "type": "carpet"
           }
          ],
          "choropleth": [
           {
            "colorbar": {
             "outlinewidth": 0,
             "ticks": ""
            },
            "type": "choropleth"
           }
          ],
          "contour": [
           {
            "colorbar": {
             "outlinewidth": 0,
             "ticks": ""
            },
            "colorscale": [
             [
              0,
              "#0d0887"
             ],
             [
              0.1111111111111111,
              "#46039f"
             ],
             [
              0.2222222222222222,
              "#7201a8"
             ],
             [
              0.3333333333333333,
              "#9c179e"
             ],
             [
              0.4444444444444444,
              "#bd3786"
             ],
             [
              0.5555555555555556,
              "#d8576b"
             ],
             [
              0.6666666666666666,
              "#ed7953"
             ],
             [
              0.7777777777777778,
              "#fb9f3a"
             ],
             [
              0.8888888888888888,
              "#fdca26"
             ],
             [
              1,
              "#f0f921"
             ]
            ],
            "type": "contour"
           }
          ],
          "contourcarpet": [
           {
            "colorbar": {
             "outlinewidth": 0,
             "ticks": ""
            },
            "type": "contourcarpet"
           }
          ],
          "heatmap": [
           {
            "colorbar": {
             "outlinewidth": 0,
             "ticks": ""
            },
            "colorscale": [
             [
              0,
              "#0d0887"
             ],
             [
              0.1111111111111111,
              "#46039f"
             ],
             [
              0.2222222222222222,
              "#7201a8"
             ],
             [
              0.3333333333333333,
              "#9c179e"
             ],
             [
              0.4444444444444444,
              "#bd3786"
             ],
             [
              0.5555555555555556,
              "#d8576b"
             ],
             [
              0.6666666666666666,
              "#ed7953"
             ],
             [
              0.7777777777777778,
              "#fb9f3a"
             ],
             [
              0.8888888888888888,
              "#fdca26"
             ],
             [
              1,
              "#f0f921"
             ]
            ],
            "type": "heatmap"
           }
          ],
          "heatmapgl": [
           {
            "colorbar": {
             "outlinewidth": 0,
             "ticks": ""
            },
            "colorscale": [
             [
              0,
              "#0d0887"
             ],
             [
              0.1111111111111111,
              "#46039f"
             ],
             [
              0.2222222222222222,
              "#7201a8"
             ],
             [
              0.3333333333333333,
              "#9c179e"
             ],
             [
              0.4444444444444444,
              "#bd3786"
             ],
             [
              0.5555555555555556,
              "#d8576b"
             ],
             [
              0.6666666666666666,
              "#ed7953"
             ],
             [
              0.7777777777777778,
              "#fb9f3a"
             ],
             [
              0.8888888888888888,
              "#fdca26"
             ],
             [
              1,
              "#f0f921"
             ]
            ],
            "type": "heatmapgl"
           }
          ],
          "histogram": [
           {
            "marker": {
             "colorbar": {
              "outlinewidth": 0,
              "ticks": ""
             }
            },
            "type": "histogram"
           }
          ],
          "histogram2d": [
           {
            "colorbar": {
             "outlinewidth": 0,
             "ticks": ""
            },
            "colorscale": [
             [
              0,
              "#0d0887"
             ],
             [
              0.1111111111111111,
              "#46039f"
             ],
             [
              0.2222222222222222,
              "#7201a8"
             ],
             [
              0.3333333333333333,
              "#9c179e"
             ],
             [
              0.4444444444444444,
              "#bd3786"
             ],
             [
              0.5555555555555556,
              "#d8576b"
             ],
             [
              0.6666666666666666,
              "#ed7953"
             ],
             [
              0.7777777777777778,
              "#fb9f3a"
             ],
             [
              0.8888888888888888,
              "#fdca26"
             ],
             [
              1,
              "#f0f921"
             ]
            ],
            "type": "histogram2d"
           }
          ],
          "histogram2dcontour": [
           {
            "colorbar": {
             "outlinewidth": 0,
             "ticks": ""
            },
            "colorscale": [
             [
              0,
              "#0d0887"
             ],
             [
              0.1111111111111111,
              "#46039f"
             ],
             [
              0.2222222222222222,
              "#7201a8"
             ],
             [
              0.3333333333333333,
              "#9c179e"
             ],
             [
              0.4444444444444444,
              "#bd3786"
             ],
             [
              0.5555555555555556,
              "#d8576b"
             ],
             [
              0.6666666666666666,
              "#ed7953"
             ],
             [
              0.7777777777777778,
              "#fb9f3a"
             ],
             [
              0.8888888888888888,
              "#fdca26"
             ],
             [
              1,
              "#f0f921"
             ]
            ],
            "type": "histogram2dcontour"
           }
          ],
          "mesh3d": [
           {
            "colorbar": {
             "outlinewidth": 0,
             "ticks": ""
            },
            "type": "mesh3d"
           }
          ],
          "parcoords": [
           {
            "line": {
             "colorbar": {
              "outlinewidth": 0,
              "ticks": ""
             }
            },
            "type": "parcoords"
           }
          ],
          "pie": [
           {
            "automargin": true,
            "type": "pie"
           }
          ],
          "scatter": [
           {
            "marker": {
             "colorbar": {
              "outlinewidth": 0,
              "ticks": ""
             }
            },
            "type": "scatter"
           }
          ],
          "scatter3d": [
           {
            "line": {
             "colorbar": {
              "outlinewidth": 0,
              "ticks": ""
             }
            },
            "marker": {
             "colorbar": {
              "outlinewidth": 0,
              "ticks": ""
             }
            },
            "type": "scatter3d"
           }
          ],
          "scattercarpet": [
           {
            "marker": {
             "colorbar": {
              "outlinewidth": 0,
              "ticks": ""
             }
            },
            "type": "scattercarpet"
           }
          ],
          "scattergeo": [
           {
            "marker": {
             "colorbar": {
              "outlinewidth": 0,
              "ticks": ""
             }
            },
            "type": "scattergeo"
           }
          ],
          "scattergl": [
           {
            "marker": {
             "colorbar": {
              "outlinewidth": 0,
              "ticks": ""
             }
            },
            "type": "scattergl"
           }
          ],
          "scattermapbox": [
           {
            "marker": {
             "colorbar": {
              "outlinewidth": 0,
              "ticks": ""
             }
            },
            "type": "scattermapbox"
           }
          ],
          "scatterpolar": [
           {
            "marker": {
             "colorbar": {
              "outlinewidth": 0,
              "ticks": ""
             }
            },
            "type": "scatterpolar"
           }
          ],
          "scatterpolargl": [
           {
            "marker": {
             "colorbar": {
              "outlinewidth": 0,
              "ticks": ""
             }
            },
            "type": "scatterpolargl"
           }
          ],
          "scatterternary": [
           {
            "marker": {
             "colorbar": {
              "outlinewidth": 0,
              "ticks": ""
             }
            },
            "type": "scatterternary"
           }
          ],
          "surface": [
           {
            "colorbar": {
             "outlinewidth": 0,
             "ticks": ""
            },
            "colorscale": [
             [
              0,
              "#0d0887"
             ],
             [
              0.1111111111111111,
              "#46039f"
             ],
             [
              0.2222222222222222,
              "#7201a8"
             ],
             [
              0.3333333333333333,
              "#9c179e"
             ],
             [
              0.4444444444444444,
              "#bd3786"
             ],
             [
              0.5555555555555556,
              "#d8576b"
             ],
             [
              0.6666666666666666,
              "#ed7953"
             ],
             [
              0.7777777777777778,
              "#fb9f3a"
             ],
             [
              0.8888888888888888,
              "#fdca26"
             ],
             [
              1,
              "#f0f921"
             ]
            ],
            "type": "surface"
           }
          ],
          "table": [
           {
            "cells": {
             "fill": {
              "color": "#EBF0F8"
             },
             "line": {
              "color": "white"
             }
            },
            "header": {
             "fill": {
              "color": "#C8D4E3"
             },
             "line": {
              "color": "white"
             }
            },
            "type": "table"
           }
          ]
         },
         "layout": {
          "annotationdefaults": {
           "arrowcolor": "#2a3f5f",
           "arrowhead": 0,
           "arrowwidth": 1
          },
          "coloraxis": {
           "colorbar": {
            "outlinewidth": 0,
            "ticks": ""
           }
          },
          "colorscale": {
           "diverging": [
            [
             0,
             "#8e0152"
            ],
            [
             0.1,
             "#c51b7d"
            ],
            [
             0.2,
             "#de77ae"
            ],
            [
             0.3,
             "#f1b6da"
            ],
            [
             0.4,
             "#fde0ef"
            ],
            [
             0.5,
             "#f7f7f7"
            ],
            [
             0.6,
             "#e6f5d0"
            ],
            [
             0.7,
             "#b8e186"
            ],
            [
             0.8,
             "#7fbc41"
            ],
            [
             0.9,
             "#4d9221"
            ],
            [
             1,
             "#276419"
            ]
           ],
           "sequential": [
            [
             0,
             "#0d0887"
            ],
            [
             0.1111111111111111,
             "#46039f"
            ],
            [
             0.2222222222222222,
             "#7201a8"
            ],
            [
             0.3333333333333333,
             "#9c179e"
            ],
            [
             0.4444444444444444,
             "#bd3786"
            ],
            [
             0.5555555555555556,
             "#d8576b"
            ],
            [
             0.6666666666666666,
             "#ed7953"
            ],
            [
             0.7777777777777778,
             "#fb9f3a"
            ],
            [
             0.8888888888888888,
             "#fdca26"
            ],
            [
             1,
             "#f0f921"
            ]
           ],
           "sequentialminus": [
            [
             0,
             "#0d0887"
            ],
            [
             0.1111111111111111,
             "#46039f"
            ],
            [
             0.2222222222222222,
             "#7201a8"
            ],
            [
             0.3333333333333333,
             "#9c179e"
            ],
            [
             0.4444444444444444,
             "#bd3786"
            ],
            [
             0.5555555555555556,
             "#d8576b"
            ],
            [
             0.6666666666666666,
             "#ed7953"
            ],
            [
             0.7777777777777778,
             "#fb9f3a"
            ],
            [
             0.8888888888888888,
             "#fdca26"
            ],
            [
             1,
             "#f0f921"
            ]
           ]
          },
          "colorway": [
           "#636efa",
           "#EF553B",
           "#00cc96",
           "#ab63fa",
           "#FFA15A",
           "#19d3f3",
           "#FF6692",
           "#B6E880",
           "#FF97FF",
           "#FECB52"
          ],
          "font": {
           "color": "#2a3f5f"
          },
          "geo": {
           "bgcolor": "white",
           "lakecolor": "white",
           "landcolor": "#E5ECF6",
           "showlakes": true,
           "showland": true,
           "subunitcolor": "white"
          },
          "hoverlabel": {
           "align": "left"
          },
          "hovermode": "closest",
          "mapbox": {
           "style": "light"
          },
          "paper_bgcolor": "white",
          "plot_bgcolor": "#E5ECF6",
          "polar": {
           "angularaxis": {
            "gridcolor": "white",
            "linecolor": "white",
            "ticks": ""
           },
           "bgcolor": "#E5ECF6",
           "radialaxis": {
            "gridcolor": "white",
            "linecolor": "white",
            "ticks": ""
           }
          },
          "scene": {
           "xaxis": {
            "backgroundcolor": "#E5ECF6",
            "gridcolor": "white",
            "gridwidth": 2,
            "linecolor": "white",
            "showbackground": true,
            "ticks": "",
            "zerolinecolor": "white"
           },
           "yaxis": {
            "backgroundcolor": "#E5ECF6",
            "gridcolor": "white",
            "gridwidth": 2,
            "linecolor": "white",
            "showbackground": true,
            "ticks": "",
            "zerolinecolor": "white"
           },
           "zaxis": {
            "backgroundcolor": "#E5ECF6",
            "gridcolor": "white",
            "gridwidth": 2,
            "linecolor": "white",
            "showbackground": true,
            "ticks": "",
            "zerolinecolor": "white"
           }
          },
          "shapedefaults": {
           "line": {
            "color": "#2a3f5f"
           }
          },
          "ternary": {
           "aaxis": {
            "gridcolor": "white",
            "linecolor": "white",
            "ticks": ""
           },
           "baxis": {
            "gridcolor": "white",
            "linecolor": "white",
            "ticks": ""
           },
           "bgcolor": "#E5ECF6",
           "caxis": {
            "gridcolor": "white",
            "linecolor": "white",
            "ticks": ""
           }
          },
          "title": {
           "x": 0.05
          },
          "xaxis": {
           "automargin": true,
           "gridcolor": "white",
           "linecolor": "white",
           "ticks": "",
           "title": {
            "standoff": 15
           },
           "zerolinecolor": "white",
           "zerolinewidth": 2
          },
          "yaxis": {
           "automargin": true,
           "gridcolor": "white",
           "linecolor": "white",
           "ticks": "",
           "title": {
            "standoff": 15
           },
           "zerolinecolor": "white",
           "zerolinewidth": 2
          }
         }
        },
        "title": {
         "text": "Random Forest Feature Importances"
        },
        "xaxis": {
         "anchor": "y",
         "autorange": true,
         "domain": [
          0,
          1
         ],
         "range": [
          0,
          0.46404069942252457
         ],
         "title": {
          "text": "x"
         },
         "type": "linear"
        },
        "yaxis": {
         "anchor": "x",
         "autorange": true,
         "domain": [
          0,
          1
         ],
         "range": [
          -0.5,
          23.5
         ],
         "title": {
          "text": "y"
         },
         "type": "category"
        }
       }
      },
      "image/png": "[encoded data removed]",
      "text/html": [
       "<div>                            <div id=\"1c524350-b57b-48c5-ba31-d29fef3e5499\" class=\"plotly-graph-div\" style=\"height:700px; width:100%;\"></div>            <script type=\"text/javascript\">                require([\"plotly\"], function(Plotly) {                    window.PLOTLYENV=window.PLOTLYENV || {};                                    if (document.getElementById(\"1c524350-b57b-48c5-ba31-d29fef3e5499\")) {                    Plotly.newPlot(                        \"1c524350-b57b-48c5-ba31-d29fef3e5499\",                        [{\"alignmentgroup\": \"True\", \"customdata\": [[0.44083866445139835], [0.08692239336794269], [0.07736767030162295], [0.0770891944370221], [0.05472255736009109], [0.04754658813864012], [0.042277339441043796], [0.026210727570361143], [0.02526017598242325], [0.024413184688186807], [0.013733582357926662], [0.012455830129562808], [0.010160041498239004], [0.009716907166446968], [0.00965054257633422], [0.008631362977476444], [0.007067245817147036], [0.006636787389836623], [0.005792553102419448], [0.003982762699995039], [0.0033019727284039676], [0.0030680696872647626], [0.002391115481317864], [0.0007627306488966969]], \"hovertemplate\": \"<b>%{hovertext}</b><br><br>x=%{x}<br>y=%{y}<extra></extra>\", \"hovertext\": [0.0770891944370221, 0.02526017598242325, 0.0030680696872647626, 0.010160041498239004, 0.05472255736009109, 0.026210727570361143, 0.013733582357926662, 0.008631362977476444, 0.08692239336794269, 0.042277339441043796, 0.44083866445139835, 0.005792553102419448, 0.002391115481317864, 0.006636787389836623, 0.024413184688186807, 0.009716907166446968, 0.003982762699995039, 0.012455830129562808, 0.00965054257633422, 0.0007627306488966969, 0.0033019727284039676, 0.07736767030162295, 0.007067245817147036, 0.04754658813864012], \"legendgroup\": \"\", \"marker\": {\"color\": \"#636efa\"}, \"name\": \"\", \"offsetgroup\": \"\", \"orientation\": \"h\", \"showlegend\": false, \"textposition\": \"auto\", \"type\": \"bar\", \"x\": [0.0770891944370221, 0.02526017598242325, 0.0030680696872647626, 0.010160041498239004, 0.05472255736009109, 0.026210727570361143, 0.013733582357926662, 0.008631362977476444, 0.08692239336794269, 0.042277339441043796, 0.44083866445139835, 0.005792553102419448, 0.002391115481317864, 0.006636787389836623, 0.024413184688186807, 0.009716907166446968, 0.003982762699995039, 0.012455830129562808, 0.00965054257633422, 0.0007627306488966969, 0.0033019727284039676, 0.07736767030162295, 0.007067245817147036, 0.04754658813864012], \"xaxis\": \"x\", \"y\": [\"body_length\", \"channels\", \"fb_published\", \"has_logo\", \"name_length\", \"org_facebook\", \"org_twitter\", \"show_map\", \"user_age\", \"user_type\", \"previous_payout0\", \"has_header_0.0\", \"has_header_1.0\", \"has_header_nan\", \"yahoo\", \"is_fr\", \"is_org\", \"delivery_method_0.0\", \"delivery_method_1.0\", \"delivery_method_3.0\", \"delivery_method_nan\", \"ticket_cost\", \"ticket_availability\", \"ticket_quant_total\"], \"yaxis\": \"y\"}],                        {\"barmode\": \"relative\", \"height\": 700, \"legend\": {\"tracegroupgap\": 0}, \"template\": {\"data\": {\"bar\": [{\"error_x\": {\"color\": \"#2a3f5f\"}, \"error_y\": {\"color\": \"#2a3f5f\"}, \"marker\": {\"line\": {\"color\": \"#E5ECF6\", \"width\": 0.5}}, \"type\": \"bar\"}], \"barpolar\": [{\"marker\": {\"line\": {\"color\": \"#E5ECF6\", \"width\": 0.5}}, \"type\": \"barpolar\"}], \"carpet\": [{\"aaxis\": {\"endlinecolor\": \"#2a3f5f\", \"gridcolor\": \"white\", \"linecolor\": \"white\", \"minorgridcolor\": \"white\", \"startlinecolor\": \"#2a3f5f\"}, \"baxis\": {\"endlinecolor\": \"#2a3f5f\", \"gridcolor\": \"white\", \"linecolor\": \"white\", \"minorgridcolor\": \"white\", \"startlinecolor\": \"#2a3f5f\"}, \"type\": \"carpet\"}], \"choropleth\": [{\"colorbar\": {\"outlinewidth\": 0, \"ticks\": \"\"}, \"type\": \"choropleth\"}], \"contour\": [{\"colorbar\": {\"outlinewidth\": 0, \"ticks\": \"\"}, \"colorscale\": [[0.0, \"#0d0887\"], [0.1111111111111111, \"#46039f\"], [0.2222222222222222, \"#7201a8\"], [0.3333333333333333, \"#9c179e\"], [0.4444444444444444, \"#bd3786\"], [0.5555555555555556, \"#d8576b\"], [0.6666666666666666, \"#ed7953\"], [0.7777777777777778, \"#fb9f3a\"], [0.8888888888888888, \"#fdca26\"], [1.0, \"#f0f921\"]], \"type\": \"contour\"}], \"contourcarpet\": [{\"colorbar\": {\"outlinewidth\": 0, \"ticks\": \"\"}, \"type\": \"contourcarpet\"}], \"heatmap\": [{\"colorbar\": {\"outlinewidth\": 0, \"ticks\": \"\"}, \"colorscale\": [[0.0, \"#0d0887\"], [0.1111111111111111, \"#46039f\"], [0.2222222222222222, \"#7201a8\"], [0.3333333333333333, \"#9c179e\"], [0.4444444444444444, \"#bd3786\"], [0.5555555555555556, \"#d8576b\"], [0.6666666666666666, \"#ed7953\"], [0.7777777777777778, \"#fb9f3a\"], [0.8888888888888888, \"#fdca26\"], [1.0, \"#f0f921\"]], \"type\": \"heatmap\"}], \"heatmapgl\": [{\"colorbar\": {\"outlinewidth\": 0, \"ticks\": \"\"}, \"colorscale\": [[0.0, \"#0d0887\"], [0.1111111111111111, \"#46039f\"], [0.2222222222222222, \"#7201a8\"], [0.3333333333333333, \"#9c179e\"], [0.4444444444444444, \"#bd3786\"], [0.5555555555555556, \"#d8576b\"], [0.6666666666666666, \"#ed7953\"], [0.7777777777777778, \"#fb9f3a\"], [0.8888888888888888, \"#fdca26\"], [1.0, \"#f0f921\"]], \"type\": \"heatmapgl\"}], \"histogram\": [{\"marker\": {\"colorbar\": {\"outlinewidth\": 0, \"ticks\": \"\"}}, \"type\": \"histogram\"}], \"histogram2d\": [{\"colorbar\": {\"outlinewidth\": 0, \"ticks\": \"\"}, \"colorscale\": [[0.0, \"#0d0887\"], [0.1111111111111111, \"#46039f\"], [0.2222222222222222, \"#7201a8\"], [0.3333333333333333, \"#9c179e\"], [0.4444444444444444, \"#bd3786\"], [0.5555555555555556, \"#d8576b\"], [0.6666666666666666, \"#ed7953\"], [0.7777777777777778, \"#fb9f3a\"], [0.8888888888888888, \"#fdca26\"], [1.0, \"#f0f921\"]], \"type\": \"histogram2d\"}], \"histogram2dcontour\": [{\"colorbar\": {\"outlinewidth\": 0, \"ticks\": \"\"}, \"colorscale\": [[0.0, \"#0d0887\"], [0.1111111111111111, \"#46039f\"], [0.2222222222222222, \"#7201a8\"], [0.3333333333333333, \"#9c179e\"], [0.4444444444444444, \"#bd3786\"], [0.5555555555555556, \"#d8576b\"], [0.6666666666666666, \"#ed7953\"], [0.7777777777777778, \"#fb9f3a\"], [0.8888888888888888, \"#fdca26\"], [1.0, \"#f0f921\"]], \"type\": \"histogram2dcontour\"}], \"mesh3d\": [{\"colorbar\": {\"outlinewidth\": 0, \"ticks\": \"\"}, \"type\": \"mesh3d\"}], \"parcoords\": [{\"line\": {\"colorbar\": {\"outlinewidth\": 0, \"ticks\": \"\"}}, \"type\": \"parcoords\"}], \"pie\": [{\"automargin\": true, \"type\": \"pie\"}], \"scatter\": [{\"marker\": {\"colorbar\": {\"outlinewidth\": 0, \"ticks\": \"\"}}, \"type\": \"scatter\"}], \"scatter3d\": [{\"line\": {\"colorbar\": {\"outlinewidth\": 0, \"ticks\": \"\"}}, \"marker\": {\"colorbar\": {\"outlinewidth\": 0, \"ticks\": \"\"}}, \"type\": \"scatter3d\"}], \"scattercarpet\": [{\"marker\": {\"colorbar\": {\"outlinewidth\": 0, \"ticks\": \"\"}}, \"type\": \"scattercarpet\"}], \"scattergeo\": [{\"marker\": {\"colorbar\": {\"outlinewidth\": 0, \"ticks\": \"\"}}, \"type\": \"scattergeo\"}], \"scattergl\": [{\"marker\": {\"colorbar\": {\"outlinewidth\": 0, \"ticks\": \"\"}}, \"type\": \"scattergl\"}], \"scattermapbox\": [{\"marker\": {\"colorbar\": {\"outlinewidth\": 0, \"ticks\": \"\"}}, \"type\": \"scattermapbox\"}], \"scatterpolar\": [{\"marker\": {\"colorbar\": {\"outlinewidth\": 0, \"ticks\": \"\"}}, \"type\": \"scatterpolar\"}], \"scatterpolargl\": [{\"marker\": {\"colorbar\": {\"outlinewidth\": 0, \"ticks\": \"\"}}, \"type\": \"scatterpolargl\"}], \"scatterternary\": [{\"marker\": {\"colorbar\": {\"outlinewidth\": 0, \"ticks\": \"\"}}, \"type\": \"scatterternary\"}], \"surface\": [{\"colorbar\": {\"outlinewidth\": 0, \"ticks\": \"\"}, \"colorscale\": [[0.0, \"#0d0887\"], [0.1111111111111111, \"#46039f\"], [0.2222222222222222, \"#7201a8\"], [0.3333333333333333, \"#9c179e\"], [0.4444444444444444, \"#bd3786\"], [0.5555555555555556, \"#d8576b\"], [0.6666666666666666, \"#ed7953\"], [0.7777777777777778, \"#fb9f3a\"], [0.8888888888888888, \"#fdca26\"], [1.0, \"#f0f921\"]], \"type\": \"surface\"}], \"table\": [{\"cells\": {\"fill\": {\"color\": \"#EBF0F8\"}, \"line\": {\"color\": \"white\"}}, \"header\": {\"fill\": {\"color\": \"#C8D4E3\"}, \"line\": {\"color\": \"white\"}}, \"type\": \"table\"}]}, \"layout\": {\"annotationdefaults\": {\"arrowcolor\": \"#2a3f5f\", \"arrowhead\": 0, \"arrowwidth\": 1}, \"coloraxis\": {\"colorbar\": {\"outlinewidth\": 0, \"ticks\": \"\"}}, \"colorscale\": {\"diverging\": [[0, \"#8e0152\"], [0.1, \"#c51b7d\"], [0.2, \"#de77ae\"], [0.3, \"#f1b6da\"], [0.4, \"#fde0ef\"], [0.5, \"#f7f7f7\"], [0.6, \"#e6f5d0\"], [0.7, \"#b8e186\"], [0.8, \"#7fbc41\"], [0.9, \"#4d9221\"], [1, \"#276419\"]], \"sequential\": [[0.0, \"#0d0887\"], [0.1111111111111111, \"#46039f\"], [0.2222222222222222, \"#7201a8\"], [0.3333333333333333, \"#9c179e\"], [0.4444444444444444, \"#bd3786\"], [0.5555555555555556, \"#d8576b\"], [0.6666666666666666, \"#ed7953\"], [0.7777777777777778, \"#fb9f3a\"], [0.8888888888888888, \"#fdca26\"], [1.0, \"#f0f921\"]], \"sequentialminus\": [[0.0, \"#0d0887\"], [0.1111111111111111, \"#46039f\"], [0.2222222222222222, \"#7201a8\"], [0.3333333333333333, \"#9c179e\"], [0.4444444444444444, \"#bd3786\"], [0.5555555555555556, \"#d8576b\"], [0.6666666666666666, \"#ed7953\"], [0.7777777777777778, \"#fb9f3a\"], [0.8888888888888888, \"#fdca26\"], [1.0, \"#f0f921\"]]}, \"colorway\": [\"#636efa\", \"#EF553B\", \"#00cc96\", \"#ab63fa\", \"#FFA15A\", \"#19d3f3\", \"#FF6692\", \"#B6E880\", \"#FF97FF\", \"#FECB52\"], \"font\": {\"color\": \"#2a3f5f\"}, \"geo\": {\"bgcolor\": \"white\", \"lakecolor\": \"white\", \"landcolor\": \"#E5ECF6\", \"showlakes\": true, \"showland\": true, \"subunitcolor\": \"white\"}, \"hoverlabel\": {\"align\": \"left\"}, \"hovermode\": \"closest\", \"mapbox\": {\"style\": \"light\"}, \"paper_bgcolor\": \"white\", \"plot_bgcolor\": \"#E5ECF6\", \"polar\": {\"angularaxis\": {\"gridcolor\": \"white\", \"linecolor\": \"white\", \"ticks\": \"\"}, \"bgcolor\": \"#E5ECF6\", \"radialaxis\": {\"gridcolor\": \"white\", \"linecolor\": \"white\", \"ticks\": \"\"}}, \"scene\": {\"xaxis\": {\"backgroundcolor\": \"#E5ECF6\", \"gridcolor\": \"white\", \"gridwidth\": 2, \"linecolor\": \"white\", \"showbackground\": true, \"ticks\": \"\", \"zerolinecolor\": \"white\"}, \"yaxis\": {\"backgroundcolor\": \"#E5ECF6\", \"gridcolor\": \"white\", \"gridwidth\": 2, \"linecolor\": \"white\", \"showbackground\": true, \"ticks\": \"\", \"zerolinecolor\": \"white\"}, \"zaxis\": {\"backgroundcolor\": \"#E5ECF6\", \"gridcolor\": \"white\", \"gridwidth\": 2, \"linecolor\": \"white\", \"showbackground\": true, \"ticks\": \"\", \"zerolinecolor\": \"white\"}}, \"shapedefaults\": {\"line\": {\"color\": \"#2a3f5f\"}}, \"ternary\": {\"aaxis\": {\"gridcolor\": \"white\", \"linecolor\": \"white\", \"ticks\": \"\"}, \"baxis\": {\"gridcolor\": \"white\", \"linecolor\": \"white\", \"ticks\": \"\"}, \"bgcolor\": \"#E5ECF6\", \"caxis\": {\"gridcolor\": \"white\", \"linecolor\": \"white\", \"ticks\": \"\"}}, \"title\": {\"x\": 0.05}, \"xaxis\": {\"automargin\": true, \"gridcolor\": \"white\", \"linecolor\": \"white\", \"ticks\": \"\", \"title\": {\"standoff\": 15}, \"zerolinecolor\": \"white\", \"zerolinewidth\": 2}, \"yaxis\": {\"automargin\": true, \"gridcolor\": \"white\", \"linecolor\": \"white\", \"ticks\": \"\", \"title\": {\"standoff\": 15}, \"zerolinecolor\": \"white\", \"zerolinewidth\": 2}}}, \"title\": {\"text\": \"Random Forest Feature Importances\"}, \"xaxis\": {\"anchor\": \"y\", \"domain\": [0.0, 1.0], \"title\": {\"text\": \"x\"}}, \"yaxis\": {\"anchor\": \"x\", \"domain\": [0.0, 1.0], \"title\": {\"text\": \"y\"}}},                        {\"responsive\": true}                    ).then(function(){\n",
       "                            \n",
       "var gd = document.getElementById('1c524350-b57b-48c5-ba31-d29fef3e5499');\n",
       "var x = new MutationObserver(function (mutations, observer) {{\n",
       "        var display = window.getComputedStyle(gd).display;\n",
       "        if (!display || display === 'none') {{\n",
       "            console.log([gd, 'removed!']);\n",
       "            Plotly.purge(gd);\n",
       "            observer.disconnect();\n",
       "        }}\n",
       "}});\n",
       "\n",
       "// Listen for the removal of the full notebook cells\n",
       "var notebookContainer = gd.closest('#notebook-container');\n",
       "if (notebookContainer) {{\n",
       "    x.observe(notebookContainer, {childList: true});\n",
       "}}\n",
       "\n",
       "// Listen for the clearing of the current output cell\n",
       "var outputEl = gd.closest('.output');\n",
       "if (outputEl) {{\n",
       "    x.observe(outputEl, {childList: true});\n",
       "}}\n",
       "\n",
       "                        })                };                });            </script>        </div>"
      ]
     },
     "metadata": {},
     "output_type": "display_data"
    }
   ],
   "source": [
    "bar = px.bar(data_frame=frame, x=feature_importance, y=labels, hover_name=feature_importance, orientation='h', hover_data={'value':False}, height=700, title=\"Random Forest Feature Importances\")\n",
    "bar.show()"
   ]
  },
  {
   "cell_type": "code",
   "execution_count": 643,
   "metadata": {},
   "outputs": [
    {
     "data": {
      "text/plain": [
       "<bound method BaseEstimator.get_params of RandomForestClassifier(bootstrap=False, max_depth=100, max_features='sqrt',\n",
       "                       n_estimators=500, n_jobs=-1, verbose=1)>"
      ]
     },
     "execution_count": 643,
     "metadata": {},
     "output_type": "execute_result"
    }
   ],
   "source": [
    "best_model.get_params"
   ]
  },
  {
   "cell_type": "code",
   "execution_count": 571,
   "metadata": {},
   "outputs": [
    {
     "name": "stderr",
     "output_type": "stream",
     "text": [
      "[Parallel(n_jobs=16)]: Using backend ThreadingBackend with 16 concurrent workers.\n",
      "[Parallel(n_jobs=16)]: Done  18 tasks      | elapsed:    0.0s\n",
      "[Parallel(n_jobs=16)]: Done 168 tasks      | elapsed:    0.0s\n",
      "[Parallel(n_jobs=16)]: Done 418 tasks      | elapsed:    0.1s\n",
      "[Parallel(n_jobs=16)]: Done 500 out of 500 | elapsed:    0.1s finished\n"
     ]
    }
   ],
   "source": [
    "predictions = best_model.predict(negxtest)"
   ]
  },
  {
   "cell_type": "code",
   "execution_count": 574,
   "metadata": {},
   "outputs": [
    {
     "data": {
      "text/plain": [
       "0.9315789473684211"
      ]
     },
     "execution_count": 574,
     "metadata": {},
     "output_type": "execute_result"
    }
   ],
   "source": [
    "f1_score(negytest, predictions)"
   ]
  },
  {
   "cell_type": "code",
   "execution_count": 580,
   "metadata": {},
   "outputs": [
    {
     "name": "stdout",
     "output_type": "stream",
     "text": [
      "              precision    recall  f1-score   support\n",
      "\n",
      "   Non-Fraud       0.99      1.00      0.99      1957\n",
      "       Fraud       0.95      0.91      0.93       194\n",
      "\n",
      "    accuracy                           0.99      2151\n",
      "   macro avg       0.97      0.95      0.96      2151\n",
      "weighted avg       0.99      0.99      0.99      2151\n",
      "\n"
     ]
    }
   ],
   "source": [
    "print(classification_report(negytest, predictions, target_names=['Non-Fraud', 'Fraud']))"
   ]
  },
  {
   "cell_type": "code",
   "execution_count": 587,
   "metadata": {},
   "outputs": [],
   "source": [
    "def auc_prc(estimator, X, y):\n",
    "    estimator.fit(X, y)\n",
    "    y_pred = estimator.oob_decision_function_[:, 1]\n",
    "    precision, recall, _ = precision_recall_curve(y, y_pred)\n",
    "    return auc(recall, precision)\n",
    "\n",
    "def getForestAccuracyCV(X, y):\n",
    "    clf = best_model\n",
    "    return np.mean(cross_val_score(clf, X, y, scoring=auc_prc, cv=3))"
   ]
  },
  {
   "cell_type": "markdown",
   "metadata": {},
   "source": [
    "### Pickle Model"
   ]
  },
  {
   "cell_type": "code",
   "execution_count": 699,
   "metadata": {},
   "outputs": [],
   "source": [
    "pickle_filename = \"bestRfModel.pkl\"  \n",
    "\n",
    "with open(pickle_filename, 'wb') as file:  \n",
    "    pickle.dump(best_model, file)"
   ]
  },
  {
   "cell_type": "markdown",
   "metadata": {},
   "source": [
    "### Unpickle Model - load back for use"
   ]
  },
  {
   "cell_type": "code",
   "execution_count": 700,
   "metadata": {},
   "outputs": [],
   "source": [
    "with open(pickle_filename, 'rb') as file:  \n",
    "    Pickled_RF_Model = pickle.load(file)"
   ]
  },
  {
   "cell_type": "markdown",
   "metadata": {},
   "source": [
    "- Test model with predictions to ensure it works"
   ]
  },
  {
   "cell_type": "code",
   "execution_count": 701,
   "metadata": {},
   "outputs": [
    {
     "name": "stderr",
     "output_type": "stream",
     "text": [
      "[Parallel(n_jobs=16)]: Using backend ThreadingBackend with 16 concurrent workers.\n",
      "[Parallel(n_jobs=16)]: Done  18 tasks      | elapsed:    0.0s\n",
      "[Parallel(n_jobs=16)]: Done 168 tasks      | elapsed:    0.0s\n",
      "[Parallel(n_jobs=16)]: Done 418 tasks      | elapsed:    0.1s\n",
      "[Parallel(n_jobs=16)]: Done 500 out of 500 | elapsed:    0.1s finished\n"
     ]
    }
   ],
   "source": [
    "pickled_preds = Pickled_RF_Model.predict(negxtest)"
   ]
  },
  {
   "cell_type": "code",
   "execution_count": 703,
   "metadata": {},
   "outputs": [
    {
     "name": "stdout",
     "output_type": "stream",
     "text": [
      "              precision    recall  f1-score   support\n",
      "\n",
      "   Non-Fraud       1.00      1.00      1.00      1957\n",
      "       Fraud       0.99      1.00      0.99       194\n",
      "\n",
      "    accuracy                           1.00      2151\n",
      "   macro avg       0.99      1.00      1.00      2151\n",
      "weighted avg       1.00      1.00      1.00      2151\n",
      "\n"
     ]
    }
   ],
   "source": [
    "print(classification_report(negytest, pickled_preds, target_names=['Non-Fraud', 'Fraud']))"
   ]
  },
  {
   "cell_type": "code",
   "execution_count": 706,
   "metadata": {},
   "outputs": [],
   "source": [
    "random_point = pd.Series(negxtest[100], name='data')\n",
    "random_point.to_csv('data/random_point.csv', index=False)"
   ]
  },
  {
   "cell_type": "markdown",
   "metadata": {},
   "source": [
    "### Results indicate minimal gain for increasing n_estimators beyond 500"
   ]
  },
  {
   "cell_type": "code",
   "execution_count": 435,
   "metadata": {},
   "outputs": [
    {
     "name": "stderr",
     "output_type": "stream",
     "text": [
      "[Parallel(n_jobs=8)]: Using backend LokyBackend with 8 concurrent workers.\n",
      "[Parallel(n_jobs=8)]: Done   6 out of  10 | elapsed:    2.5s remaining:    1.6s\n",
      "[Parallel(n_jobs=8)]: Done  10 out of  10 | elapsed:    3.4s finished\n",
      "[Parallel(n_jobs=8)]: Using backend LokyBackend with 8 concurrent workers.\n",
      "[Parallel(n_jobs=8)]: Done   6 out of  10 | elapsed:    2.4s remaining:    1.6s\n",
      "[Parallel(n_jobs=8)]: Done  10 out of  10 | elapsed:    3.4s finished\n",
      "[Parallel(n_jobs=8)]: Using backend LokyBackend with 8 concurrent workers.\n",
      "[Parallel(n_jobs=8)]: Done   6 out of  10 | elapsed:    2.5s remaining:    1.7s\n",
      "[Parallel(n_jobs=8)]: Done  10 out of  10 | elapsed:    3.5s finished\n"
     ]
    }
   ],
   "source": [
    "scores = []\n",
    "for value in np.arange(500, 1501, 500):\n",
    "    rf_model = RandomForestClassifier(n_estimators=value, n_jobs=-1, verbose=1)\n",
    "    score = np.mean(cross_val_score(rf_time, timextrain, timeytrain, scoring='f1', cv=10, verbose=1, n_jobs=8))\n",
    "    scores.append(score)"
   ]
  },
  {
   "cell_type": "code",
   "execution_count": 436,
   "metadata": {},
   "outputs": [
    {
     "data": {
      "text/plain": [
       "[<matplotlib.lines.Line2D at 0x7fe5d7e9b970>]"
      ]
     },
     "execution_count": 436,
     "metadata": {},
     "output_type": "execute_result"
    },
    {
     "data": {
      "image/png": "[encoded data removed]",
      "text/plain": [
       "<Figure size 1440x720 with 1 Axes>"
      ]
     },
     "metadata": {
      "needs_background": "light"
     },
     "output_type": "display_data"
    }
   ],
   "source": [
    "plt.plot(np.arange(500, 1600, 500), scores)"
   ]
  },
  {
   "cell_type": "markdown",
   "metadata": {},
   "source": [
    "### Reduced Features"
   ]
  },
  {
   "cell_type": "code",
   "execution_count": 711,
   "metadata": {},
   "outputs": [],
   "source": [
    "reduced_features = ['body_length', 'channels', 'fb_published', 'name_length','org_facebook', 'user_age', 'user_type',\n",
    "                    'previous_payout0', 'has_header_1.0','yahoo', 'is_org','delivery_method_3.0','ticket_cost', 'ticket_quant_total', 'Label']"
   ]
  },
  {
   "cell_type": "code",
   "execution_count": 712,
   "metadata": {},
   "outputs": [],
   "source": [
    "reduced = neg_value_cols.loc[:, reduced_features]"
   ]
  },
  {
   "cell_type": "code",
   "execution_count": 713,
   "metadata": {},
   "outputs": [],
   "source": [
    "Xreduced = reduced.drop('Label', axis=1).values\n",
    "yreduced = reduced['Label'].values\n",
    "xredtrain, xredtest, yredtrain, yredtest = train_test_split(Xreduced, yreduced, stratify=yreduced)"
   ]
  },
  {
   "cell_type": "code",
   "execution_count": 731,
   "metadata": {},
   "outputs": [],
   "source": [
    "rf_reduced = RandomForestClassifier(bootstrap=False, max_depth=100, max_features='sqrt', n_estimators=600, verbose=1, random_state=42)"
   ]
  },
  {
   "cell_type": "code",
   "execution_count": 728,
   "metadata": {},
   "outputs": [
    {
     "name": "stderr",
     "output_type": "stream",
     "text": [
      "[Parallel(n_jobs=1)]: Using backend SequentialBackend with 1 concurrent workers.\n",
      "[Parallel(n_jobs=1)]: Using backend SequentialBackend with 1 concurrent workers.\n",
      "[Parallel(n_jobs=1)]: Done 600 out of 600 | elapsed:    2.6s finished\n",
      "[Parallel(n_jobs=1)]: Using backend SequentialBackend with 1 concurrent workers.\n",
      "[Parallel(n_jobs=1)]: Done 600 out of 600 | elapsed:    0.8s finished\n",
      "[Parallel(n_jobs=1)]: Using backend SequentialBackend with 1 concurrent workers.\n",
      "[Parallel(n_jobs=1)]: Done 600 out of 600 | elapsed:    2.6s finished\n",
      "[Parallel(n_jobs=1)]: Using backend SequentialBackend with 1 concurrent workers.\n",
      "[Parallel(n_jobs=1)]: Done 600 out of 600 | elapsed:    0.8s finished\n",
      "[Parallel(n_jobs=1)]: Using backend SequentialBackend with 1 concurrent workers.\n",
      "[Parallel(n_jobs=1)]: Done 600 out of 600 | elapsed:    2.6s finished\n",
      "[Parallel(n_jobs=1)]: Using backend SequentialBackend with 1 concurrent workers.\n",
      "[Parallel(n_jobs=1)]: Done 600 out of 600 | elapsed:    0.8s finished\n",
      "[Parallel(n_jobs=1)]: Using backend SequentialBackend with 1 concurrent workers.\n",
      "[Parallel(n_jobs=1)]: Done 600 out of 600 | elapsed:    2.6s finished\n",
      "[Parallel(n_jobs=1)]: Using backend SequentialBackend with 1 concurrent workers.\n",
      "[Parallel(n_jobs=1)]: Done 600 out of 600 | elapsed:    0.8s finished\n",
      "[Parallel(n_jobs=1)]: Using backend SequentialBackend with 1 concurrent workers.\n",
      "[Parallel(n_jobs=1)]: Done 600 out of 600 | elapsed:    2.6s finished\n",
      "[Parallel(n_jobs=1)]: Using backend SequentialBackend with 1 concurrent workers.\n",
      "[Parallel(n_jobs=1)]: Done 600 out of 600 | elapsed:    0.8s finished\n",
      "[Parallel(n_jobs=1)]: Done   5 out of   5 | elapsed:   21.3s finished\n"
     ]
    },
    {
     "data": {
      "text/plain": [
       "0.8990869522404322"
      ]
     },
     "execution_count": 728,
     "metadata": {},
     "output_type": "execute_result"
    }
   ],
   "source": [
    "np.mean(cross_val_score(rf_reduced, xredtrain, yredtrain, scoring=auc_prc, cv=5, verbose=1))"
   ]
  },
  {
   "cell_type": "code",
   "execution_count": 732,
   "metadata": {},
   "outputs": [
    {
     "name": "stderr",
     "output_type": "stream",
     "text": [
      "[Parallel(n_jobs=1)]: Using backend SequentialBackend with 1 concurrent workers.\n",
      "[Parallel(n_jobs=1)]: Done 600 out of 600 | elapsed:    4.7s finished\n"
     ]
    },
    {
     "data": {
      "text/plain": [
       "RandomForestClassifier(bootstrap=False, max_depth=100, max_features='sqrt',\n",
       "                       n_estimators=600, random_state=42, verbose=1)"
      ]
     },
     "execution_count": 732,
     "metadata": {},
     "output_type": "execute_result"
    }
   ],
   "source": [
    "rf_reduced.fit(xredtrain, yredtrain)"
   ]
  },
  {
   "cell_type": "code",
   "execution_count": 733,
   "metadata": {},
   "outputs": [
    {
     "name": "stdout",
     "output_type": "stream",
     "text": [
      "              precision    recall  f1-score   support\n",
      "\n",
      "   Non-Fraud       0.99      0.99      0.99      3262\n",
      "       Fraud       0.94      0.85      0.89       323\n",
      "\n",
      "    accuracy                           0.98      3585\n",
      "   macro avg       0.96      0.92      0.94      3585\n",
      "weighted avg       0.98      0.98      0.98      3585\n",
      "\n"
     ]
    },
    {
     "name": "stderr",
     "output_type": "stream",
     "text": [
      "[Parallel(n_jobs=1)]: Using backend SequentialBackend with 1 concurrent workers.\n",
      "[Parallel(n_jobs=1)]: Done 600 out of 600 | elapsed:    0.2s finished\n"
     ]
    }
   ],
   "source": [
    "reduced_preds = rf_reduced.predict(xredtest)\n",
    "print(classification_report(yredtest, reduced_preds, target_names=['Non-Fraud', 'Fraud']))"
   ]
  },
  {
   "cell_type": "markdown",
   "metadata": {},
   "source": [
    "### Save final feature columns to csv"
   ]
  },
  {
   "cell_type": "code",
   "execution_count": 359,
   "metadata": {},
   "outputs": [],
   "source": [
    "filled_nas.to_csv('data/final_columns.csv', index=False)"
   ]
  },
  {
   "cell_type": "code",
   "execution_count": 455,
   "metadata": {},
   "outputs": [],
   "source": [
    "dp = {\"org_name\": \"DREAM Project Foundation\", \"name_length\": 51, \"event_end\": 1363928400, \"venue_latitude\": 42.9630578, \"event_published\": 1361978554.0, \"user_type\": 1, \"channels\": 11, \"currency\": \"USD\", \"org_desc\": \"\", \"event_created\": 1361291193, \"event_start\": 1363914000, \"has_logo\": 1, \"email_domain\": \"dreamprojectfoundation.org\", \"user_created\": 1361290985, \"payee_name\": \"\", \"payout_type\": \"ACH\", \"venue_name\": \"Grand Rapids Brewing Co\", \"sale_duration2\": 30, \"venue_address\": \"1 Ionia Avenue Southwest\", \"approx_payout_date\": 1364360400, \"org_twitter\": 13.0, \"gts\": 537.4, \"listed\": \"y\", \"ticket_types\": [{\"event_id\": 5558108, \"cost\": 50.0, \"availability\": 1, \"quantity_total\": 125, \"quantity_sold\": 10}], \"org_facebook\": 13.0, \"num_order\": 7, \"user_age\": 0, \"body_length\": 1474, \"description\": \"<p><span style=\\\"font-size: medium; font-family: 'book antiqua', palatino;\\\">Come enjoy a night of music and beer tasting at the new Grand Rapids Brewery while we make an effort to create awareness and raise funds for Dream Project Foundation. The night will include music, Grand Rapids Brewery's finest beer to sample, heavy hors d'oeuvre's and silent auction of artwork directly from the young artists of Dream House.</span></p>\\r\\n<p>&nbsp;</p>\\r\\n<p>Who We Are:</p>\\r\\n<p>DREAM Project Foundation is a small American 501c3 registered non-profit organization, working to break the cycle of human trafficking through community development. As a small, grass roots organization, we focus primarily on prevention and protection which begins with shelter and continues with education, so those vulnerable are aware of the dangers and able to protect themselves.</p>\\r\\n<p>DREAM Project Foundation was officially founded in 2011 to support the DREAM House children's home based in Thailand on the border of Myanar (Burma). While helping children stay safe from the trafficing is the heart of our mission, we know that in order to end trafficking it must be a collaborative effort for all people and communities.&nbsp;</p>\\r\\n<p>We at DREAM Project Foundation are determined to fight against this atrocity, focusing on the factors that cause people to be vulnerable targets to traffickers, with most of our work based in SE Asia as it is a major international hub of human trafficking.</p>\", \"object_id\": 5558108, \"venue_longitude\": -85.6706147, \"venue_country\": \"US\", \"previous_payouts\": [{\"name\": \"\", \"created\": \"2013-04-19 03:25:42\", \"country\": \"US\", \"state\": \"\", \"amount\": 500.0, \"address\": \"\", \"zip_code\": \"\", \"event\": 5558108, \"uid\": 52778636}], \"sale_duration\": 22.0, \"num_payouts\": 0, \"name\": \"DREAM Project Foundation - Taste of a Better Future\", \"country\": \"US\", \"delivery_method\": 0.0, \"has_analytics\": 0, \"fb_published\": 0, \"venue_state\": \"MI\", \"has_header\": np.nan, \"show_map\": 1}"
   ]
  },
  {
   "cell_type": "code",
   "execution_count": 442,
   "metadata": {},
   "outputs": [],
   "source": [
    "dp.drop(['org_name', 'event_end', 'venue_latitude', 'event_published', 'currency', 'org_desc', 'event_created', 'event_start', 'user_created', 'payee_name', 'payout_type', 'venue_name', 'sale_duration2', 'venue_address', 'approx_payout_date', 'num_order', 'gts', 'listed', 'description', 'object_id', 'venue_longitude', 'sale_duration', 'name', 'country', 'venue_state'], axis=1, inplace=True)"
   ]
  },
  {
   "cell_type": "code",
   "execution_count": 452,
   "metadata": {},
   "outputs": [],
   "source": [
    "order = dp.loc[:, ['body_length', 'channels', 'fb_published', 'has_logo', 'name_length', 'org_facebook', 'org_twitter', 'show_map', 'user_age', 'user_type']]"
   ]
  },
  {
   "cell_type": "code",
   "execution_count": 454,
   "metadata": {},
   "outputs": [],
   "source": [
    "def input_pipeline(entry):\n",
    "    df = pd.DataFrame(entry)\n",
    "    df.drop(['org_name', 'event_end', 'venue_latitude', 'event_published', 'currency', 'org_desc', 'event_created', 'event_start', \n",
    "               'user_created', 'payee_name', 'payout_type', 'venue_name', 'sale_duration2', 'venue_address', 'approx_payout_date', \n",
    "               'num_order', 'gts', 'listed', 'description', 'object_id', 'venue_longitude', 'sale_duration', 'name', 'country', 'venue_state'], axis=1, inplace=True)\n",
    "    return df"
   ]
  },
  {
   "cell_type": "code",
   "execution_count": 456,
   "metadata": {},
   "outputs": [
    {
     "data": {
      "text/html": [
       "<div>\n",
       "<style scoped>\n",
       "    .dataframe tbody tr th:only-of-type {\n",
       "        vertical-align: middle;\n",
       "    }\n",
       "\n",
       "    .dataframe tbody tr th {\n",
       "        vertical-align: top;\n",
       "    }\n",
       "\n",
       "    .dataframe thead th {\n",
       "        text-align: right;\n",
       "    }\n",
       "</style>\n",
       "<table border=\"1\" class=\"dataframe\">\n",
       "  <thead>\n",
       "    <tr style=\"text-align: right;\">\n",
       "      <th></th>\n",
       "      <th>name_length</th>\n",
       "      <th>user_type</th>\n",
       "      <th>channels</th>\n",
       "      <th>has_logo</th>\n",
       "      <th>email_domain</th>\n",
       "      <th>org_twitter</th>\n",
       "      <th>ticket_types</th>\n",
       "      <th>org_facebook</th>\n",
       "      <th>user_age</th>\n",
       "      <th>body_length</th>\n",
       "      <th>venue_country</th>\n",
       "      <th>previous_payouts</th>\n",
       "      <th>num_payouts</th>\n",
       "      <th>delivery_method</th>\n",
       "      <th>has_analytics</th>\n",
       "      <th>fb_published</th>\n",
       "      <th>has_header</th>\n",
       "      <th>show_map</th>\n",
       "    </tr>\n",
       "  </thead>\n",
       "  <tbody>\n",
       "    <tr>\n",
       "      <th>0</th>\n",
       "      <td>51</td>\n",
       "      <td>1</td>\n",
       "      <td>11</td>\n",
       "      <td>1</td>\n",
       "      <td>dreamprojectfoundation.org</td>\n",
       "      <td>13.0</td>\n",
       "      <td>{'event_id': 5558108, 'cost': 50.0, 'availability': 1, 'quantity_total': 125, 'quantity_sold': 10}</td>\n",
       "      <td>13.0</td>\n",
       "      <td>0</td>\n",
       "      <td>1474</td>\n",
       "      <td>US</td>\n",
       "      <td>{'name': '', 'created': '2013-04-19 03:25:42', 'country': 'US', 'state': '', 'amount': 500.0, 'address': '', 'zip_code': '', 'event': 5558108, 'uid': 52778636}</td>\n",
       "      <td>0</td>\n",
       "      <td>0.0</td>\n",
       "      <td>0</td>\n",
       "      <td>0</td>\n",
       "      <td>NaN</td>\n",
       "      <td>1</td>\n",
       "    </tr>\n",
       "  </tbody>\n",
       "</table>\n",
       "</div>"
      ],
      "text/plain": [
       "   name_length  user_type  channels  has_logo                email_domain  \\\n",
       "0           51          1        11         1  dreamprojectfoundation.org   \n",
       "\n",
       "   org_twitter  \\\n",
       "0         13.0   \n",
       "\n",
       "                                                                                         ticket_types  \\\n",
       "0  {'event_id': 5558108, 'cost': 50.0, 'availability': 1, 'quantity_total': 125, 'quantity_sold': 10}   \n",
       "\n",
       "   org_facebook  user_age  body_length venue_country  \\\n",
       "0          13.0         0         1474            US   \n",
       "\n",
       "                                                                                                                                                  previous_payouts  \\\n",
       "0  {'name': '', 'created': '2013-04-19 03:25:42', 'country': 'US', 'state': '', 'amount': 500.0, 'address': '', 'zip_code': '', 'event': 5558108, 'uid': 52778636}   \n",
       "\n",
       "   num_payouts  delivery_method  has_analytics  fb_published  has_header  \\\n",
       "0            0              0.0              0             0         NaN   \n",
       "\n",
       "   show_map  \n",
       "0         1  "
      ]
     },
     "execution_count": 456,
     "metadata": {},
     "output_type": "execute_result"
    }
   ],
   "source": [
    "input_pipeline(dp)"
   ]
  },
  {
   "cell_type": "code",
   "execution_count": 494,
   "metadata": {},
   "outputs": [],
   "source": [
    "grantsdata = pd.read_csv('data/fraud_data.csv', index_col=0)"
   ]
  },
  {
   "cell_type": "code",
   "execution_count": 495,
   "metadata": {},
   "outputs": [],
   "source": [
    "added_data = grantsdata.drop(['event_id', 'ticket_quant_sold'], axis=1)"
   ]
  },
  {
   "cell_type": "code",
   "execution_count": 496,
   "metadata": {},
   "outputs": [],
   "source": [
    "ticket_data = pd.concat([no_time, added_data], axis=1)"
   ]
  },
  {
   "cell_type": "code",
   "execution_count": 522,
   "metadata": {},
   "outputs": [],
   "source": [
    "neg_value_cols = ticket_data"
   ]
  },
  {
   "cell_type": "code",
   "execution_count": 532,
   "metadata": {},
   "outputs": [
    {
     "data": {
      "text/html": [
       "<div>\n",
       "<style scoped>\n",
       "    .dataframe tbody tr th:only-of-type {\n",
       "        vertical-align: middle;\n",
       "    }\n",
       "\n",
       "    .dataframe tbody tr th {\n",
       "        vertical-align: top;\n",
       "    }\n",
       "\n",
       "    .dataframe thead th {\n",
       "        text-align: right;\n",
       "    }\n",
       "</style>\n",
       "<table border=\"1\" class=\"dataframe\">\n",
       "  <thead>\n",
       "    <tr style=\"text-align: right;\">\n",
       "      <th></th>\n",
       "      <th>ticket_cost</th>\n",
       "      <th>ticket_availability</th>\n",
       "      <th>ticket_quant_total</th>\n",
       "    </tr>\n",
       "  </thead>\n",
       "  <tbody>\n",
       "    <tr>\n",
       "      <th>0</th>\n",
       "      <td>208.333333</td>\n",
       "      <td>1.0</td>\n",
       "      <td>306.666667</td>\n",
       "    </tr>\n",
       "    <tr>\n",
       "      <th>1</th>\n",
       "      <td>35.000000</td>\n",
       "      <td>1.0</td>\n",
       "      <td>50.000000</td>\n",
       "    </tr>\n",
       "    <tr>\n",
       "      <th>2</th>\n",
       "      <td>93.510000</td>\n",
       "      <td>1.0</td>\n",
       "      <td>48.000000</td>\n",
       "    </tr>\n",
       "    <tr>\n",
       "      <th>3</th>\n",
       "      <td>13.666667</td>\n",
       "      <td>1.0</td>\n",
       "      <td>5000.000000</td>\n",
       "    </tr>\n",
       "    <tr>\n",
       "      <th>4</th>\n",
       "      <td>101.750000</td>\n",
       "      <td>1.0</td>\n",
       "      <td>33.000000</td>\n",
       "    </tr>\n",
       "    <tr>\n",
       "      <th>...</th>\n",
       "      <td>...</td>\n",
       "      <td>...</td>\n",
       "      <td>...</td>\n",
       "    </tr>\n",
       "    <tr>\n",
       "      <th>14332</th>\n",
       "      <td>45.000000</td>\n",
       "      <td>1.0</td>\n",
       "      <td>400.000000</td>\n",
       "    </tr>\n",
       "    <tr>\n",
       "      <th>14333</th>\n",
       "      <td>43.250000</td>\n",
       "      <td>1.0</td>\n",
       "      <td>407.000000</td>\n",
       "    </tr>\n",
       "    <tr>\n",
       "      <th>14334</th>\n",
       "      <td>42.000000</td>\n",
       "      <td>1.0</td>\n",
       "      <td>29.600000</td>\n",
       "    </tr>\n",
       "    <tr>\n",
       "      <th>14335</th>\n",
       "      <td>79.330000</td>\n",
       "      <td>1.0</td>\n",
       "      <td>50.000000</td>\n",
       "    </tr>\n",
       "    <tr>\n",
       "      <th>14336</th>\n",
       "      <td>283.000000</td>\n",
       "      <td>1.0</td>\n",
       "      <td>20.000000</td>\n",
       "    </tr>\n",
       "  </tbody>\n",
       "</table>\n",
       "<p>14337 rows × 3 columns</p>\n",
       "</div>"
      ],
      "text/plain": [
       "       ticket_cost  ticket_availability  ticket_quant_total\n",
       "0       208.333333                  1.0          306.666667\n",
       "1        35.000000                  1.0           50.000000\n",
       "2        93.510000                  1.0           48.000000\n",
       "3        13.666667                  1.0         5000.000000\n",
       "4       101.750000                  1.0           33.000000\n",
       "...            ...                  ...                 ...\n",
       "14332    45.000000                  1.0          400.000000\n",
       "14333    43.250000                  1.0          407.000000\n",
       "14334    42.000000                  1.0           29.600000\n",
       "14335    79.330000                  1.0           50.000000\n",
       "14336   283.000000                  1.0           20.000000\n",
       "\n",
       "[14337 rows x 3 columns]"
      ]
     },
     "execution_count": 532,
     "metadata": {},
     "output_type": "execute_result"
    }
   ],
   "source": [
    "neg_value_cols.loc[:, 'ticket_cost':'ticket_quant_total'] = neg_value_cols.loc[:, 'ticket_cost':'ticket_quant_total'].fillna()"
   ]
  },
  {
   "cell_type": "markdown",
   "metadata": {},
   "source": [
    "### Fill Grant's NA values with -99 and save to csv"
   ]
  },
  {
   "cell_type": "code",
   "execution_count": 534,
   "metadata": {},
   "outputs": [],
   "source": [
    "neg_value_cols['ticket_cost'].fillna(-99,inplace=True)\n",
    "neg_value_cols['ticket_availability'].fillna(-99, inplace=True)\n",
    "neg_value_cols['ticket_quant_total'].fillna(-99, inplace=True)"
   ]
  },
  {
   "cell_type": "code",
   "execution_count": 583,
   "metadata": {},
   "outputs": [],
   "source": [
    "neg_value_cols.to_csv('data/final_features_with_Grant.csv', index=False)"
   ]
  },
  {
   "cell_type": "code",
   "execution_count": null,
   "metadata": {},
   "outputs": [],
   "source": [
    "pd.DataFrame.from_dict()"
   ]
  },
  {
   "cell_type": "code",
   "execution_count": 753,
   "metadata": {},
   "outputs": [],
   "source": [
    "from datetime import datetime\n",
    "stamp = datetime.now().timestamp()"
   ]
  },
  {
   "cell_type": "code",
   "execution_count": 754,
   "metadata": {},
   "outputs": [],
   "source": [
    "test = [0, 8790, 'test']"
   ]
  },
  {
   "cell_type": "code",
   "execution_count": 755,
   "metadata": {},
   "outputs": [],
   "source": [
    "test.insert(0, stamp)"
   ]
  },
  {
   "cell_type": "code",
   "execution_count": 756,
   "metadata": {},
   "outputs": [
    {
     "data": {
      "text/plain": [
       "[1608323014.884992, 0, 8790, 'test']"
      ]
     },
     "execution_count": 756,
     "metadata": {},
     "output_type": "execute_result"
    }
   ],
   "source": [
    "test"
   ]
  },
  {
   "cell_type": "code",
   "execution_count": null,
   "metadata": {},
   "outputs": [],
   "source": []
  }
 ],
 "metadata": {
  "kernelspec": {
   "display_name": "Python 3",
   "language": "python",
   "name": "python3"
  },
  "language_info": {
   "codemirror_mode": {
    "name": "ipython",
    "version": 3
   },
   "file_extension": ".py",
   "mimetype": "text/x-python",
   "name": "python",
   "nbconvert_exporter": "python",
   "pygments_lexer": "ipython3",
   "version": "3.8.3"
  }
 },
 "nbformat": 4,
 "nbformat_minor": 4
}
